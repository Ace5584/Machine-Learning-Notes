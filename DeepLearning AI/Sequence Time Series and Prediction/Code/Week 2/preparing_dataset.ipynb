{
  "nbformat": 4,
  "nbformat_minor": 0,
  "metadata": {
    "colab": {
      "name": "preparing-dataset.ipynb",
      "provenance": [],
      "collapsed_sections": []
    },
    "kernelspec": {
      "name": "python3",
      "display_name": "Python 3"
    }
  },
  "cells": [
    {
      "cell_type": "code",
      "metadata": {
        "id": "jMjIcXOpj66t"
      },
      "source": [
        "import tensorflow as tf\r\n",
        "import numpy as np\r\n",
        "import matplotlib.pyplot as plt"
      ],
      "execution_count": 1,
      "outputs": []
    },
    {
      "cell_type": "code",
      "metadata": {
        "colab": {
          "base_uri": "https://localhost:8080/"
        },
        "id": "mhuqCiuMkmoQ",
        "outputId": "be975af1-562e-4469-8b54-f243fbaf696b"
      },
      "source": [
        "dataset = tf.data.Dataset.range(10)\r\n",
        "dataset = dataset.window(5, shift=1, drop_remainder=True)\r\n",
        "dataset = dataset.flat_map(lambda window: window.batch(5))\r\n",
        "dataset = dataset.map(lambda window: (window[:-1], window[-1:]))\r\n",
        "dataset = dataset.shuffle(buffer_size=10)\r\n",
        "dataset = dataset.batch(2).prefetch(1)\r\n",
        "for x, y in dataset:\r\n",
        "  print(\"X:\", x.numpy()) \r\n",
        "  print(\"Y:\", y.numpy())"
      ],
      "execution_count": 9,
      "outputs": [
        {
          "output_type": "stream",
          "text": [
            "X: [[5 6 7 8]\n",
            " [0 1 2 3]]\n",
            "Y: [[9]\n",
            " [4]]\n",
            "X: [[3 4 5 6]\n",
            " [1 2 3 4]]\n",
            "Y: [[7]\n",
            " [5]]\n",
            "X: [[4 5 6 7]\n",
            " [2 3 4 5]]\n",
            "Y: [[8]\n",
            " [6]]\n"
          ],
          "name": "stdout"
        }
      ]
    }
  ]
}