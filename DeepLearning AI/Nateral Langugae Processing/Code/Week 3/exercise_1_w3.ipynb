{
  "nbformat": 4,
  "nbformat_minor": 0,
  "metadata": {
    "colab": {
      "name": "exercise-1-w3.ipynb",
      "provenance": []
    },
    "kernelspec": {
      "name": "python3",
      "display_name": "Python 3"
    },
    "accelerator": "GPU"
  },
  "cells": [
    {
      "cell_type": "code",
      "metadata": {
        "id": "gDSZxp2ozSaF"
      },
      "source": [
        "import json\r\n",
        "import tensorflow as tf\r\n",
        "import csv\r\n",
        "import random\r\n",
        "import numpy as np\r\n",
        "\r\n",
        "from tensorflow.keras.preprocessing.text import Tokenizer\r\n",
        "from tensorflow.keras.preprocessing.sequence import pad_sequences\r\n",
        "from tensorflow.keras.utils import to_categorical\r\n",
        "from tensorflow.keras import regularizers\r\n",
        "\r\n",
        "\r\n",
        "embedding_dim = 100\r\n",
        "max_length = 16\r\n",
        "trunc_type='post'\r\n",
        "padding_type='post'\r\n",
        "oov_tok = \"<OOV>\"\r\n",
        "training_size=160000\r\n",
        "test_portion=.1\r\n",
        "\r\n",
        "corpus = []\r\n"
      ],
      "execution_count": 1,
      "outputs": []
    },
    {
      "cell_type": "code",
      "metadata": {
        "colab": {
          "base_uri": "https://localhost:8080/"
        },
        "id": "5_aHEhnHBBBW",
        "outputId": "217f26d4-0690-4285-8c12-9d308911648b"
      },
      "source": [
        "# Note that I cleaned the Stanford dataset to remove LATIN1 encoding to make it easier for Python CSV reader\r\n",
        "# You can do that yourself with:\r\n",
        "# iconv -f LATIN1 -t UTF8 training.1600000.processed.noemoticon.csv -o training_cleaned.csv\r\n",
        "# I then hosted it on my site to make it easier to use in this notebook\r\n",
        "\r\n",
        "!wget --no-check-certificate \\\r\n",
        "    https://storage.googleapis.com/laurencemoroney-blog.appspot.com/training_cleaned.csv \\\r\n",
        "    -O /tmp/training_cleaned.csv\r\n",
        "\r\n",
        "num_sentences = 0\r\n",
        "\r\n",
        "with open(\"/tmp/training_cleaned.csv\") as csvfile:\r\n",
        "    reader = csv.reader(csvfile, delimiter=',')\r\n",
        "    for row in reader:\r\n",
        "        list_item=[]\r\n",
        "        list_item.append(row[5])\r\n",
        "        this_label=row[0]\r\n",
        "        if this_label=='0':\r\n",
        "            list_item.append(0)\r\n",
        "        else:\r\n",
        "            list_item.append(1)\r\n",
        "        num_sentences = num_sentences + 1\r\n",
        "        corpus.append(list_item)\r\n"
      ],
      "execution_count": 2,
      "outputs": [
        {
          "output_type": "stream",
          "text": [
            "--2020-12-25 03:34:27--  https://storage.googleapis.com/laurencemoroney-blog.appspot.com/training_cleaned.csv\n",
            "Resolving storage.googleapis.com (storage.googleapis.com)... 172.253.122.128, 142.250.73.208, 172.253.63.128, ...\n",
            "Connecting to storage.googleapis.com (storage.googleapis.com)|172.253.122.128|:443... connected.\n",
            "HTTP request sent, awaiting response... 200 OK\n",
            "Length: 238942690 (228M) [application/octet-stream]\n",
            "Saving to: ‘/tmp/training_cleaned.csv’\n",
            "\n",
            "/tmp/training_clean 100%[===================>] 227.87M   227MB/s    in 1.0s    \n",
            "\n",
            "2020-12-25 03:34:28 (227 MB/s) - ‘/tmp/training_cleaned.csv’ saved [238942690/238942690]\n",
            "\n"
          ],
          "name": "stdout"
        }
      ]
    },
    {
      "cell_type": "code",
      "metadata": {
        "id": "OykXEPtqBBZm",
        "colab": {
          "base_uri": "https://localhost:8080/"
        },
        "outputId": "8afe3bab-6614-430f-ec3d-d8bffe1fdac3"
      },
      "source": [
        "print(num_sentences)\r\n",
        "print(len(corpus))\r\n",
        "print(corpus[1])\r\n",
        "\r\n",
        "# Expected Output:\r\n",
        "# 1600000\r\n",
        "# 1600000\r\n",
        "# [\"is upset that he can't update his Facebook by texting it... and might cry as a result  School today also. Blah!\", 0]"
      ],
      "execution_count": 3,
      "outputs": [
        {
          "output_type": "stream",
          "text": [
            "1600000\n",
            "1600000\n",
            "[\"is upset that he can't update his Facebook by texting it... and might cry as a result  School today also. Blah!\", 0]\n"
          ],
          "name": "stdout"
        }
      ]
    },
    {
      "cell_type": "code",
      "metadata": {
        "id": "5nFAMJLj8JNb"
      },
      "source": [
        "sentences=[]\r\n",
        "labels=[]\r\n",
        "random.shuffle(corpus)\r\n",
        "for x in range(training_size):\r\n",
        "    sentences.append(corpus[x][0])\r\n",
        "    labels.append(corpus[x][1])\r\n",
        "\r\n",
        "\r\n",
        "tokenizer = Tokenizer()\r\n",
        "tokenizer.fit_on_texts(sentences)\r\n",
        "\r\n",
        "word_index = tokenizer.word_index\r\n",
        "vocab_size=len(word_index)\r\n",
        "\r\n",
        "sequences = tokenizer.texts_to_sequences(sentences)\r\n",
        "padded = pad_sequences(sequences, maxlen=max_length, padding=padding_type, truncating=trunc_type)\r\n",
        "\r\n",
        "split = int(test_portion * training_size)\r\n",
        "\r\n",
        "test_sequences = padded[0:split]\r\n",
        "training_sequences = padded[split:training_size]\r\n",
        "test_labels = labels[0:split]\r\n",
        "training_labels = labels[split:training_size]"
      ],
      "execution_count": 4,
      "outputs": []
    },
    {
      "cell_type": "code",
      "metadata": {
        "colab": {
          "base_uri": "https://localhost:8080/"
        },
        "id": "8JBxfa2p9CnC",
        "outputId": "a670b8ad-8a80-4ef8-a7c5-3f532b8220a4"
      },
      "source": [
        "print(vocab_size)\r\n",
        "print(word_index['i'])\r\n",
        "# Expected Output\r\n",
        "# 138858\r\n",
        "# 1"
      ],
      "execution_count": 5,
      "outputs": [
        {
          "output_type": "stream",
          "text": [
            "138338\n",
            "1\n"
          ],
          "name": "stdout"
        }
      ]
    },
    {
      "cell_type": "code",
      "metadata": {
        "colab": {
          "base_uri": "https://localhost:8080/"
        },
        "id": "WtAt1MoO9Ehz",
        "outputId": "c5162de5-46ca-409e-d4e3-79097a35184a"
      },
      "source": [
        "# Note this is the 100 dimension version of GloVe from Stanford\r\n",
        "# I unzipped and hosted it on my site to make this notebook easier\r\n",
        "!wget --no-check-certificate \\\r\n",
        "    https://storage.googleapis.com/laurencemoroney-blog.appspot.com/glove.6B.100d.txt \\\r\n",
        "    -O /tmp/glove.6B.100d.txt\r\n",
        "embeddings_index = {};\r\n",
        "with open('/tmp/glove.6B.100d.txt') as f:\r\n",
        "    for line in f:\r\n",
        "        values = line.split();\r\n",
        "        word = values[0];\r\n",
        "        coefs = np.asarray(values[1:], dtype='float32');\r\n",
        "        embeddings_index[word] = coefs;\r\n",
        "\r\n",
        "embeddings_matrix = np.zeros((vocab_size+1, embedding_dim));\r\n",
        "for word, i in word_index.items():\r\n",
        "    embedding_vector = embeddings_index.get(word);\r\n",
        "    if embedding_vector is not None:\r\n",
        "        embeddings_matrix[i] = embedding_vector;"
      ],
      "execution_count": 6,
      "outputs": [
        {
          "output_type": "stream",
          "text": [
            "--2020-12-25 03:34:39--  https://storage.googleapis.com/laurencemoroney-blog.appspot.com/glove.6B.100d.txt\n",
            "Resolving storage.googleapis.com (storage.googleapis.com)... 172.253.122.128, 142.250.31.128, 172.217.13.80, ...\n",
            "Connecting to storage.googleapis.com (storage.googleapis.com)|172.253.122.128|:443... connected.\n",
            "HTTP request sent, awaiting response... 200 OK\n",
            "Length: 347116733 (331M) [text/plain]\n",
            "Saving to: ‘/tmp/glove.6B.100d.txt’\n",
            "\n",
            "/tmp/glove.6B.100d. 100%[===================>] 331.04M   224MB/s    in 1.5s    \n",
            "\n",
            "2020-12-25 03:34:41 (224 MB/s) - ‘/tmp/glove.6B.100d.txt’ saved [347116733/347116733]\n",
            "\n"
          ],
          "name": "stdout"
        }
      ]
    },
    {
      "cell_type": "code",
      "metadata": {
        "colab": {
          "base_uri": "https://localhost:8080/"
        },
        "id": "kOfSI2A548qQ",
        "outputId": "4fcdce47-3127-4141-dae0-7cb6cf2deacb"
      },
      "source": [
        "print(len(embeddings_matrix))\r\n",
        "# Expected Output\r\n",
        "# 138859"
      ],
      "execution_count": 7,
      "outputs": [
        {
          "output_type": "stream",
          "text": [
            "138339\n"
          ],
          "name": "stdout"
        }
      ]
    },
    {
      "cell_type": "code",
      "metadata": {
        "colab": {
          "base_uri": "https://localhost:8080/"
        },
        "id": "mN-fM4dj6OeB",
        "outputId": "8093b794-5c35-481b-9546-37c24345f3c3"
      },
      "source": [
        "model = tf.keras.Sequential([\r\n",
        "    tf.keras.layers.Embedding(vocab_size+1, embedding_dim, \r\n",
        "                              input_length=max_length, \r\n",
        "                              weights=[embeddings_matrix], trainable=False),\r\n",
        "    tf.keras.layers.Dropout(0.3),\r\n",
        "    tf.keras.layers.Conv1D(64, 5, activation=\"relu\"),\r\n",
        "    tf.keras.layers.MaxPool1D(4),\r\n",
        "    tf.keras.layers.LSTM(64),\r\n",
        "    tf.keras.layers.Dense(1, activation=\"sigmoid\")\r\n",
        "])\r\n",
        "model.compile(optimizer=\"SGD\", loss=tf.keras.losses.binary_crossentropy, \r\n",
        "              metrics='acc')\r\n",
        "model.summary()\r\n",
        "\r\n",
        "num_epochs = 50\r\n",
        "\r\n",
        "training_padded = np.array(training_sequences)\r\n",
        "training_labels = np.array(training_labels)\r\n",
        "testing_padded = np.array(test_sequences)\r\n",
        "testing_labels = np.array(test_labels)\r\n",
        "\r\n",
        "history = model.fit(training_padded, training_labels, epochs=num_epochs, \r\n",
        "                    validation_data=(testing_padded, testing_labels), verbose=2)\r\n",
        "\r\n",
        "print(\"Training Complete\")\r\n"
      ],
      "execution_count": 8,
      "outputs": [
        {
          "output_type": "stream",
          "text": [
            "Model: \"sequential\"\n",
            "_________________________________________________________________\n",
            "Layer (type)                 Output Shape              Param #   \n",
            "=================================================================\n",
            "embedding (Embedding)        (None, 16, 100)           13833900  \n",
            "_________________________________________________________________\n",
            "dropout (Dropout)            (None, 16, 100)           0         \n",
            "_________________________________________________________________\n",
            "conv1d (Conv1D)              (None, 12, 64)            32064     \n",
            "_________________________________________________________________\n",
            "max_pooling1d (MaxPooling1D) (None, 3, 64)             0         \n",
            "_________________________________________________________________\n",
            "lstm (LSTM)                  (None, 64)                33024     \n",
            "_________________________________________________________________\n",
            "dense (Dense)                (None, 1)                 65        \n",
            "=================================================================\n",
            "Total params: 13,899,053\n",
            "Trainable params: 65,153\n",
            "Non-trainable params: 13,833,900\n",
            "_________________________________________________________________\n",
            "Epoch 1/50\n",
            "4500/4500 - 22s - loss: 0.6619 - acc: 0.6049 - val_loss: 0.6208 - val_acc: 0.6723\n",
            "Epoch 2/50\n",
            "4500/4500 - 14s - loss: 0.6179 - acc: 0.6615 - val_loss: 0.5936 - val_acc: 0.6848\n",
            "Epoch 3/50\n",
            "4500/4500 - 13s - loss: 0.5978 - acc: 0.6760 - val_loss: 0.5846 - val_acc: 0.6834\n",
            "Epoch 4/50\n",
            "4500/4500 - 13s - loss: 0.5841 - acc: 0.6871 - val_loss: 0.5624 - val_acc: 0.7071\n",
            "Epoch 5/50\n",
            "4500/4500 - 14s - loss: 0.5755 - acc: 0.6939 - val_loss: 0.5530 - val_acc: 0.7138\n",
            "Epoch 6/50\n",
            "4500/4500 - 13s - loss: 0.5671 - acc: 0.7015 - val_loss: 0.5477 - val_acc: 0.7192\n",
            "Epoch 7/50\n",
            "4500/4500 - 13s - loss: 0.5623 - acc: 0.7059 - val_loss: 0.5467 - val_acc: 0.7167\n",
            "Epoch 8/50\n",
            "4500/4500 - 13s - loss: 0.5565 - acc: 0.7095 - val_loss: 0.5360 - val_acc: 0.7234\n",
            "Epoch 9/50\n",
            "4500/4500 - 13s - loss: 0.5522 - acc: 0.7133 - val_loss: 0.5367 - val_acc: 0.7240\n",
            "Epoch 10/50\n",
            "4500/4500 - 13s - loss: 0.5485 - acc: 0.7152 - val_loss: 0.5451 - val_acc: 0.7176\n",
            "Epoch 11/50\n",
            "4500/4500 - 14s - loss: 0.5445 - acc: 0.7191 - val_loss: 0.5279 - val_acc: 0.7314\n",
            "Epoch 12/50\n",
            "4500/4500 - 13s - loss: 0.5424 - acc: 0.7203 - val_loss: 0.5257 - val_acc: 0.7314\n",
            "Epoch 13/50\n",
            "4500/4500 - 14s - loss: 0.5398 - acc: 0.7230 - val_loss: 0.5214 - val_acc: 0.7368\n",
            "Epoch 14/50\n",
            "4500/4500 - 13s - loss: 0.5363 - acc: 0.7257 - val_loss: 0.5210 - val_acc: 0.7392\n",
            "Epoch 15/50\n",
            "4500/4500 - 14s - loss: 0.5332 - acc: 0.7273 - val_loss: 0.5222 - val_acc: 0.7356\n",
            "Epoch 16/50\n",
            "4500/4500 - 13s - loss: 0.5319 - acc: 0.7283 - val_loss: 0.5255 - val_acc: 0.7344\n",
            "Epoch 17/50\n",
            "4500/4500 - 13s - loss: 0.5291 - acc: 0.7299 - val_loss: 0.5188 - val_acc: 0.7392\n",
            "Epoch 18/50\n",
            "4500/4500 - 13s - loss: 0.5271 - acc: 0.7321 - val_loss: 0.5135 - val_acc: 0.7419\n",
            "Epoch 19/50\n",
            "4500/4500 - 13s - loss: 0.5244 - acc: 0.7345 - val_loss: 0.5107 - val_acc: 0.7442\n",
            "Epoch 20/50\n",
            "4500/4500 - 13s - loss: 0.5232 - acc: 0.7348 - val_loss: 0.5115 - val_acc: 0.7424\n",
            "Epoch 21/50\n",
            "4500/4500 - 13s - loss: 0.5218 - acc: 0.7352 - val_loss: 0.5093 - val_acc: 0.7452\n",
            "Epoch 22/50\n",
            "4500/4500 - 13s - loss: 0.5204 - acc: 0.7370 - val_loss: 0.5087 - val_acc: 0.7453\n",
            "Epoch 23/50\n",
            "4500/4500 - 14s - loss: 0.5175 - acc: 0.7395 - val_loss: 0.5080 - val_acc: 0.7455\n",
            "Epoch 24/50\n",
            "4500/4500 - 14s - loss: 0.5156 - acc: 0.7401 - val_loss: 0.5108 - val_acc: 0.7441\n",
            "Epoch 25/50\n",
            "4500/4500 - 13s - loss: 0.5144 - acc: 0.7414 - val_loss: 0.5074 - val_acc: 0.7471\n",
            "Epoch 26/50\n",
            "4500/4500 - 13s - loss: 0.5134 - acc: 0.7425 - val_loss: 0.5068 - val_acc: 0.7483\n",
            "Epoch 27/50\n",
            "4500/4500 - 13s - loss: 0.5134 - acc: 0.7414 - val_loss: 0.5062 - val_acc: 0.7484\n",
            "Epoch 28/50\n",
            "4500/4500 - 14s - loss: 0.5114 - acc: 0.7425 - val_loss: 0.5045 - val_acc: 0.7480\n",
            "Epoch 29/50\n",
            "4500/4500 - 13s - loss: 0.5098 - acc: 0.7450 - val_loss: 0.5037 - val_acc: 0.7484\n",
            "Epoch 30/50\n",
            "4500/4500 - 13s - loss: 0.5091 - acc: 0.7460 - val_loss: 0.5023 - val_acc: 0.7496\n",
            "Epoch 31/50\n",
            "4500/4500 - 13s - loss: 0.5088 - acc: 0.7456 - val_loss: 0.5020 - val_acc: 0.7517\n",
            "Epoch 32/50\n",
            "4500/4500 - 13s - loss: 0.5069 - acc: 0.7457 - val_loss: 0.5017 - val_acc: 0.7521\n",
            "Epoch 33/50\n",
            "4500/4500 - 13s - loss: 0.5059 - acc: 0.7475 - val_loss: 0.5009 - val_acc: 0.7506\n",
            "Epoch 34/50\n",
            "4500/4500 - 13s - loss: 0.5035 - acc: 0.7498 - val_loss: 0.5010 - val_acc: 0.7510\n",
            "Epoch 35/50\n",
            "4500/4500 - 13s - loss: 0.5028 - acc: 0.7506 - val_loss: 0.5016 - val_acc: 0.7501\n",
            "Epoch 36/50\n",
            "4500/4500 - 13s - loss: 0.5013 - acc: 0.7507 - val_loss: 0.5023 - val_acc: 0.7506\n",
            "Epoch 37/50\n",
            "4500/4500 - 13s - loss: 0.5015 - acc: 0.7497 - val_loss: 0.5131 - val_acc: 0.7457\n",
            "Epoch 38/50\n",
            "4500/4500 - 13s - loss: 0.4998 - acc: 0.7527 - val_loss: 0.5062 - val_acc: 0.7472\n",
            "Epoch 39/50\n",
            "4500/4500 - 14s - loss: 0.5003 - acc: 0.7512 - val_loss: 0.5005 - val_acc: 0.7522\n",
            "Epoch 40/50\n",
            "4500/4500 - 14s - loss: 0.4985 - acc: 0.7521 - val_loss: 0.5040 - val_acc: 0.7509\n",
            "Epoch 41/50\n",
            "4500/4500 - 13s - loss: 0.4987 - acc: 0.7531 - val_loss: 0.4987 - val_acc: 0.7511\n",
            "Epoch 42/50\n",
            "4500/4500 - 13s - loss: 0.4973 - acc: 0.7541 - val_loss: 0.5183 - val_acc: 0.7401\n",
            "Epoch 43/50\n",
            "4500/4500 - 13s - loss: 0.4959 - acc: 0.7542 - val_loss: 0.5009 - val_acc: 0.7504\n",
            "Epoch 44/50\n",
            "4500/4500 - 14s - loss: 0.4959 - acc: 0.7538 - val_loss: 0.4982 - val_acc: 0.7523\n",
            "Epoch 45/50\n",
            "4500/4500 - 13s - loss: 0.4962 - acc: 0.7546 - val_loss: 0.4971 - val_acc: 0.7527\n",
            "Epoch 46/50\n",
            "4500/4500 - 13s - loss: 0.4931 - acc: 0.7573 - val_loss: 0.4978 - val_acc: 0.7536\n",
            "Epoch 47/50\n",
            "4500/4500 - 13s - loss: 0.4935 - acc: 0.7565 - val_loss: 0.4989 - val_acc: 0.7524\n",
            "Epoch 48/50\n",
            "4500/4500 - 13s - loss: 0.4939 - acc: 0.7564 - val_loss: 0.5033 - val_acc: 0.7523\n",
            "Epoch 49/50\n",
            "4500/4500 - 14s - loss: 0.4918 - acc: 0.7571 - val_loss: 0.4976 - val_acc: 0.7525\n",
            "Epoch 50/50\n",
            "4500/4500 - 13s - loss: 0.4926 - acc: 0.7567 - val_loss: 0.4986 - val_acc: 0.7549\n",
            "Training Complete\n"
          ],
          "name": "stdout"
        }
      ]
    },
    {
      "cell_type": "code",
      "metadata": {
        "id": "KIpUnfaL8unQ",
        "colab": {
          "base_uri": "https://localhost:8080/",
          "height": 607
        },
        "outputId": "27e6132a-73b0-4797-940f-919237e061e2"
      },
      "source": [
        "import matplotlib.image  as mpimg\r\n",
        "import matplotlib.pyplot as plt\r\n",
        "\r\n",
        "#-----------------------------------------------------------\r\n",
        "# Retrieve a list of list results on training and test data\r\n",
        "# sets for each training epoch\r\n",
        "#-----------------------------------------------------------\r\n",
        "acc=history.history['acc']\r\n",
        "val_acc=history.history['val_acc']\r\n",
        "loss=history.history['loss']\r\n",
        "val_loss=history.history['val_loss']\r\n",
        "\r\n",
        "epochs=range(len(acc)) # Get number of epochs\r\n",
        "\r\n",
        "#------------------------------------------------\r\n",
        "# Plot training and validation accuracy per epoch\r\n",
        "#------------------------------------------------\r\n",
        "plt.plot(epochs, acc, 'r')\r\n",
        "plt.plot(epochs, val_acc, 'b')\r\n",
        "plt.title('Training and validation accuracy')\r\n",
        "plt.xlabel(\"Epochs\")\r\n",
        "plt.ylabel(\"Accuracy\")\r\n",
        "plt.legend([\"Accuracy\", \"Validation Accuracy\"])\r\n",
        "\r\n",
        "plt.figure()\r\n",
        "\r\n",
        "#------------------------------------------------\r\n",
        "# Plot training and validation loss per epoch\r\n",
        "#------------------------------------------------\r\n",
        "plt.plot(epochs, loss, 'r')\r\n",
        "plt.plot(epochs, val_loss, 'b')\r\n",
        "plt.title('Training and validation loss')\r\n",
        "plt.xlabel(\"Epochs\")\r\n",
        "plt.ylabel(\"Loss\")\r\n",
        "plt.legend([\"Loss\", \"Validation Loss\"])\r\n",
        "\r\n",
        "plt.figure()\r\n",
        "\r\n",
        "\r\n",
        "# Expected Output\r\n",
        "# A chart where the validation loss does not increase sharply!"
      ],
      "execution_count": 10,
      "outputs": [
        {
          "output_type": "execute_result",
          "data": {
            "text/plain": [
              "<Figure size 432x288 with 0 Axes>"
            ]
          },
          "metadata": {
            "tags": []
          },
          "execution_count": 10
        },
        {
          "output_type": "display_data",
          "data": {
            "image/png": "[encoded data removed]",
            "text/plain": [
              "<Figure size 432x288 with 1 Axes>"
            ]
          },
          "metadata": {
            "tags": [],
            "needs_background": "light"
          }
        },
        {
          "output_type": "display_data",
          "data": {
            "image/png": "[encoded data removed]",
            "text/plain": [
              "<Figure size 432x288 with 1 Axes>"
            ]
          },
          "metadata": {
            "tags": [],
            "needs_background": "light"
          }
        },
        {
          "output_type": "display_data",
          "data": {
            "text/plain": [
              "<Figure size 432x288 with 0 Axes>"
            ]
          },
          "metadata": {
            "tags": []
          }
        }
      ]
    }
  ]
}