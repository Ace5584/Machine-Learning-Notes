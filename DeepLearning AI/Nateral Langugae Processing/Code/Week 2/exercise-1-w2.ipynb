{
  "nbformat": 4,
  "nbformat_minor": 0,
  "metadata": {
    "colab": {
      "name": "exercise-1.ipynb",
      "provenance": []
    },
    "kernelspec": {
      "name": "python3",
      "display_name": "Python 3"
    }
  },
  "cells": [
    {
      "cell_type": "code",
      "metadata": {
        "colab": {
          "base_uri": "https://localhost:8080/"
        },
        "id": "vz9xxzOIImGy",
        "outputId": "ee5ab553-9a2b-4704-9901-6e3459655027"
      },
      "source": [
        "import csv\r\n",
        "import tensorflow as tf\r\n",
        "import numpy as np\r\n",
        "from tensorflow.keras.preprocessing.text import Tokenizer\r\n",
        "from tensorflow.keras.preprocessing.sequence import pad_sequences\r\n",
        "\r\n",
        "!wget --no-check-certificate \\\r\n",
        "    https://storage.googleapis.com/laurencemoroney-blog.appspot.com/bbc-text.csv \\\r\n",
        "    -O /tmp/bbc-text.csv"
      ],
      "execution_count": 1,
      "outputs": [
        {
          "output_type": "stream",
          "text": [
            "--2020-12-22 03:26:03--  https://storage.googleapis.com/laurencemoroney-blog.appspot.com/bbc-text.csv\n",
            "Resolving storage.googleapis.com (storage.googleapis.com)... 74.125.195.128, 74.125.142.128, 173.194.202.128, ...\n",
            "Connecting to storage.googleapis.com (storage.googleapis.com)|74.125.195.128|:443... connected.\n",
            "HTTP request sent, awaiting response... 200 OK\n",
            "Length: 5057493 (4.8M) [application/octet-stream]\n",
            "Saving to: ‘/tmp/bbc-text.csv’\n",
            "\n",
            "\r/tmp/bbc-text.csv     0%[                    ]       0  --.-KB/s               \r/tmp/bbc-text.csv   100%[===================>]   4.82M  --.-KB/s    in 0.05s   \n",
            "\n",
            "2020-12-22 03:26:03 (106 MB/s) - ‘/tmp/bbc-text.csv’ saved [5057493/5057493]\n",
            "\n"
          ],
          "name": "stdout"
        }
      ]
    },
    {
      "cell_type": "code",
      "metadata": {
        "id": "mkKJdCpxIsX5"
      },
      "source": [
        "vocab_size = 10000\r\n",
        "embedding_dim = 16\r\n",
        "max_length = 120\r\n",
        "trunc_type = 'post'\r\n",
        "padding_type = 'post'\r\n",
        "oov_tok = \"<OOV>\"\r\n",
        "training_portion = .8"
      ],
      "execution_count": 26,
      "outputs": []
    },
    {
      "cell_type": "code",
      "metadata": {
        "colab": {
          "base_uri": "https://localhost:8080/"
        },
        "id": "Uyj_x-qSIs7d",
        "outputId": "b811d278-d33e-4ff6-cf68-63d8c7ca5c90"
      },
      "source": [
        "sentences = []\r\n",
        "labels = []\r\n",
        "stopwords = [ \"a\", \"about\", \"above\", \"after\", \"again\", \"against\", \"all\", \"am\", \"an\", \"and\", \"any\", \"are\", \"as\", \"at\", \"be\", \"because\", \"been\", \"before\", \"being\", \"below\", \"between\", \"both\", \"but\", \"by\", \"could\", \"did\", \"do\", \"does\", \"doing\", \"down\", \"during\", \"each\", \"few\", \"for\", \"from\", \"further\", \"had\", \"has\", \"have\", \"having\", \"he\", \"he'd\", \"he'll\", \"he's\", \"her\", \"here\", \"here's\", \"hers\", \"herself\", \"him\", \"himself\", \"his\", \"how\", \"how's\", \"i\", \"i'd\", \"i'll\", \"i'm\", \"i've\", \"if\", \"in\", \"into\", \"is\", \"it\", \"it's\", \"its\", \"itself\", \"let's\", \"me\", \"more\", \"most\", \"my\", \"myself\", \"nor\", \"of\", \"on\", \"once\", \"only\", \"or\", \"other\", \"ought\", \"our\", \"ours\", \"ourselves\", \"out\", \"over\", \"own\", \"same\", \"she\", \"she'd\", \"she'll\", \"she's\", \"should\", \"so\", \"some\", \"such\", \"than\", \"that\", \"that's\", \"the\", \"their\", \"theirs\", \"them\", \"themselves\", \"then\", \"there\", \"there's\", \"these\", \"they\", \"they'd\", \"they'll\", \"they're\", \"they've\", \"this\", \"those\", \"through\", \"to\", \"too\", \"under\", \"until\", \"up\", \"very\", \"was\", \"we\", \"we'd\", \"we'll\", \"we're\", \"we've\", \"were\", \"what\", \"what's\", \"when\", \"when's\", \"where\", \"where's\", \"which\", \"while\", \"who\", \"who's\", \"whom\", \"why\", \"why's\", \"with\", \"would\", \"you\", \"you'd\", \"you'll\", \"you're\", \"you've\", \"your\", \"yours\", \"yourself\", \"yourselves\" ]\r\n",
        "print(len(stopwords))\r\n",
        "# Expected Output\r\n",
        "# 153"
      ],
      "execution_count": 3,
      "outputs": [
        {
          "output_type": "stream",
          "text": [
            "153\n"
          ],
          "name": "stdout"
        }
      ]
    },
    {
      "cell_type": "code",
      "metadata": {
        "colab": {
          "base_uri": "https://localhost:8080/"
        },
        "id": "vLeOorH_Iuo6",
        "outputId": "6ac82153-3e56-4cb5-9341-3849104023c1"
      },
      "source": [
        "with open(\"/tmp/bbc-text.csv\", 'r') as csvfile:\r\n",
        "    reader = csv.reader(csvfile, delimiter=\",\")\r\n",
        "    next(reader)\r\n",
        "    for row in reader:\r\n",
        "        labels.append(row[0])\r\n",
        "        sentence = row[1]\r\n",
        "        for word in stopwords:\r\n",
        "            token = \" \" + word + \" \"\r\n",
        "            sentence = sentence.replace(token, \" \")\r\n",
        "            sentence = sentence.replace(\"  \", \" \")\r\n",
        "        sentences.append(sentence)\r\n",
        "\r\n",
        "    \r\n",
        "print(len(labels))\r\n",
        "print(len(sentences))\r\n",
        "print(sentences[0])\r\n",
        "# Expected Output\r\n",
        "# 2225\r\n",
        "# 2225\r\n",
        "# tv future hands viewers home theatre systems  plasma high-definition tvs  digital video recorders moving living room  way people watch tv will radically different five years  time.  according expert panel gathered annual consumer electronics show las vegas discuss new technologies will impact one favourite pastimes. us leading trend  programmes content will delivered viewers via home networks  cable  satellite  telecoms companies  broadband service providers front rooms portable devices.  one talked-about technologies ces digital personal video recorders (dvr pvr). set-top boxes  like us s tivo uk s sky+ system  allow people record  store  play  pause forward wind tv programmes want.  essentially  technology allows much personalised tv. also built-in high-definition tv sets  big business japan us  slower take off europe lack high-definition programming. not can people forward wind adverts  can also forget abiding network channel schedules  putting together a-la-carte entertainment. us networks cable satellite companies worried means terms advertising revenues well  brand identity  viewer loyalty channels. although us leads technology moment  also concern raised europe  particularly growing uptake services like sky+.  happens today  will see nine months years  time uk   adam hume  bbc broadcast s futurologist told bbc news website. likes bbc  no issues lost advertising revenue yet. pressing issue moment commercial uk broadcasters  brand loyalty important everyone.  will talking content brands rather network brands   said tim hanlon  brand communications firm starcom mediavest.  reality broadband connections  anybody can producer content.  added:  challenge now hard promote programme much choice.   means  said stacey jolna  senior vice president tv guide tv group  way people find content want watch simplified tv viewers. means networks  us terms  channels take leaf google s book search engine future  instead scheduler help people find want watch. kind channel model might work younger ipod generation used taking control gadgets play them. might not suit everyone  panel recognised. older generations comfortable familiar schedules channel brands know getting. perhaps not want much choice put hands  mr hanlon suggested.  end  kids just diapers pushing buttons already - everything possible available   said mr hanlon.  ultimately  consumer will tell market want.   50 000 new gadgets technologies showcased ces  many enhancing tv-watching experience. high-definition tv sets everywhere many new models lcd (liquid crystal display) tvs launched dvr capability built  instead external boxes. one example launched show humax s 26-inch lcd tv 80-hour tivo dvr dvd recorder. one us s biggest satellite tv companies  directtv  even launched branded dvr show 100-hours recording capability  instant replay  search function. set can pause rewind tv 90 hours. microsoft chief bill gates announced pre-show keynote speech partnership tivo  called tivotogo  means people can play recorded programmes windows pcs mobile devices. reflect increasing trend freeing multimedia people can watch want  want."
      ],
      "execution_count": 4,
      "outputs": [
        {
          "output_type": "stream",
          "text": [
            "2225\n",
            "2225\n",
            "tv future hands viewers home theatre systems plasma high-definition tvs digital video recorders moving living room way people watch tv will radically different five years time. according expert panel gathered annual consumer electronics show las vegas discuss new technologies will impact one favourite pastimes. us leading trend programmes content will delivered viewers via home networks cable satellite telecoms companies broadband service providers front rooms portable devices. one talked-about technologies ces digital personal video recorders (dvr pvr). set-top boxes like us s tivo uk s sky+ system allow people record store play pause forward wind tv programmes want. essentially technology allows much personalised tv. also built-in high-definition tv sets big business japan us slower take off europe lack high-definition programming. not can people forward wind adverts can also forget abiding network channel schedules putting together a-la-carte entertainment. us networks cable satellite companies worried means terms advertising revenues well brand identity viewer loyalty channels. although us leads technology moment also concern raised europe particularly growing uptake services like sky+. happens today will see nine months years time uk adam hume bbc broadcast s futurologist told bbc news website. likes bbc no issues lost advertising revenue yet. pressing issue moment commercial uk broadcasters brand loyalty important everyone. will talking content brands rather network brands said tim hanlon brand communications firm starcom mediavest. reality broadband connections anybody can producer content. added: challenge now hard promote programme much choice. means said stacey jolna senior vice president tv guide tv group way people find content want watch simplified tv viewers. means networks us terms channels take leaf google s book search engine future instead scheduler help people find want watch. kind channel model might work younger ipod generation used taking control gadgets play them. might not suit everyone panel recognised. older generations comfortable familiar schedules channel brands know getting. perhaps not want much choice put hands mr hanlon suggested. end kids just diapers pushing buttons already - everything possible available said mr hanlon. ultimately consumer will tell market want. 50 000 new gadgets technologies showcased ces many enhancing tv-watching experience. high-definition tv sets everywhere many new models lcd (liquid crystal display) tvs launched dvr capability built instead external boxes. one example launched show humax s 26-inch lcd tv 80-hour tivo dvr dvd recorder. one us s biggest satellite tv companies directtv even launched branded dvr show 100-hours recording capability instant replay search function. set can pause rewind tv 90 hours. microsoft chief bill gates announced pre-show keynote speech partnership tivo called tivotogo means people can play recorded programmes windows pcs mobile devices. reflect increasing trend freeing multimedia people can watch want want.\n"
          ],
          "name": "stdout"
        }
      ]
    },
    {
      "cell_type": "code",
      "metadata": {
        "colab": {
          "base_uri": "https://localhost:8080/"
        },
        "id": "j9S6SfZOJE0S",
        "outputId": "cb3d7c7d-b6cc-484d-b4b6-f8dc5262b26f"
      },
      "source": [
        "train_size = int(len(sentences) * training_portion)\r\n",
        "\r\n",
        "train_sentences = sentences[:train_size]\r\n",
        "train_labels = labels[:train_size]\r\n",
        "\r\n",
        "validation_sentences = sentences[train_size:]\r\n",
        "validation_labels = labels[train_size:]\r\n",
        "\r\n",
        "print(train_size)\r\n",
        "print(len(train_sentences))\r\n",
        "print(len(train_labels))\r\n",
        "print(len(validation_sentences))\r\n",
        "print(len(validation_labels))\r\n",
        "\r\n",
        "# Expected output (if training_portion=.8)\r\n",
        "# 1780\r\n",
        "# 1780\r\n",
        "# 1780\r\n",
        "# 445\r\n",
        "# 445"
      ],
      "execution_count": 5,
      "outputs": [
        {
          "output_type": "stream",
          "text": [
            "1780\n",
            "1780\n",
            "1780\n",
            "445\n",
            "445\n"
          ],
          "name": "stdout"
        }
      ]
    },
    {
      "cell_type": "code",
      "metadata": {
        "colab": {
          "base_uri": "https://localhost:8080/"
        },
        "id": "6jYGphHYfQzy",
        "outputId": "bfe35336-f9c6-4ef1-c999-07ea70456a5b"
      },
      "source": [
        "tokenizer = Tokenizer(num_words=vocab_size, oov_token=oov_tok)\r\n",
        "tokenizer.fit_on_texts(train_sentences)\r\n",
        "word_index = tokenizer.word_index\r\n",
        "\r\n",
        "train_sequences = tokenizer.texts_to_sequences(train_sentences)\r\n",
        "train_padded = pad_sequences(train_sequences, padding=\"post\", maxlen=max_length)\r\n",
        "\r\n",
        "print(len(train_sequences[0]))\r\n",
        "print(len(train_padded[0]))\r\n",
        "\r\n",
        "print(len(train_sequences[1]))\r\n",
        "print(len(train_padded[1]))\r\n",
        "\r\n",
        "print(len(train_sequences[10]))\r\n",
        "print(len(train_padded[10]))\r\n",
        "\r\n",
        "# Expected Ouput\r\n",
        "# 449\r\n",
        "# 120\r\n",
        "# 200\r\n",
        "# 120\r\n",
        "# 192\r\n",
        "# 120"
      ],
      "execution_count": 18,
      "outputs": [
        {
          "output_type": "stream",
          "text": [
            "449\n",
            "120\n",
            "200\n",
            "120\n",
            "192\n",
            "120\n"
          ],
          "name": "stdout"
        }
      ]
    },
    {
      "cell_type": "code",
      "metadata": {
        "colab": {
          "base_uri": "https://localhost:8080/"
        },
        "id": "akw2P7PukjIi",
        "outputId": "78ae5db0-90a9-477c-e43c-ca99a4e25ed3"
      },
      "source": [
        "validation_sequences = tokenizer.texts_to_sequences(validation_sentences)\r\n",
        "validation_padded = pad_sequences(validation_sequences, padding=\"post\", \r\n",
        "                                  maxlen=max_length)\r\n",
        "\r\n",
        "print(len(validation_sequences))\r\n",
        "print(validation_padded.shape)\r\n",
        "\r\n",
        "# Expected output\r\n",
        "# 445\r\n",
        "# (445, 120)"
      ],
      "execution_count": 19,
      "outputs": [
        {
          "output_type": "stream",
          "text": [
            "445\n",
            "(445, 120)\n"
          ],
          "name": "stdout"
        }
      ]
    },
    {
      "cell_type": "code",
      "metadata": {
        "colab": {
          "base_uri": "https://localhost:8080/"
        },
        "id": "ZSlkgqk3kv_K",
        "outputId": "dbf0f174-7246-4027-8ea8-5eb5c20e9d55"
      },
      "source": [
        "label_tokenizer = Tokenizer()\r\n",
        "label_tokenizer.fit_on_texts(labels)\r\n",
        "\r\n",
        "training_label_seq = np.array(label_tokenizer.texts_to_sequences(train_labels))\r\n",
        "validation_label_seq = np.array(label_tokenizer.texts_to_sequences(validation_labels))\r\n",
        "\r\n",
        "print(training_label_seq[0])\r\n",
        "print(training_label_seq[1])\r\n",
        "print(training_label_seq[2])\r\n",
        "print(training_label_seq.shape)\r\n",
        "\r\n",
        "print(validation_label_seq[0])\r\n",
        "print(validation_label_seq[1])\r\n",
        "print(validation_label_seq[2])\r\n",
        "print(validation_label_seq.shape)\r\n",
        "\r\n",
        "# Expected output\r\n",
        "# [4]\r\n",
        "# [2]\r\n",
        "# [1]\r\n",
        "# (1780, 1)\r\n",
        "# [5]\r\n",
        "# [4]\r\n",
        "# [3]\r\n",
        "# (445, 1)"
      ],
      "execution_count": 22,
      "outputs": [
        {
          "output_type": "stream",
          "text": [
            "[4]\n",
            "[2]\n",
            "[1]\n",
            "(1780, 1)\n",
            "[5]\n",
            "[4]\n",
            "[3]\n",
            "(445, 1)\n"
          ],
          "name": "stdout"
        }
      ]
    },
    {
      "cell_type": "code",
      "metadata": {
        "colab": {
          "base_uri": "https://localhost:8080/"
        },
        "id": "G24jnA4ymese",
        "outputId": "aca77ef8-01f1-448f-bd9c-4a98769d7349"
      },
      "source": [
        "model = tf.keras.Sequential([\r\n",
        "  tf.keras.layers.Embedding(vocab_size, embedding_dim, input_length=max_length),\r\n",
        "  tf.keras.layers.GlobalAveragePooling1D(),\r\n",
        "  tf.keras.layers.Dense(24, activation=\"relu\"),\r\n",
        "  tf.keras.layers.Dense(6, activation=\"softmax\")\r\n",
        "])\r\n",
        "model.compile(loss='sparse_categorical_crossentropy',optimizer='adam',metrics=['accuracy'])\r\n",
        "model.summary()\r\n",
        "\r\n",
        "# Expected Output\r\n",
        "# Layer (type)                 Output Shape              Param #   \r\n",
        "# =================================================================\r\n",
        "# embedding (Embedding)        (None, 120, 16)           16000     \r\n",
        "# _________________________________________________________________\r\n",
        "# global_average_pooling1d (Gl (None, 16)                0         \r\n",
        "# _________________________________________________________________\r\n",
        "# dense (Dense)                (None, 24)                408       \r\n",
        "# _________________________________________________________________\r\n",
        "# dense_1 (Dense)              (None, 6)                 150       \r\n",
        "# =================================================================\r\n",
        "# Total params: 16,558\r\n",
        "# Trainable params: 16,558\r\n",
        "# Non-trainable params: 0"
      ],
      "execution_count": 31,
      "outputs": [
        {
          "output_type": "stream",
          "text": [
            "Model: \"sequential_4\"\n",
            "_________________________________________________________________\n",
            "Layer (type)                 Output Shape              Param #   \n",
            "=================================================================\n",
            "embedding_4 (Embedding)      (None, 120, 16)           160000    \n",
            "_________________________________________________________________\n",
            "global_average_pooling1d_4 ( (None, 16)                0         \n",
            "_________________________________________________________________\n",
            "dense_8 (Dense)              (None, 24)                408       \n",
            "_________________________________________________________________\n",
            "dense_9 (Dense)              (None, 6)                 150       \n",
            "=================================================================\n",
            "Total params: 160,558\n",
            "Trainable params: 160,558\n",
            "Non-trainable params: 0\n",
            "_________________________________________________________________\n"
          ],
          "name": "stdout"
        }
      ]
    },
    {
      "cell_type": "code",
      "metadata": {
        "colab": {
          "base_uri": "https://localhost:8080/"
        },
        "id": "cohiK1ZfnYMh",
        "outputId": "7e2372a7-77ba-4bcd-a833-209f2eaf9b44"
      },
      "source": [
        "num_epochs = 30\r\n",
        "history = model.fit(train_padded, training_label_seq, epochs=num_epochs, \r\n",
        "                    validation_data=(validation_padded, validation_label_seq))"
      ],
      "execution_count": 32,
      "outputs": [
        {
          "output_type": "stream",
          "text": [
            "Epoch 1/30\n",
            "56/56 [==============================] - 1s 7ms/step - loss: 1.7757 - accuracy: 0.2805 - val_loss: 1.7138 - val_accuracy: 0.3326\n",
            "Epoch 2/30\n",
            "56/56 [==============================] - 0s 4ms/step - loss: 1.6753 - accuracy: 0.5303 - val_loss: 1.5683 - val_accuracy: 0.6180\n",
            "Epoch 3/30\n",
            "56/56 [==============================] - 0s 4ms/step - loss: 1.4860 - accuracy: 0.7228 - val_loss: 1.3196 - val_accuracy: 0.7303\n",
            "Epoch 4/30\n",
            "56/56 [==============================] - 0s 4ms/step - loss: 1.1731 - accuracy: 0.8297 - val_loss: 0.9816 - val_accuracy: 0.8831\n",
            "Epoch 5/30\n",
            "56/56 [==============================] - 0s 4ms/step - loss: 0.8263 - accuracy: 0.9462 - val_loss: 0.7005 - val_accuracy: 0.9348\n",
            "Epoch 6/30\n",
            "56/56 [==============================] - 0s 4ms/step - loss: 0.5485 - accuracy: 0.9772 - val_loss: 0.5095 - val_accuracy: 0.9461\n",
            "Epoch 7/30\n",
            "56/56 [==============================] - 0s 4ms/step - loss: 0.3485 - accuracy: 0.9855 - val_loss: 0.3877 - val_accuracy: 0.9573\n",
            "Epoch 8/30\n",
            "56/56 [==============================] - 0s 4ms/step - loss: 0.2348 - accuracy: 0.9934 - val_loss: 0.3097 - val_accuracy: 0.9596\n",
            "Epoch 9/30\n",
            "56/56 [==============================] - 0s 4ms/step - loss: 0.1703 - accuracy: 0.9898 - val_loss: 0.2605 - val_accuracy: 0.9596\n",
            "Epoch 10/30\n",
            "56/56 [==============================] - 0s 4ms/step - loss: 0.1163 - accuracy: 0.9957 - val_loss: 0.2280 - val_accuracy: 0.9573\n",
            "Epoch 11/30\n",
            "56/56 [==============================] - 0s 4ms/step - loss: 0.0891 - accuracy: 0.9967 - val_loss: 0.2045 - val_accuracy: 0.9573\n",
            "Epoch 12/30\n",
            "56/56 [==============================] - 0s 4ms/step - loss: 0.0666 - accuracy: 0.9976 - val_loss: 0.1881 - val_accuracy: 0.9573\n",
            "Epoch 13/30\n",
            "56/56 [==============================] - 0s 4ms/step - loss: 0.0484 - accuracy: 0.9998 - val_loss: 0.1750 - val_accuracy: 0.9551\n",
            "Epoch 14/30\n",
            "56/56 [==============================] - 0s 4ms/step - loss: 0.0392 - accuracy: 1.0000 - val_loss: 0.1671 - val_accuracy: 0.9551\n",
            "Epoch 15/30\n",
            "56/56 [==============================] - 0s 4ms/step - loss: 0.0308 - accuracy: 1.0000 - val_loss: 0.1581 - val_accuracy: 0.9551\n",
            "Epoch 16/30\n",
            "56/56 [==============================] - 0s 4ms/step - loss: 0.0260 - accuracy: 1.0000 - val_loss: 0.1518 - val_accuracy: 0.9551\n",
            "Epoch 17/30\n",
            "56/56 [==============================] - 0s 4ms/step - loss: 0.0213 - accuracy: 1.0000 - val_loss: 0.1470 - val_accuracy: 0.9551\n",
            "Epoch 18/30\n",
            "56/56 [==============================] - 0s 4ms/step - loss: 0.0175 - accuracy: 1.0000 - val_loss: 0.1426 - val_accuracy: 0.9551\n",
            "Epoch 19/30\n",
            "56/56 [==============================] - 0s 4ms/step - loss: 0.0161 - accuracy: 1.0000 - val_loss: 0.1388 - val_accuracy: 0.9551\n",
            "Epoch 20/30\n",
            "56/56 [==============================] - 0s 4ms/step - loss: 0.0138 - accuracy: 1.0000 - val_loss: 0.1363 - val_accuracy: 0.9573\n",
            "Epoch 21/30\n",
            "56/56 [==============================] - 0s 4ms/step - loss: 0.0113 - accuracy: 1.0000 - val_loss: 0.1339 - val_accuracy: 0.9573\n",
            "Epoch 22/30\n",
            "56/56 [==============================] - 0s 4ms/step - loss: 0.0100 - accuracy: 1.0000 - val_loss: 0.1312 - val_accuracy: 0.9573\n",
            "Epoch 23/30\n",
            "56/56 [==============================] - 0s 4ms/step - loss: 0.0086 - accuracy: 1.0000 - val_loss: 0.1291 - val_accuracy: 0.9573\n",
            "Epoch 24/30\n",
            "56/56 [==============================] - 0s 4ms/step - loss: 0.0087 - accuracy: 1.0000 - val_loss: 0.1273 - val_accuracy: 0.9573\n",
            "Epoch 25/30\n",
            "56/56 [==============================] - 0s 4ms/step - loss: 0.0069 - accuracy: 1.0000 - val_loss: 0.1258 - val_accuracy: 0.9573\n",
            "Epoch 26/30\n",
            "56/56 [==============================] - 0s 4ms/step - loss: 0.0061 - accuracy: 1.0000 - val_loss: 0.1245 - val_accuracy: 0.9573\n",
            "Epoch 27/30\n",
            "56/56 [==============================] - 0s 4ms/step - loss: 0.0058 - accuracy: 1.0000 - val_loss: 0.1232 - val_accuracy: 0.9573\n",
            "Epoch 28/30\n",
            "56/56 [==============================] - 0s 4ms/step - loss: 0.0050 - accuracy: 1.0000 - val_loss: 0.1221 - val_accuracy: 0.9573\n",
            "Epoch 29/30\n",
            "56/56 [==============================] - 0s 4ms/step - loss: 0.0046 - accuracy: 1.0000 - val_loss: 0.1209 - val_accuracy: 0.9573\n",
            "Epoch 30/30\n",
            "56/56 [==============================] - 0s 4ms/step - loss: 0.0042 - accuracy: 1.0000 - val_loss: 0.1203 - val_accuracy: 0.9596\n"
          ],
          "name": "stdout"
        }
      ]
    },
    {
      "cell_type": "code",
      "metadata": {
        "colab": {
          "base_uri": "https://localhost:8080/",
          "height": 541
        },
        "id": "SfwWwUuhn5c-",
        "outputId": "9e6a4b81-ac5e-464b-d3ae-5f8d48996922"
      },
      "source": [
        "import matplotlib.pyplot as plt\r\n",
        "\r\n",
        "\r\n",
        "def plot_graphs(history, string):\r\n",
        "  plt.plot(history.history[string])\r\n",
        "  plt.plot(history.history['val_'+string])\r\n",
        "  plt.xlabel(\"Epochs\")\r\n",
        "  plt.ylabel(string)\r\n",
        "  plt.legend([string, 'val_'+string])\r\n",
        "  plt.show()\r\n",
        "  \r\n",
        "plot_graphs(history, \"accuracy\")\r\n",
        "plot_graphs(history, \"loss\")"
      ],
      "execution_count": 34,
      "outputs": [
        {
          "output_type": "display_data",
          "data": {
            "image/png": "[encoded data removed]",
            "text/plain": [
              "<Figure size 432x288 with 1 Axes>"
            ]
          },
          "metadata": {
            "tags": [],
            "needs_background": "light"
          }
        },
        {
          "output_type": "display_data",
          "data": {
            "image/png": "[encoded data removed]",
            "text/plain": [
              "<Figure size 432x288 with 1 Axes>"
            ]
          },
          "metadata": {
            "tags": [],
            "needs_background": "light"
          }
        }
      ]
    },
    {
      "cell_type": "code",
      "metadata": {
        "id": "Kv5FDeJRn7Ib"
      },
      "source": [
        "reverse_word_index = dict([(value, key) for (key, value) in word_index.items()])\r\n",
        "\r\n",
        "def decode_sentence(text):\r\n",
        "    return ' '.join([reverse_word_index.get(i, '?') for i in text])\r\n"
      ],
      "execution_count": 35,
      "outputs": []
    },
    {
      "cell_type": "code",
      "metadata": {
        "colab": {
          "base_uri": "https://localhost:8080/"
        },
        "id": "0TCyx-6loBVD",
        "outputId": "73e59f62-9d67-4208-aec5-012d18427c24"
      },
      "source": [
        "e = model.layers[0]\r\n",
        "weights = e.get_weights()[0]\r\n",
        "print(weights.shape) # shape: (vocab_size, embedding_dim)\r\n",
        "\r\n",
        "# Expected output\r\n",
        "# (1000, 16)"
      ],
      "execution_count": 36,
      "outputs": [
        {
          "output_type": "stream",
          "text": [
            "(10000, 16)\n"
          ],
          "name": "stdout"
        }
      ]
    },
    {
      "cell_type": "code",
      "metadata": {
        "id": "fY4WR9ZCoCaH"
      },
      "source": [
        "import io\r\n",
        "\r\n",
        "out_v = io.open('vecs.tsv', 'w', encoding='utf-8')\r\n",
        "out_m = io.open('meta.tsv', 'w', encoding='utf-8')\r\n",
        "for word_num in range(1, vocab_size):\r\n",
        "  word = reverse_word_index[word_num]\r\n",
        "  embeddings = weights[word_num]\r\n",
        "  out_m.write(word + \"\\n\")\r\n",
        "  out_v.write('\\t'.join([str(x) for x in embeddings]) + \"\\n\")\r\n",
        "out_v.close()\r\n",
        "out_m.close()"
      ],
      "execution_count": 37,
      "outputs": []
    },
    {
      "cell_type": "code",
      "metadata": {
        "colab": {
          "base_uri": "https://localhost:8080/",
          "height": 17
        },
        "id": "a-ulk9LUoDgL",
        "outputId": "8c1e0e15-bf28-4bc7-ca9a-bc07e5e5c923"
      },
      "source": [
        "try:\r\n",
        "  from google.colab import files\r\n",
        "except ImportError:\r\n",
        "  pass\r\n",
        "else:\r\n",
        "  files.download('vecs.tsv')\r\n",
        "  files.download('meta.tsv')"
      ],
      "execution_count": 38,
      "outputs": [
        {
          "output_type": "display_data",
          "data": {
            "application/javascript": [
              "\n",
              "    async function download(id, filename, size) {\n",
              "      if (!google.colab.kernel.accessAllowed) {\n",
              "        return;\n",
              "      }\n",
              "      const div = document.createElement('div');\n",
              "      const label = document.createElement('label');\n",
              "      label.textContent = `Downloading \"${filename}\": `;\n",
              "      div.appendChild(label);\n",
              "      const progress = document.createElement('progress');\n",
              "      progress.max = size;\n",
              "      div.appendChild(progress);\n",
              "      document.body.appendChild(div);\n",
              "\n",
              "      const buffers = [];\n",
              "      let downloaded = 0;\n",
              "\n",
              "      const channel = await google.colab.kernel.comms.open(id);\n",
              "      // Send a message to notify the kernel that we're ready.\n",
              "      channel.send({})\n",
              "\n",
              "      for await (const message of channel.messages) {\n",
              "        // Send a message to notify the kernel that we're ready.\n",
              "        channel.send({})\n",
              "        if (message.buffers) {\n",
              "          for (const buffer of message.buffers) {\n",
              "            buffers.push(buffer);\n",
              "            downloaded += buffer.byteLength;\n",
              "            progress.value = downloaded;\n",
              "          }\n",
              "        }\n",
              "      }\n",
              "      const blob = new Blob(buffers, {type: 'application/binary'});\n",
              "      const a = document.createElement('a');\n",
              "      a.href = window.URL.createObjectURL(blob);\n",
              "      a.download = filename;\n",
              "      div.appendChild(a);\n",
              "      a.click();\n",
              "      div.remove();\n",
              "    }\n",
              "  "
            ],
            "text/plain": [
              "<IPython.core.display.Javascript object>"
            ]
          },
          "metadata": {
            "tags": []
          }
        },
        {
          "output_type": "display_data",
          "data": {
            "application/javascript": [
              "download(\"download_eb727e19-3a18-4cb3-9f1a-0682255a7764\", \"vecs.tsv\", 1876036)"
            ],
            "text/plain": [
              "<IPython.core.display.Javascript object>"
            ]
          },
          "metadata": {
            "tags": []
          }
        },
        {
          "output_type": "display_data",
          "data": {
            "application/javascript": [
              "\n",
              "    async function download(id, filename, size) {\n",
              "      if (!google.colab.kernel.accessAllowed) {\n",
              "        return;\n",
              "      }\n",
              "      const div = document.createElement('div');\n",
              "      const label = document.createElement('label');\n",
              "      label.textContent = `Downloading \"${filename}\": `;\n",
              "      div.appendChild(label);\n",
              "      const progress = document.createElement('progress');\n",
              "      progress.max = size;\n",
              "      div.appendChild(progress);\n",
              "      document.body.appendChild(div);\n",
              "\n",
              "      const buffers = [];\n",
              "      let downloaded = 0;\n",
              "\n",
              "      const channel = await google.colab.kernel.comms.open(id);\n",
              "      // Send a message to notify the kernel that we're ready.\n",
              "      channel.send({})\n",
              "\n",
              "      for await (const message of channel.messages) {\n",
              "        // Send a message to notify the kernel that we're ready.\n",
              "        channel.send({})\n",
              "        if (message.buffers) {\n",
              "          for (const buffer of message.buffers) {\n",
              "            buffers.push(buffer);\n",
              "            downloaded += buffer.byteLength;\n",
              "            progress.value = downloaded;\n",
              "          }\n",
              "        }\n",
              "      }\n",
              "      const blob = new Blob(buffers, {type: 'application/binary'});\n",
              "      const a = document.createElement('a');\n",
              "      a.href = window.URL.createObjectURL(blob);\n",
              "      a.download = filename;\n",
              "      div.appendChild(a);\n",
              "      a.click();\n",
              "      div.remove();\n",
              "    }\n",
              "  "
            ],
            "text/plain": [
              "<IPython.core.display.Javascript object>"
            ]
          },
          "metadata": {
            "tags": []
          }
        },
        {
          "output_type": "display_data",
          "data": {
            "application/javascript": [
              "download(\"download_99b048ef-ade0-4cc0-9690-a9238be4b46a\", \"meta.tsv\", 77677)"
            ],
            "text/plain": [
              "<IPython.core.display.Javascript object>"
            ]
          },
          "metadata": {
            "tags": []
          }
        }
      ]
    }
  ]
}