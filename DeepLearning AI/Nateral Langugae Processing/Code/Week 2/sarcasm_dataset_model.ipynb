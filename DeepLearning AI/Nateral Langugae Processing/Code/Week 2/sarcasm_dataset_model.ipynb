{
  "nbformat": 4,
  "nbformat_minor": 0,
  "metadata": {
    "colab": {
      "name": "sarcasm-dataset-model.ipynb",
      "provenance": []
    },
    "kernelspec": {
      "name": "python3",
      "display_name": "Python 3"
    }
  },
  "cells": [
    {
      "cell_type": "code",
      "metadata": {
        "colab": {
          "base_uri": "https://localhost:8080/"
        },
        "id": "kzsA7ZgXKBh1",
        "outputId": "50585894-0f4f-4f7d-ec31-8126498a609d"
      },
      "source": [
        "tyimport json\r\n",
        "import tensorflow as tf\r\n",
        "from tensorflow import keras\r\n",
        "from tensorflow.keras.preprocessing.text import Tokenizer\r\n",
        "from tensorflow.keras.preprocessing.sequence import pad_sequences\r\n",
        "\r\n",
        "!wget --no-check-certificate \\\r\n",
        "    https://storage.googleapis.com/laurencemoroney-blog.appspot.com/sarcasm.json \\\r\n",
        "    -O /tmp/sarcasm.json"
      ],
      "execution_count": null,
      "outputs": [
        {
          "output_type": "stream",
          "text": [
            "--2020-12-19 23:33:15--  https://storage.googleapis.com/laurencemoroney-blog.appspot.com/sarcasm.json\n",
            "Resolving storage.googleapis.com (storage.googleapis.com)... 74.125.139.128, 173.194.210.128, 173.194.212.128, ...\n",
            "Connecting to storage.googleapis.com (storage.googleapis.com)|74.125.139.128|:443... connected.\n",
            "HTTP request sent, awaiting response... 200 OK\n",
            "Length: 5643545 (5.4M) [application/json]\n",
            "Saving to: ‘/tmp/sarcasm.json’\n",
            "\n",
            "\r/tmp/sarcasm.json     0%[                    ]       0  --.-KB/s               \r/tmp/sarcasm.json   100%[===================>]   5.38M  --.-KB/s    in 0.03s   \n",
            "\n",
            "2020-12-19 23:33:15 (204 MB/s) - ‘/tmp/sarcasm.json’ saved [5643545/5643545]\n",
            "\n"
          ],
          "name": "stdout"
        }
      ]
    },
    {
      "cell_type": "code",
      "metadata": {
        "id": "rT-E4cYrLwSB"
      },
      "source": [
        "vocab_size = 10000\r\n",
        "embedding_dim = 16\r\n",
        "max_length = 32\r\n",
        "trunc_type = 'post'\r\n",
        "padding_type = 'post'\r\n",
        "oov_tok = \"<OOV>\"\r\n",
        "training_size = 20000\r\n",
        "\r\n",
        "with open(\"/tmp/sarcasm.json\", 'r') as f:\r\n",
        "  datastore = json.load(f)\r\n",
        "\r\n",
        "sentences = []\r\n",
        "labels = []\r\n",
        "\r\n",
        "for item in datastore:\r\n",
        "  sentences.append(item['headline'])\r\n",
        "  labels.append(item['is_sarcastic'])"
      ],
      "execution_count": null,
      "outputs": []
    },
    {
      "cell_type": "code",
      "metadata": {
        "id": "9nurtt_fRx58"
      },
      "source": [
        "training_sentences = sentences[0:training_size]\r\n",
        "testing_sentences = sentences[training_size:]\r\n",
        "training_labels = labels[0:training_size]\r\n",
        "testing_labels = labels[training_size:]\r\n",
        "\r\n",
        "tokinizer = Tokenizer(vocab_size, oov_token=oov_tok)\r\n",
        "tokinizer.fit_on_texts(training_sentences)"
      ],
      "execution_count": null,
      "outputs": []
    },
    {
      "cell_type": "code",
      "metadata": {
        "id": "aVgnP2zATTTF"
      },
      "source": [
        "word_index = tokinizer.word_index\r\n",
        "\r\n",
        "training_sequences = tokinizer.texts_to_sequences(training_sentences)\r\n",
        "training_padded = pad_sequences(training_sequences, maxlen=max_length, \r\n",
        "                                padding=padding_type, truncating=trunc_type)\r\n",
        "\r\n",
        "testing_sequences = tokinizer.texts_to_sequences(testing_sentences)\r\n",
        "testing_padded = pad_sequences(testing_sequences, maxlen=max_length, \r\n",
        "                                padding=padding_type, truncating=trunc_type)"
      ],
      "execution_count": null,
      "outputs": []
    },
    {
      "cell_type": "code",
      "metadata": {
        "id": "MA4TfnPrT-4H"
      },
      "source": [
        "model = keras.Sequential([\r\n",
        "  keras.layers.Embedding(vocab_size, embedding_dim, input_length=max_length),\r\n",
        "  keras.layers.GlobalAveragePooling1D(),\r\n",
        "  keras.layers.Dense(24, activation=\"relu\"),\r\n",
        "  keras.layers.Dense(1, activation=\"sigmoid\")\r\n",
        "])\r\n",
        "\r\n",
        "model.compile(loss='binary_crossentropy', optimizer='adam', metrics='acc')"
      ],
      "execution_count": null,
      "outputs": []
    },
    {
      "cell_type": "code",
      "metadata": {
        "id": "XjyLABgxVawh"
      },
      "source": [
        "import numpy as np\r\n",
        "training_padded = np.array(training_padded)\r\n",
        "training_labels = np.array(training_labels)\r\n",
        "testing_padded = np.array(testing_padded)\r\n",
        "testing_labels = np.array(testing_labels)"
      ],
      "execution_count": null,
      "outputs": []
    },
    {
      "cell_type": "code",
      "metadata": {
        "colab": {
          "base_uri": "https://localhost:8080/"
        },
        "id": "inVTzXQNUY-5",
        "outputId": "6be6fb87-7b7f-4e05-9e4a-1362df9ddb7b"
      },
      "source": [
        "num_epochs = 30\r\n",
        "\r\n",
        "history = model.fit(training_padded, training_labels, epochs=num_epochs,\r\n",
        "                    validation_data=(testing_padded, testing_labels))"
      ],
      "execution_count": null,
      "outputs": [
        {
          "output_type": "stream",
          "text": [
            "Epoch 1/30\n",
            "625/625 [==============================] - 3s 4ms/step - loss: 0.6461 - acc: 0.6110 - val_loss: 0.4046 - val_acc: 0.8234\n",
            "Epoch 2/30\n",
            "625/625 [==============================] - 2s 4ms/step - loss: 0.3293 - acc: 0.8703 - val_loss: 0.3449 - val_acc: 0.8535\n",
            "Epoch 3/30\n",
            "625/625 [==============================] - 2s 4ms/step - loss: 0.2349 - acc: 0.9098 - val_loss: 0.3420 - val_acc: 0.8545\n",
            "Epoch 4/30\n",
            "625/625 [==============================] - 2s 4ms/step - loss: 0.1903 - acc: 0.9302 - val_loss: 0.3691 - val_acc: 0.8514\n",
            "Epoch 5/30\n",
            "625/625 [==============================] - 2s 4ms/step - loss: 0.1516 - acc: 0.9468 - val_loss: 0.3948 - val_acc: 0.8469\n",
            "Epoch 6/30\n",
            "625/625 [==============================] - 2s 4ms/step - loss: 0.1276 - acc: 0.9565 - val_loss: 0.4332 - val_acc: 0.8404\n",
            "Epoch 7/30\n",
            "625/625 [==============================] - 2s 4ms/step - loss: 0.1042 - acc: 0.9666 - val_loss: 0.4807 - val_acc: 0.8351\n",
            "Epoch 8/30\n",
            "625/625 [==============================] - 2s 4ms/step - loss: 0.0939 - acc: 0.9691 - val_loss: 0.5121 - val_acc: 0.8414\n",
            "Epoch 9/30\n",
            "625/625 [==============================] - 2s 4ms/step - loss: 0.0788 - acc: 0.9757 - val_loss: 0.5578 - val_acc: 0.8377\n",
            "Epoch 10/30\n",
            "625/625 [==============================] - 2s 4ms/step - loss: 0.0642 - acc: 0.9815 - val_loss: 0.6099 - val_acc: 0.8316\n",
            "Epoch 11/30\n",
            "625/625 [==============================] - 2s 4ms/step - loss: 0.0545 - acc: 0.9837 - val_loss: 0.6624 - val_acc: 0.8261\n",
            "Epoch 12/30\n",
            "625/625 [==============================] - 2s 4ms/step - loss: 0.0489 - acc: 0.9854 - val_loss: 0.7448 - val_acc: 0.8220\n",
            "Epoch 13/30\n",
            "625/625 [==============================] - 2s 4ms/step - loss: 0.0421 - acc: 0.9880 - val_loss: 0.7790 - val_acc: 0.8205\n",
            "Epoch 14/30\n",
            "625/625 [==============================] - 2s 4ms/step - loss: 0.0353 - acc: 0.9893 - val_loss: 0.8346 - val_acc: 0.8195\n",
            "Epoch 15/30\n",
            "625/625 [==============================] - 2s 4ms/step - loss: 0.0324 - acc: 0.9918 - val_loss: 0.8872 - val_acc: 0.8159\n",
            "Epoch 16/30\n",
            "625/625 [==============================] - 2s 4ms/step - loss: 0.0288 - acc: 0.9915 - val_loss: 0.9561 - val_acc: 0.8177\n",
            "Epoch 17/30\n",
            "625/625 [==============================] - 2s 4ms/step - loss: 0.0243 - acc: 0.9938 - val_loss: 1.0197 - val_acc: 0.8126\n",
            "Epoch 18/30\n",
            "625/625 [==============================] - 2s 4ms/step - loss: 0.0221 - acc: 0.9930 - val_loss: 1.1338 - val_acc: 0.8109\n",
            "Epoch 19/30\n",
            "625/625 [==============================] - 2s 4ms/step - loss: 0.0191 - acc: 0.9946 - val_loss: 1.1349 - val_acc: 0.8111\n",
            "Epoch 20/30\n",
            "625/625 [==============================] - 2s 4ms/step - loss: 0.0195 - acc: 0.9951 - val_loss: 1.2443 - val_acc: 0.8083\n",
            "Epoch 21/30\n",
            "625/625 [==============================] - 2s 4ms/step - loss: 0.0163 - acc: 0.9959 - val_loss: 1.3009 - val_acc: 0.8053\n",
            "Epoch 22/30\n",
            "625/625 [==============================] - 2s 3ms/step - loss: 0.0170 - acc: 0.9948 - val_loss: 1.3182 - val_acc: 0.8073\n",
            "Epoch 23/30\n",
            "625/625 [==============================] - 2s 4ms/step - loss: 0.0147 - acc: 0.9960 - val_loss: 1.3781 - val_acc: 0.8083\n",
            "Epoch 24/30\n",
            "625/625 [==============================] - 2s 4ms/step - loss: 0.0110 - acc: 0.9973 - val_loss: 1.4340 - val_acc: 0.8064\n",
            "Epoch 25/30\n",
            "625/625 [==============================] - 2s 4ms/step - loss: 0.0090 - acc: 0.9979 - val_loss: 1.5002 - val_acc: 0.8047\n",
            "Epoch 26/30\n",
            "625/625 [==============================] - 2s 4ms/step - loss: 0.0116 - acc: 0.9965 - val_loss: 1.5828 - val_acc: 0.8059\n",
            "Epoch 27/30\n",
            "625/625 [==============================] - 2s 4ms/step - loss: 0.0072 - acc: 0.9984 - val_loss: 1.6423 - val_acc: 0.8043\n",
            "Epoch 28/30\n",
            "625/625 [==============================] - 2s 3ms/step - loss: 0.0070 - acc: 0.9983 - val_loss: 1.6764 - val_acc: 0.8073\n",
            "Epoch 29/30\n",
            "625/625 [==============================] - 2s 3ms/step - loss: 0.0070 - acc: 0.9986 - val_loss: 1.7411 - val_acc: 0.8062\n",
            "Epoch 30/30\n",
            "625/625 [==============================] - 2s 3ms/step - loss: 0.0097 - acc: 0.9965 - val_loss: 1.8127 - val_acc: 0.8044\n"
          ],
          "name": "stdout"
        }
      ]
    },
    {
      "cell_type": "code",
      "metadata": {
        "id": "2jGzjn3QV8TA"
      },
      "source": [
        "import matplotlib.pyplot as plt"
      ],
      "execution_count": null,
      "outputs": []
    },
    {
      "cell_type": "code",
      "metadata": {
        "colab": {
          "base_uri": "https://localhost:8080/",
          "height": 295
        },
        "id": "9ABt-wRpUoJo",
        "outputId": "fad07d43-aec8-4322-c74f-90e62a2ab109"
      },
      "source": [
        "plt.plot(history.history['loss'])\r\n",
        "plt.plot(history.history['val_loss'])\r\n",
        "plt.title('model loss')\r\n",
        "plt.ylabel('loss')\r\n",
        "plt.xlabel('epoch')\r\n",
        "plt.legend(['train', 'test'], loc='upper left')\r\n",
        "plt.show()"
      ],
      "execution_count": null,
      "outputs": [
        {
          "output_type": "display_data",
          "data": {
            "image/png": "[encoded data removed]",
            "text/plain": [
              "<Figure size 432x288 with 1 Axes>"
            ]
          },
          "metadata": {
            "tags": [],
            "needs_background": "light"
          }
        }
      ]
    },
    {
      "cell_type": "code",
      "metadata": {
        "colab": {
          "base_uri": "https://localhost:8080/",
          "height": 295
        },
        "id": "YNt2Nq-6V3RY",
        "outputId": "49d83aac-2f72-4e2f-d1fc-e3ad9b31b51f"
      },
      "source": [
        "plt.plot(history.history['acc'])\r\n",
        "plt.plot(history.history['val_acc'])\r\n",
        "plt.title('model accuracy')\r\n",
        "plt.ylabel('accuracy')\r\n",
        "plt.xlabel('epoch')\r\n",
        "plt.legend(['train', 'test'], loc='upper left')\r\n",
        "plt.show()"
      ],
      "execution_count": null,
      "outputs": [
        {
          "output_type": "display_data",
          "data": {
            "image/png": "[encoded data removed]",
            "text/plain": [
              "<Figure size 432x288 with 1 Axes>"
            ]
          },
          "metadata": {
            "tags": [],
            "needs_background": "light"
          }
        }
      ]
    }
  ]
}