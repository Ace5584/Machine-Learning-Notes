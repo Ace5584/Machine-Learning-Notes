{
  "nbformat": 4,
  "nbformat_minor": 0,
  "metadata": {
    "colab": {
      "name": "padding-text.ipynb",
      "provenance": []
    },
    "kernelspec": {
      "name": "python3",
      "display_name": "Python 3"
    }
  },
  "cells": [
    {
      "cell_type": "code",
      "metadata": {
        "id": "jrcMSW-Oh58s"
      },
      "source": [
        "import tensorflow as tf\r\n",
        "from tensorflow import keras\r\n",
        "from tensorflow.keras.preprocessing.text import Tokenizer\r\n",
        "from tensorflow.keras.preprocessing.sequence import pad_sequences"
      ],
      "execution_count": 8,
      "outputs": []
    },
    {
      "cell_type": "code",
      "metadata": {
        "id": "wNtALby-iApK"
      },
      "source": [
        "sentences = [\r\n",
        "  'I love my dog',\r\n",
        "  \"I love my cat\",\r\n",
        "  \"You love my dog!\"\r\n",
        "  \"Do you think my dog is amazing?\"\r\n",
        "]\r\n",
        "\r\n",
        "tokenizer = Tokenizer(num_words=100)\r\n",
        "tokenizer.fit_on_texts(sentences)\r\n",
        "word_index = tokenizer.word_index"
      ],
      "execution_count": 6,
      "outputs": []
    },
    {
      "cell_type": "code",
      "metadata": {
        "colab": {
          "base_uri": "https://localhost:8080/"
        },
        "id": "RyLlgK6XiF8O",
        "outputId": "4eaf3bec-51aa-4aaf-fcd2-d612ef177bab"
      },
      "source": [
        "sequences = tokenizer.texts_to_sequences(sentences)\r\n",
        "\r\n",
        "padded = pad_sequences(sequences, padding='post')\r\n",
        "\r\n",
        "print(word_index)\r\n",
        "print(sequences)\r\n",
        "print(padded)"
      ],
      "execution_count": 10,
      "outputs": [
        {
          "output_type": "stream",
          "text": [
            "{'my': 1, 'love': 2, 'dog': 3, 'i': 4, 'you': 5, 'cat': 6, 'do': 7, 'think': 8, 'is': 9, 'amazing': 10}\n",
            "[[4, 2, 1, 3], [4, 2, 1, 6], [5, 2, 1, 3, 7, 5, 8, 1, 3, 9, 10]]\n",
            "[[ 4  2  1  3  0  0  0  0  0  0  0]\n",
            " [ 4  2  1  6  0  0  0  0  0  0  0]\n",
            " [ 5  2  1  3  7  5  8  1  3  9 10]]\n"
          ],
          "name": "stdout"
        }
      ]
    }
  ]
}