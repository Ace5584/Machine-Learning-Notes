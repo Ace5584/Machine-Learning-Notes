{
  "nbformat": 4,
  "nbformat_minor": 0,
  "metadata": {
    "colab": {
      "name": "simple-text.ipynb",
      "provenance": []
    },
    "kernelspec": {
      "name": "python3",
      "display_name": "Python 3"
    }
  },
  "cells": [
    {
      "cell_type": "code",
      "metadata": {
        "id": "jOvSfpXwfu1n"
      },
      "source": [
        "import tensorflow as tf\r\n",
        "from tensorflow import keras\r\n",
        "from tensorflow.keras.preprocessing.text import Tokenizer"
      ],
      "execution_count": 1,
      "outputs": []
    },
    {
      "cell_type": "code",
      "metadata": {
        "colab": {
          "base_uri": "https://localhost:8080/"
        },
        "id": "Z8xh-lQof8A_",
        "outputId": "9c6828c9-af56-45b1-bd2a-6c734dba8bc5"
      },
      "source": [
        "sentences = [\r\n",
        "  'I love my dog',\r\n",
        "  \"I love my cat\",\r\n",
        "  \"You love your dog!\"\r\n",
        "]\r\n",
        "\r\n",
        "tokenizer = Tokenizer(num_words=100)\r\n",
        "tokenizer.fit_on_texts(sentences)\r\n",
        "word_index = tokenizer.word_index\r\n",
        "print(word_index)"
      ],
      "execution_count": 2,
      "outputs": [
        {
          "output_type": "stream",
          "text": [
            "{'love': 1, 'i': 2, 'my': 3, 'dog': 4, 'cat': 5, 'you': 6, 'your': 7}\n"
          ],
          "name": "stdout"
        }
      ]
    }
  ]
}