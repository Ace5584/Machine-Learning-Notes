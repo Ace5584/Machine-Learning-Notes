{
  "nbformat": 4,
  "nbformat_minor": 0,
  "metadata": {
    "colab": {
      "name": "loading-data-tfds.ipynb",
      "provenance": []
    },
    "kernelspec": {
      "name": "python3",
      "display_name": "Python 3"
    }
  },
  "cells": [
    {
      "cell_type": "code",
      "metadata": {
        "id": "ToqfKNKwb5DU"
      },
      "source": [
        "import tensorflow as tf\r\n",
        "from tensorflow import keras"
      ],
      "execution_count": 1,
      "outputs": []
    },
    {
      "cell_type": "code",
      "metadata": {
        "colab": {
          "base_uri": "https://localhost:8080/"
        },
        "id": "vm6DTP-hcAFG",
        "outputId": "f733cec6-46f2-419b-b99d-c98d9045b36e"
      },
      "source": [
        "titanic_file_path = tf.keras.utils.get_file(\"train.csv\", \"https://storage.googleapis.com/tf-datasets/titanic/train.csv\")"
      ],
      "execution_count": 2,
      "outputs": [
        {
          "output_type": "stream",
          "text": [
            "Downloading data from https://storage.googleapis.com/tf-datasets/titanic/train.csv\n",
            "32768/30874 [===============================] - 0s 0us/step\n"
          ],
          "name": "stdout"
        }
      ]
    },
    {
      "cell_type": "code",
      "metadata": {
        "id": "mCONArG0cCaW"
      },
      "source": [
        "titanic_csv_ds = tf.data.experimental.make_csv_dataset(\r\n",
        "    titanic_file_path,\r\n",
        "    batch_size=5,\r\n",
        "    label_name='survived',\r\n",
        "    num_epochs=1,\r\n",
        "    ignore_errors=True\r\n",
        ")"
      ],
      "execution_count": 4,
      "outputs": []
    },
    {
      "cell_type": "code",
      "metadata": {
        "colab": {
          "base_uri": "https://localhost:8080/"
        },
        "id": "PiBHAGBNcQtR",
        "outputId": "ba67fca1-edec-42d3-d418-00950ff76492"
      },
      "source": [
        "for batch, label in titanic_csv_ds.take(1):\r\n",
        "  for key, value in batch.items():\r\n",
        "    print(f\"{key:20s}: {value}\")\r\n",
        "  print()\r\n",
        "  print(f\"{'label':20s}: {label}\")"
      ],
      "execution_count": 9,
      "outputs": [
        {
          "output_type": "stream",
          "text": [
            "sex                 : [b'female' b'male' b'female' b'male' b'male']\n",
            "age                 : [28. 33.  2.  3. 48.]\n",
            "n_siblings_spouses  : [0 0 1 1 0]\n",
            "parch               : [0 0 1 1 0]\n",
            "fare                : [ 7.75    7.775  26.     18.75    7.8542]\n",
            "class               : [b'Third' b'Third' b'Second' b'Second' b'Third']\n",
            "deck                : [b'unknown' b'unknown' b'unknown' b'unknown' b'unknown']\n",
            "embark_town         : [b'Queenstown' b'Southampton' b'Southampton' b'Southampton' b'Southampton']\n",
            "alone               : [b'y' b'y' b'n' b'n' b'y']\n",
            "\n",
            "label               : [1 0 1 1 0]\n"
          ],
          "name": "stdout"
        }
      ]
    }
  ]
}