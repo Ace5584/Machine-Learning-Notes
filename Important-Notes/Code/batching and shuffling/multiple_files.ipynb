{
  "nbformat": 4,
  "nbformat_minor": 0,
  "metadata": {
    "colab": {
      "name": "multiple-files",
      "provenance": []
    },
    "kernelspec": {
      "name": "python3",
      "display_name": "Python 3"
    }
  },
  "cells": [
    {
      "cell_type": "code",
      "metadata": {
        "id": "I7r5HL7y-JGd"
      },
      "source": [
        "import tensorflow as tf\r\n",
        "from tensorflow import keras\r\n",
        "import matplotlib.pyplot as plt"
      ],
      "execution_count": 2,
      "outputs": []
    },
    {
      "cell_type": "code",
      "metadata": {
        "colab": {
          "base_uri": "https://localhost:8080/"
        },
        "id": "F08nytwI95HK",
        "outputId": "f52c87fe-9473-481b-a43f-dc9db1c1781f"
      },
      "source": [
        "fonts_zip = tf.keras.utils.get_file(\r\n",
        "    'fonts.zip',  \"https://archive.ics.uci.edu/ml/machine-learning-databases/00417/fonts.zip\",\r\n",
        "    cache_dir='.', cache_subdir='fonts',\r\n",
        "    extract=True)"
      ],
      "execution_count": 3,
      "outputs": [
        {
          "output_type": "stream",
          "text": [
            "Downloading data from https://archive.ics.uci.edu/ml/machine-learning-databases/00417/fonts.zip\n",
            "160317440/160313983 [==============================] - 4s 0us/step\n"
          ],
          "name": "stdout"
        }
      ]
    },
    {
      "cell_type": "code",
      "metadata": {
        "colab": {
          "base_uri": "https://localhost:8080/"
        },
        "id": "_YOslPmS-B0G",
        "outputId": "d2b1c9f8-79c4-41ec-8ffc-2177d8e26138"
      },
      "source": [
        "import pathlib\r\n",
        "font_csvs = sorted(str(p) for p in pathlib.Path('fonts').glob(\"*.csv\"))\r\n",
        "\r\n",
        "font_csvs[:10]"
      ],
      "execution_count": 5,
      "outputs": [
        {
          "output_type": "execute_result",
          "data": {
            "text/plain": [
              "['fonts/AGENCY.csv',\n",
              " 'fonts/ARIAL.csv',\n",
              " 'fonts/BAITI.csv',\n",
              " 'fonts/BANKGOTHIC.csv',\n",
              " 'fonts/BASKERVILLE.csv',\n",
              " 'fonts/BAUHAUS.csv',\n",
              " 'fonts/BELL.csv',\n",
              " 'fonts/BERLIN.csv',\n",
              " 'fonts/BERNARD.csv',\n",
              " 'fonts/BITSTREAMVERA.csv']"
            ]
          },
          "metadata": {
            "tags": []
          },
          "execution_count": 5
        }
      ]
    },
    {
      "cell_type": "code",
      "metadata": {
        "colab": {
          "base_uri": "https://localhost:8080/"
        },
        "id": "Ziiz4Fnr-k5b",
        "outputId": "8e872311-ebb9-462f-d7f6-86d5f3d8acab"
      },
      "source": [
        "len(font_csvs)"
      ],
      "execution_count": 9,
      "outputs": [
        {
          "output_type": "execute_result",
          "data": {
            "text/plain": [
              "153"
            ]
          },
          "metadata": {
            "tags": []
          },
          "execution_count": 9
        }
      ]
    },
    {
      "cell_type": "code",
      "metadata": {
        "id": "bGcbLxjmAaOc"
      },
      "source": [
        "fonts_ds = tf.data.experimental.make_csv_dataset(\r\n",
        "    file_pattern=\"fonts/*.csv\", batch_size=10, \r\n",
        "    num_epochs=1, num_parallel_reads=20, shuffle_buffer_size=10000)"
      ],
      "execution_count": 12,
      "outputs": []
    },
    {
      "cell_type": "code",
      "metadata": {
        "colab": {
          "base_uri": "https://localhost:8080/"
        },
        "id": "6jF2F4Km-m65",
        "outputId": "283e0373-27f7-4b10-e384-764fdab6c426"
      },
      "source": [
        "for features in fonts_ds.take(1):\r\n",
        "  for i, (name, value) in enumerate(features.items()):\r\n",
        "    if i>15:\r\n",
        "      break\r\n",
        "    print(f\"{name:20s}: {value}\")\r\n",
        "print('...')\r\n",
        "print(f\"[total: {len(features)} features]\")"
      ],
      "execution_count": 13,
      "outputs": [
        {
          "output_type": "stream",
          "text": [
            "font                : [b'CHILLER' b'SIMPLEX' b'COPPERPLATE' b'COPPERPLATE' b'NIAGARA'\n",
            " b'JOKERMAN' b'WIDE' b'NIAGARA' b'LEELAWADEE' b'JAVANESE']\n",
            "fontVariant         : [b'CHILLER' b'SIMPLEX' b'COPPERPLATE GOTHIC LIGHT'\n",
            " b'COPPERPLATE GOTHIC LIGHT' b'NIAGARA SOLID' b'JOKERMAN' b'WIDE LATIN'\n",
            " b'NIAGARA SOLID' b'LEELAWADEE UI SEMILIGHT' b'JAVANESE TEXT']\n",
            "m_label             : [  89 8707 8776  218   64  222 8250  114 3636  252]\n",
            "strength            : [0.4 0.4 0.7 0.4 0.4 0.4 0.7 0.4 0.4 0.4]\n",
            "italic              : [1 1 0 0 1 0 0 0 0 0]\n",
            "orientation         : [0. 0. 0. 0. 0. 0. 0. 0. 0. 0.]\n",
            "m_top               : [27 38 45 21 37 40 58 44 40 59]\n",
            "m_left              : [32 24 21 25 26 24 25 20 23 21]\n",
            "originalH           : [52 50 21 58 37 58 21 35 49 46]\n",
            "originalW           : [34 42 33 43 28 39 23 16 33 34]\n",
            "h                   : [20 20 20 20 20 20 20 20 20 20]\n",
            "w                   : [20 20 20 20 20 20 20 20 20 20]\n",
            "r0c0                : [  1   1   1   1   1   1 255 146   1   1]\n",
            "r0c1                : [  1   1   1   1   1   1 255 146   1   1]\n",
            "r0c2                : [  1   1   7   1   1   1 255 201   1   1]\n",
            "r0c3                : [  1   1 101   1   1 236 255 255  84   1]\n",
            "...\n",
            "[total: 412 features]\n"
          ],
          "name": "stdout"
        }
      ]
    }
  ]
}