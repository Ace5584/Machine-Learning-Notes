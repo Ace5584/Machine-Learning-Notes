{
  "nbformat": 4,
  "nbformat_minor": 0,
  "metadata": {
    "colab": {
      "name": "Basic-tensorflow-data.ipynb",
      "provenance": [],
      "toc_visible": true
    },
    "kernelspec": {
      "name": "python3",
      "display_name": "Python 3"
    }
  },
  "cells": [
    {
      "cell_type": "code",
      "metadata": {
        "id": "d_8CjdtxHuDj"
      },
      "source": [
        "import tensorflow as tf\r\n",
        "from tensorflow import keras\r\n",
        "from tensorflow.data import Dataset\r\n",
        "from tensorflow import data\r\n",
        "import numpy as np\r\n",
        "import pandas as pd"
      ],
      "execution_count": 5,
      "outputs": []
    },
    {
      "cell_type": "markdown",
      "metadata": {
        "id": "HnbuTjuPHxB3"
      },
      "source": [
        "## Basic Uses"
      ]
    },
    {
      "cell_type": "markdown",
      "metadata": {
        "id": "OmHVXy_EIIN6"
      },
      "source": [
        "Simplist way to create a dataset is to use a python list"
      ]
    },
    {
      "cell_type": "code",
      "metadata": {
        "colab": {
          "base_uri": "https://localhost:8080/"
        },
        "id": "YrvraL3AICHA",
        "outputId": "c46a0013-64ba-41fe-fa8b-973902ba8aae"
      },
      "source": [
        "simple_dataset = Dataset.from_tensor_slices([1, 2, 3])\r\n",
        "for element in simple_dataset:\r\n",
        "  print(element)"
      ],
      "execution_count": 4,
      "outputs": [
        {
          "output_type": "stream",
          "text": [
            "tf.Tensor(1, shape=(), dtype=int32)\n",
            "tf.Tensor(2, shape=(), dtype=int32)\n",
            "tf.Tensor(3, shape=(), dtype=int32)\n"
          ],
          "name": "stdout"
        }
      ]
    },
    {
      "cell_type": "markdown",
      "metadata": {
        "id": "liPZ84_oJBqS"
      },
      "source": [
        "Process from text file"
      ]
    },
    {
      "cell_type": "code",
      "metadata": {
        "colab": {
          "base_uri": "https://localhost:8080/"
        },
        "id": "lqu_e5OMJERs",
        "outputId": "358ffa04-d6f2-4449-c074-96b6a23e8e3e"
      },
      "source": [
        "txt_dataset = data.TextLineDataset([\"text-file-1.txt\", \"text-file-2.txt\"])\r\n",
        "for element in txt_dataset:\r\n",
        "  print(element) "
      ],
      "execution_count": 7,
      "outputs": [
        {
          "output_type": "stream",
          "text": [
            "tf.Tensor(b'A', shape=(), dtype=string)\n",
            "tf.Tensor(b'B', shape=(), dtype=string)\n",
            "tf.Tensor(b'C', shape=(), dtype=string)\n",
            "tf.Tensor(b'D', shape=(), dtype=string)\n",
            "tf.Tensor(b'E', shape=(), dtype=string)\n",
            "tf.Tensor(b'F', shape=(), dtype=string)\n",
            "tf.Tensor(b'G', shape=(), dtype=string)\n",
            "tf.Tensor(b'A', shape=(), dtype=string)\n",
            "tf.Tensor(b'B', shape=(), dtype=string)\n",
            "tf.Tensor(b'C', shape=(), dtype=string)\n",
            "tf.Tensor(b'D', shape=(), dtype=string)\n",
            "tf.Tensor(b'E', shape=(), dtype=string)\n",
            "tf.Tensor(b'F', shape=(), dtype=string)\n",
            "tf.Tensor(b'G', shape=(), dtype=string)\n"
          ],
          "name": "stdout"
        }
      ]
    },
    {
      "cell_type": "markdown",
      "metadata": {
        "id": "hzBittzFJV2M"
      },
      "source": [
        "Could also import tfrecord files using this line:\r\n",
        "\r\n",
        "`dataset = tf.data.TFRecordDataset([\"file1.tfrecords\", \"file2.tfrecords\"])`"
      ]
    },
    {
      "cell_type": "markdown",
      "metadata": {
        "id": "sDuSX5oRJun8"
      },
      "source": [
        "Create dataset of files with matching pattern names:\r\n",
        "\r\n",
        "`matching_datset = Dataset.list_files(\"/path/*.txt\")`\r\n",
        "\r\n",
        "!Replace path with file path!"
      ]
    },
    {
      "cell_type": "markdown",
      "metadata": {
        "id": "iTX68c0BKgVI"
      },
      "source": [
        "Can also apply transformation to data"
      ]
    },
    {
      "cell_type": "code",
      "metadata": {
        "colab": {
          "base_uri": "https://localhost:8080/"
        },
        "id": "5HYtH_P0KWuR",
        "outputId": "070cc652-71ef-4ff0-dccb-fab2040e38e6"
      },
      "source": [
        "simple_dataset = simple_dataset.map(lambda x: x**2)\r\n",
        "list(simple_dataset.as_numpy_iterator())"
      ],
      "execution_count": 12,
      "outputs": [
        {
          "output_type": "execute_result",
          "data": {
            "text/plain": [
              "[1, 16, 81]"
            ]
          },
          "metadata": {
            "tags": []
          },
          "execution_count": 12
        }
      ]
    }
  ]
}