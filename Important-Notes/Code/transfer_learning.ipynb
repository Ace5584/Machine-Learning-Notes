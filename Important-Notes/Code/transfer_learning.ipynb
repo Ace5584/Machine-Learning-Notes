{
  "nbformat": 4,
  "nbformat_minor": 0,
  "metadata": {
    "colab": {
      "name": "transfer-learning.ipynb",
      "provenance": []
    },
    "kernelspec": {
      "name": "python3",
      "display_name": "Python 3"
    },
    "accelerator": "GPU"
  },
  "cells": [
    {
      "cell_type": "code",
      "metadata": {
        "id": "11hnGpCLMdTL"
      },
      "source": [
        "import tensorflow as tf\r\n",
        "from tensorflow import keras\r\n",
        "import numpy as np\r\n",
        "import matplotlib.pyplot as plt"
      ],
      "execution_count": 1,
      "outputs": []
    },
    {
      "cell_type": "code",
      "metadata": {
        "colab": {
          "base_uri": "https://localhost:8080/"
        },
        "id": "LlDdnWKFMmnU",
        "outputId": "e8274540-7691-4a81-c7ae-54092cc090a6"
      },
      "source": [
        "(train_x, train_y), (test_x, test_y) = keras.datasets.cifar10.load_data()\r\n",
        "\r\n",
        "base_model = keras.applications.VGG19(input_shape=(32, 32, 3),\r\n",
        "                                               include_top=False,\r\n",
        "                                               weights='imagenet')\r\n",
        "\r\n",
        "base_model.trainable = False\r\n",
        "\r\n",
        "model = keras.models.Sequential()\r\n",
        "model.add(base_model)\r\n",
        "model.add(keras.layers.Flatten())\r\n",
        "model.add(keras.layers.Dropout(0.5))\r\n",
        "model.add(keras.layers.Dense(1024,activation='relu'))\r\n",
        "model.add(keras.layers.Dense(512,activation='relu')) \r\n",
        "model.add(keras.layers.Dense(10, activation='softmax'))\r\n",
        "\r\n",
        "model.compile(optimizer=\"adam\", loss=\"sparse_categorical_crossentropy\", \r\n",
        "              metrics=\"acc\")\r\n",
        "\r\n",
        "model.fit(train_x, train_y, epochs=10, validation_data=(test_x, test_y))"
      ],
      "execution_count": null,
      "outputs": [
        {
          "output_type": "stream",
          "text": [
            "Downloading data from https://www.cs.toronto.edu/~kriz/cifar-10-python.tar.gz\n",
            "170500096/170498071 [==============================] - 4s 0us/step\n",
            "Downloading data from https://storage.googleapis.com/tensorflow/keras-applications/vgg19/vgg19_weights_tf_dim_ordering_tf_kernels_notop.h5\n",
            "80142336/80134624 [==============================] - 1s 0us/step\n",
            "Epoch 1/10\n",
            "1563/1563 [==============================] - 582s 373ms/step - loss: 2.0052 - acc: 0.4067 - val_loss: 1.4247 - val_acc: 0.5057\n",
            "Epoch 2/10\n",
            " 278/1563 [====>.........................] - ETA: 6:35 - loss: 1.5464 - acc: 0.4574"
          ],
          "name": "stdout"
        }
      ]
    }
  ]
}