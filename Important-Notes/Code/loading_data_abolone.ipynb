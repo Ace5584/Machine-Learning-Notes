{
  "nbformat": 4,
  "nbformat_minor": 0,
  "metadata": {
    "colab": {
      "name": "loading_data_abolone.ipynb",
      "provenance": [],
      "collapsed_sections": []
    },
    "kernelspec": {
      "name": "python3",
      "display_name": "Python 3"
    }
  },
  "cells": [
    {
      "cell_type": "code",
      "metadata": {
        "id": "EuNorQ2ooZDd"
      },
      "source": [
        "import numpy as np\r\n",
        "import pandas as pd\r\n",
        "import tensorflow as tf\r\n",
        "from tensorflow import keras\r\n",
        "\r\n",
        "# Make NumPy values easier to read\r\n",
        "np.set_printoptions(precision=3, suppress=True)"
      ],
      "execution_count": null,
      "outputs": []
    },
    {
      "cell_type": "code",
      "metadata": {
        "colab": {
          "base_uri": "https://localhost:8080/",
          "height": 203
        },
        "id": "Wk-pX2RVo6r_",
        "outputId": "620d6168-015f-4836-868d-320f7a2455d8"
      },
      "source": [
        "abalone_train = pd.read_csv(\r\n",
        "    \"https://storage.googleapis.com/download.tensorflow.org/data/abalone_train.csv\",\r\n",
        "    names=[\"Length\", \"Diameter\", \"Height\", \"Whole weight\", \"Shucked weight\",\r\n",
        "           \"Viscera weight\", \"Shell weight\", \"Age\"])\r\n",
        "\r\n",
        "abalone_train.head()"
      ],
      "execution_count": null,
      "outputs": [
        {
          "output_type": "execute_result",
          "data": {
            "text/html": [
              "<div>\n",
              "<style scoped>\n",
              "    .dataframe tbody tr th:only-of-type {\n",
              "        vertical-align: middle;\n",
              "    }\n",
              "\n",
              "    .dataframe tbody tr th {\n",
              "        vertical-align: top;\n",
              "    }\n",
              "\n",
              "    .dataframe thead th {\n",
              "        text-align: right;\n",
              "    }\n",
              "</style>\n",
              "<table border=\"1\" class=\"dataframe\">\n",
              "  <thead>\n",
              "    <tr style=\"text-align: right;\">\n",
              "      <th></th>\n",
              "      <th>Length</th>\n",
              "      <th>Diameter</th>\n",
              "      <th>Height</th>\n",
              "      <th>Whole weight</th>\n",
              "      <th>Shucked weight</th>\n",
              "      <th>Viscera weight</th>\n",
              "      <th>Shell weight</th>\n",
              "      <th>Age</th>\n",
              "    </tr>\n",
              "  </thead>\n",
              "  <tbody>\n",
              "    <tr>\n",
              "      <th>0</th>\n",
              "      <td>0.435</td>\n",
              "      <td>0.335</td>\n",
              "      <td>0.110</td>\n",
              "      <td>0.334</td>\n",
              "      <td>0.1355</td>\n",
              "      <td>0.0775</td>\n",
              "      <td>0.0965</td>\n",
              "      <td>7</td>\n",
              "    </tr>\n",
              "    <tr>\n",
              "      <th>1</th>\n",
              "      <td>0.585</td>\n",
              "      <td>0.450</td>\n",
              "      <td>0.125</td>\n",
              "      <td>0.874</td>\n",
              "      <td>0.3545</td>\n",
              "      <td>0.2075</td>\n",
              "      <td>0.2250</td>\n",
              "      <td>6</td>\n",
              "    </tr>\n",
              "    <tr>\n",
              "      <th>2</th>\n",
              "      <td>0.655</td>\n",
              "      <td>0.510</td>\n",
              "      <td>0.160</td>\n",
              "      <td>1.092</td>\n",
              "      <td>0.3960</td>\n",
              "      <td>0.2825</td>\n",
              "      <td>0.3700</td>\n",
              "      <td>14</td>\n",
              "    </tr>\n",
              "    <tr>\n",
              "      <th>3</th>\n",
              "      <td>0.545</td>\n",
              "      <td>0.425</td>\n",
              "      <td>0.125</td>\n",
              "      <td>0.768</td>\n",
              "      <td>0.2940</td>\n",
              "      <td>0.1495</td>\n",
              "      <td>0.2600</td>\n",
              "      <td>16</td>\n",
              "    </tr>\n",
              "    <tr>\n",
              "      <th>4</th>\n",
              "      <td>0.545</td>\n",
              "      <td>0.420</td>\n",
              "      <td>0.130</td>\n",
              "      <td>0.879</td>\n",
              "      <td>0.3740</td>\n",
              "      <td>0.1695</td>\n",
              "      <td>0.2300</td>\n",
              "      <td>13</td>\n",
              "    </tr>\n",
              "  </tbody>\n",
              "</table>\n",
              "</div>"
            ],
            "text/plain": [
              "   Length  Diameter  Height  ...  Viscera weight  Shell weight  Age\n",
              "0   0.435     0.335   0.110  ...          0.0775        0.0965    7\n",
              "1   0.585     0.450   0.125  ...          0.2075        0.2250    6\n",
              "2   0.655     0.510   0.160  ...          0.2825        0.3700   14\n",
              "3   0.545     0.425   0.125  ...          0.1495        0.2600   16\n",
              "4   0.545     0.420   0.130  ...          0.1695        0.2300   13\n",
              "\n",
              "[5 rows x 8 columns]"
            ]
          },
          "metadata": {
            "tags": []
          },
          "execution_count": 2
        }
      ]
    },
    {
      "cell_type": "code",
      "metadata": {
        "colab": {
          "base_uri": "https://localhost:8080/"
        },
        "id": "QKOIR0mupOMY",
        "outputId": "cc44b60d-1560-45d6-e4c6-cdf424b016b9"
      },
      "source": [
        "abalone_features = abalone_train.copy()\r\n",
        "abalone_labels = abalone_features.pop('Age')\r\n",
        "abalone_features = np.array(abalone_features)\r\n",
        "abalone_features"
      ],
      "execution_count": null,
      "outputs": [
        {
          "output_type": "execute_result",
          "data": {
            "text/plain": [
              "array([[0.435, 0.335, 0.11 , ..., 0.136, 0.077, 0.097],\n",
              "       [0.585, 0.45 , 0.125, ..., 0.354, 0.207, 0.225],\n",
              "       [0.655, 0.51 , 0.16 , ..., 0.396, 0.282, 0.37 ],\n",
              "       ...,\n",
              "       [0.53 , 0.42 , 0.13 , ..., 0.374, 0.167, 0.249],\n",
              "       [0.395, 0.315, 0.105, ..., 0.118, 0.091, 0.119],\n",
              "       [0.45 , 0.355, 0.12 , ..., 0.115, 0.067, 0.16 ]])"
            ]
          },
          "metadata": {
            "tags": []
          },
          "execution_count": 4
        }
      ]
    },
    {
      "cell_type": "code",
      "metadata": {
        "colab": {
          "base_uri": "https://localhost:8080/"
        },
        "id": "hDLLWt8IqsBz",
        "outputId": "d2460405-4e61-43b5-e3ef-239c4107091f"
      },
      "source": [
        "abalone_model = keras.Sequential([\r\n",
        "  keras.layers.Dense(64),\r\n",
        "  keras.layers.Dense(1)\r\n",
        "])\r\n",
        "\r\n",
        "abalone_model.compile(loss=\"mse\", optimizer=\"adam\")\r\n",
        "\r\n",
        "abalone_model.fit(abalone_features, abalone_labels, epochs=10)"
      ],
      "execution_count": null,
      "outputs": [
        {
          "output_type": "stream",
          "text": [
            "Epoch 1/10\n",
            "104/104 [==============================] - 0s 935us/step - loss: 61.1937\n",
            "Epoch 2/10\n",
            "104/104 [==============================] - 0s 903us/step - loss: 11.5101\n",
            "Epoch 3/10\n",
            "104/104 [==============================] - 0s 835us/step - loss: 8.6012\n",
            "Epoch 4/10\n",
            "104/104 [==============================] - 0s 934us/step - loss: 8.0525\n",
            "Epoch 5/10\n",
            "104/104 [==============================] - 0s 895us/step - loss: 7.5766\n",
            "Epoch 6/10\n",
            "104/104 [==============================] - 0s 816us/step - loss: 7.2048\n",
            "Epoch 7/10\n",
            "104/104 [==============================] - 0s 906us/step - loss: 6.9129\n",
            "Epoch 8/10\n",
            "104/104 [==============================] - 0s 863us/step - loss: 6.7406\n",
            "Epoch 9/10\n",
            "104/104 [==============================] - 0s 838us/step - loss: 6.5850\n",
            "Epoch 10/10\n",
            "104/104 [==============================] - 0s 844us/step - loss: 6.4875\n"
          ],
          "name": "stdout"
        },
        {
          "output_type": "execute_result",
          "data": {
            "text/plain": [
              "<tensorflow.python.keras.callbacks.History at 0x7f43dd21c748>"
            ]
          },
          "metadata": {
            "tags": []
          },
          "execution_count": 5
        }
      ]
    },
    {
      "cell_type": "markdown",
      "metadata": {
        "id": "IC0JwvATwVeF"
      },
      "source": [
        "Include basic Normalization "
      ]
    },
    {
      "cell_type": "code",
      "metadata": {
        "colab": {
          "base_uri": "https://localhost:8080/"
        },
        "id": "leCjkPv4rYTr",
        "outputId": "51b2351b-9eb8-4905-a9c3-35ec04ec90ba"
      },
      "source": [
        "normalize = keras.layers.experimental.preprocessing.Normalization()\r\n",
        "normalize.adapt(abalone_features)\r\n",
        "norm_abalone_model = keras.Sequential([\r\n",
        "  normalize,\r\n",
        "  keras.layers.Dense(64),\r\n",
        "  keras.layers.Dense(1)\r\n",
        "])\r\n",
        "\r\n",
        "abalone_model.compile(loss=\"mse\", optimizer=\"adam\")\r\n",
        "\r\n",
        "abalone_model.fit(abalone_features, abalone_labels, epochs=10)"
      ],
      "execution_count": null,
      "outputs": [
        {
          "output_type": "stream",
          "text": [
            "Epoch 1/10\n",
            "104/104 [==============================] - 0s 1ms/step - loss: 6.3579\n",
            "Epoch 2/10\n",
            "104/104 [==============================] - 0s 948us/step - loss: 6.1990\n",
            "Epoch 3/10\n",
            "104/104 [==============================] - 0s 893us/step - loss: 6.0791\n",
            "Epoch 4/10\n",
            "104/104 [==============================] - 0s 910us/step - loss: 5.9523\n",
            "Epoch 5/10\n",
            "104/104 [==============================] - 0s 880us/step - loss: 5.8328\n",
            "Epoch 6/10\n",
            "104/104 [==============================] - 0s 830us/step - loss: 5.6963\n",
            "Epoch 7/10\n",
            "104/104 [==============================] - 0s 830us/step - loss: 5.6162\n",
            "Epoch 8/10\n",
            "104/104 [==============================] - 0s 833us/step - loss: 5.4754\n",
            "Epoch 9/10\n",
            "104/104 [==============================] - 0s 887us/step - loss: 5.4194\n",
            "Epoch 10/10\n",
            "104/104 [==============================] - 0s 888us/step - loss: 5.2838\n"
          ],
          "name": "stdout"
        },
        {
          "output_type": "execute_result",
          "data": {
            "text/plain": [
              "<tensorflow.python.keras.callbacks.History at 0x7f43daabb748>"
            ]
          },
          "metadata": {
            "tags": []
          },
          "execution_count": 10
        }
      ]
    }
  ]
}