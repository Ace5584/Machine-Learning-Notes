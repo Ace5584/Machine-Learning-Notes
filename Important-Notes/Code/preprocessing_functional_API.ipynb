{
  "nbformat": 4,
  "nbformat_minor": 0,
  "metadata": {
    "colab": {
      "name": "preprocessing-functional-API.ipynb",
      "provenance": []
    },
    "kernelspec": {
      "name": "python3",
      "display_name": "Python 3"
    }
  },
  "cells": [
    {
      "cell_type": "markdown",
      "metadata": {
        "id": "Hw4HdkR8o4gv"
      },
      "source": [
        "Functional API operates on \"symbolic\" tensors. Normal \"eager\" tensors have values. \"Symbolic\" tensors do not have values. They instead build representation of the calculation so that it's possible can run later."
      ]
    },
    {
      "cell_type": "markdown",
      "metadata": {
        "id": "gTnObhPztRz1"
      },
      "source": [
        "The Keras functional API is a way to create models that are more flexible than the tf.keras.Sequential API. The functional API can handle models with non-linear topology, shared layers, and even multiple inputs or outputs."
      ]
    },
    {
      "cell_type": "code",
      "metadata": {
        "id": "YgBDcnUDovph"
      },
      "source": [
        "import tensorflow as tf\r\n",
        "from tensorflow import keras"
      ],
      "execution_count": 1,
      "outputs": []
    },
    {
      "cell_type": "code",
      "metadata": {
        "colab": {
          "base_uri": "https://localhost:8080/"
        },
        "id": "LJ9HhvhMpDON",
        "outputId": "749169af-3ecb-4915-9066-5d3753ecfc51"
      },
      "source": [
        "# Creating a symbolic input\r\n",
        "input = keras.Input(shape=(), dtype=tf.float32)\r\n",
        "\r\n",
        "# Do a calculation using is\r\n",
        "result = 2 * input + 1\r\n",
        "\r\n",
        "# Result does not have a value\r\n",
        "result"
      ],
      "execution_count": 2,
      "outputs": [
        {
          "output_type": "execute_result",
          "data": {
            "text/plain": [
              "<tf.Tensor 'AddV2:0' shape=(None,) dtype=float32>"
            ]
          },
          "metadata": {
            "tags": []
          },
          "execution_count": 2
        }
      ]
    },
    {
      "cell_type": "code",
      "metadata": {
        "colab": {
          "base_uri": "https://localhost:8080/"
        },
        "id": "YN3LWDmesePe",
        "outputId": "005f9733-898e-4a60-8450-8bfd5cc6d3a2"
      },
      "source": [
        "calc = keras.Model(inputs=input, outputs=result)\r\n",
        "print(calc(1).numpy())\r\n",
        "print(calc(3).numpy())"
      ],
      "execution_count": 5,
      "outputs": [
        {
          "output_type": "stream",
          "text": [
            "3.0\n",
            "7.0\n"
          ],
          "name": "stdout"
        }
      ]
    }
  ]
}