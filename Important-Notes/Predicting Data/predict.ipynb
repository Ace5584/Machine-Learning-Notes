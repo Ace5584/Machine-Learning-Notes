{
  "nbformat": 4,
  "nbformat_minor": 0,
  "metadata": {
    "colab": {
      "name": "predict.ipynb",
      "provenance": []
    },
    "kernelspec": {
      "name": "python3",
      "display_name": "Python 3"
    },
    "accelerator": "GPU"
  },
  "cells": [
    {
      "cell_type": "code",
      "metadata": {
        "id": "8MU-fznNWI6h"
      },
      "source": [
        "import tensorflow as tf\r\n",
        "from tensorflow import keras\r\n",
        "import numpy as np\r\n",
        "import matplotlib.pyplot as plt"
      ],
      "execution_count": 1,
      "outputs": []
    },
    {
      "cell_type": "code",
      "metadata": {
        "colab": {
          "base_uri": "https://localhost:8080/"
        },
        "id": "u6tyJQ1mmwdy",
        "outputId": "74c5dd81-e94d-4b6c-d6a5-32fdf218d672"
      },
      "source": [
        "(train_x, train_y), (test_x, test_y) = keras.datasets.mnist.load_data()\r\n",
        "train_x, test_x = train_x / 255, test_x / 255\r\n",
        "\r\n",
        "model = keras.models.Sequential([\r\n",
        "  keras.layers.Flatten(),\r\n",
        "  keras.layers.Dense(128, activation=\"relu\"),\r\n",
        "  keras.layers.Dense(10, activation=\"softmax\")\r\n",
        "])\r\n",
        "\r\n",
        "model.compile(optimizer=\"nadam\", loss=\"sparse_categorical_crossentropy\",\r\n",
        "              metrics=\"acc\")\r\n",
        "\r\n",
        "model.fit(train_x, train_y, epochs=10, validation_data=(test_x, test_y))"
      ],
      "execution_count": 2,
      "outputs": [
        {
          "output_type": "stream",
          "text": [
            "Downloading data from https://storage.googleapis.com/tensorflow/tf-keras-datasets/mnist.npz\n",
            "11493376/11490434 [==============================] - 0s 0us/step\n",
            "Epoch 1/10\n",
            "1875/1875 [==============================] - 5s 3ms/step - loss: 0.2593 - acc: 0.9269 - val_loss: 0.1329 - val_acc: 0.9614\n",
            "Epoch 2/10\n",
            "1875/1875 [==============================] - 4s 2ms/step - loss: 0.1117 - acc: 0.9678 - val_loss: 0.0943 - val_acc: 0.9705\n",
            "Epoch 3/10\n",
            "1875/1875 [==============================] - 4s 2ms/step - loss: 0.0767 - acc: 0.9766 - val_loss: 0.0792 - val_acc: 0.9771\n",
            "Epoch 4/10\n",
            "1875/1875 [==============================] - 5s 2ms/step - loss: 0.0569 - acc: 0.9828 - val_loss: 0.0789 - val_acc: 0.9762\n",
            "Epoch 5/10\n",
            "1875/1875 [==============================] - 5s 2ms/step - loss: 0.0438 - acc: 0.9866 - val_loss: 0.0772 - val_acc: 0.9781\n",
            "Epoch 6/10\n",
            "1875/1875 [==============================] - 5s 2ms/step - loss: 0.0346 - acc: 0.9895 - val_loss: 0.0879 - val_acc: 0.9741\n",
            "Epoch 7/10\n",
            "1875/1875 [==============================] - 5s 3ms/step - loss: 0.0281 - acc: 0.9910 - val_loss: 0.0787 - val_acc: 0.9767\n",
            "Epoch 8/10\n",
            "1875/1875 [==============================] - 5s 2ms/step - loss: 0.0222 - acc: 0.9935 - val_loss: 0.0888 - val_acc: 0.9748\n",
            "Epoch 9/10\n",
            "1875/1875 [==============================] - 4s 2ms/step - loss: 0.0183 - acc: 0.9944 - val_loss: 0.0877 - val_acc: 0.9758\n",
            "Epoch 10/10\n",
            "1875/1875 [==============================] - 5s 2ms/step - loss: 0.0151 - acc: 0.9953 - val_loss: 0.0785 - val_acc: 0.9793\n"
          ],
          "name": "stdout"
        },
        {
          "output_type": "execute_result",
          "data": {
            "text/plain": [
              "<tensorflow.python.keras.callbacks.History at 0x7f0f2015fcf8>"
            ]
          },
          "metadata": {
            "tags": []
          },
          "execution_count": 2
        }
      ]
    },
    {
      "cell_type": "code",
      "metadata": {
        "colab": {
          "base_uri": "https://localhost:8080/",
          "height": 353
        },
        "id": "9ravuVU_o8ci",
        "outputId": "669b339e-f443-4202-c161-82a4952c7552"
      },
      "source": [
        "reference = ['0', '1', '2', '3', '4', '5', '6', '7', '8', '9']\r\n",
        "\r\n",
        "plt.imshow(test_x[4])\r\n",
        "\r\n",
        "result = model.predict(test_x[:5]) # Predicting multiple results \r\n",
        "\r\n",
        "# Printing the multiple results\r\n",
        "for item in result:\r\n",
        "  print(reference[list(item).index(max(item))])"
      ],
      "execution_count": 3,
      "outputs": [
        {
          "output_type": "stream",
          "text": [
            "7\n",
            "2\n",
            "1\n",
            "0\n",
            "4\n"
          ],
          "name": "stdout"
        },
        {
          "output_type": "display_data",
          "data": {
            "image/png": "[encoded data removed]",
            "text/plain": [
              "<Figure size 432x288 with 1 Axes>"
            ]
          },
          "metadata": {
            "tags": [],
            "needs_background": "light"
          }
        }
      ]
    }
  ]
}