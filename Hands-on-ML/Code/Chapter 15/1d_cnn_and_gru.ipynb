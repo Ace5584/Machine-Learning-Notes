{
  "nbformat": 4,
  "nbformat_minor": 0,
  "metadata": {
    "colab": {
      "name": "1d-cnn-and-gru.ipynb",
      "provenance": []
    },
    "kernelspec": {
      "name": "python3",
      "display_name": "Python 3"
    }
  },
  "cells": [
    {
      "cell_type": "code",
      "metadata": {
        "id": "zBsiLRJVpRfZ"
      },
      "source": [
        "import tensorflow as tf\n",
        "from tensorflow import keras\n",
        "import numpy as np\n",
        "import matplotlib.pyplot as plt\n",
        "\n",
        "def generate_time_series(batch_size, n_steps):\n",
        "  freq1, freq2, offsets1, offsets2 = np.random.rand(4, batch_size, 1)\n",
        "  time = np.linspace(0, 1, n_steps)\n",
        "  series = 0.5 * np.sin((time - offsets1) * (freq1 * 10 + 10))\n",
        "  series += 0.2 * np.sin((time - offsets2) * (freq2 * 20 + 20))\n",
        "  series += 0.1 * (np.random.rand(batch_size, n_steps) - 0.5)\n",
        "  return series[..., np.newaxis].astype(np.float32)\n",
        "\n",
        "n_steps = 50\n",
        "series = generate_time_series(10000, n_steps + 1)\n",
        "X_train, y_train = series[:7000, :n_steps], series[:7000, -1]\n",
        "X_valid, y_valid = series[7000:9000, :n_steps], series[7000:9000, -1]\n",
        "X_test, y_test = series[9000:, :n_steps], series[9000:, -1]"
      ],
      "execution_count": 1,
      "outputs": []
    },
    {
      "cell_type": "code",
      "metadata": {
        "colab": {
          "base_uri": "https://localhost:8080/"
        },
        "id": "K6jO0jrUqrWE",
        "outputId": "e3a02514-7a9e-4655-a321-f132789a4eb2"
      },
      "source": [
        "n_steps = 50\n",
        "series = generate_time_series(10000, n_steps + 10)\n",
        "X_train = series[:7000, :n_steps]\n",
        "X_valid = series[7000:9000, :n_steps]\n",
        "X_test = series[9000:, :n_steps]\n",
        "Y = np.empty((10000, n_steps, 10))\n",
        "for step_ahead in range(1, 10 + 1):\n",
        "    Y[..., step_ahead - 1] = series[..., step_ahead:step_ahead + n_steps, 0]\n",
        "Y_train = Y[:7000]\n",
        "Y_valid = Y[7000:9000]\n",
        "Y_test = Y[9000:]\n",
        "\n",
        "model = keras.models.Sequential([\n",
        "  keras.layers.Conv1D(filters=20, kernel_size=4, strides=2, padding=\"valid\",\n",
        "                      input_shape=[None, 1]),\n",
        "  keras.layers.GRU(20, return_sequences=True),\n",
        "  keras.layers.GRU(20, return_sequences=True),\n",
        "  keras.layers.TimeDistributed(keras.layers.Dense(10))\n",
        "])\n",
        "\n",
        "def last_time_step_mse(Y_true, Y_pred):\n",
        "    return keras.metrics.mean_squared_error(Y_true[:, -1], Y_pred[:, -1])\n",
        "\n",
        "model.compile(loss=\"mse\", optimizer=\"adam\", metrics=[last_time_step_mse])\n",
        "\n",
        "history = model.fit(X_train, Y_train[:, 3::2], epochs=20, \n",
        "                    validation_data=(X_valid, Y_valid[:, 3::2]))"
      ],
      "execution_count": 4,
      "outputs": [
        {
          "output_type": "stream",
          "text": [
            "Epoch 1/20\n",
            "219/219 [==============================] - 5s 23ms/step - loss: 0.0687 - last_time_step_mse: 0.0607 - val_loss: 0.0468 - val_last_time_step_mse: 0.0381\n",
            "Epoch 2/20\n",
            "219/219 [==============================] - 4s 20ms/step - loss: 0.0401 - last_time_step_mse: 0.0313 - val_loss: 0.0368 - val_last_time_step_mse: 0.0292\n",
            "Epoch 3/20\n",
            "219/219 [==============================] - 5s 22ms/step - loss: 0.0322 - last_time_step_mse: 0.0231 - val_loss: 0.0299 - val_last_time_step_mse: 0.0198\n",
            "Epoch 4/20\n",
            "219/219 [==============================] - 5s 21ms/step - loss: 0.0279 - last_time_step_mse: 0.0176 - val_loss: 0.0264 - val_last_time_step_mse: 0.0155\n",
            "Epoch 5/20\n",
            "219/219 [==============================] - 4s 20ms/step - loss: 0.0252 - last_time_step_mse: 0.0141 - val_loss: 0.0242 - val_last_time_step_mse: 0.0126\n",
            "Epoch 6/20\n",
            "219/219 [==============================] - 5s 21ms/step - loss: 0.0236 - last_time_step_mse: 0.0125 - val_loss: 0.0237 - val_last_time_step_mse: 0.0125\n",
            "Epoch 7/20\n",
            "219/219 [==============================] - 5s 21ms/step - loss: 0.0229 - last_time_step_mse: 0.0118 - val_loss: 0.0226 - val_last_time_step_mse: 0.0110\n",
            "Epoch 8/20\n",
            "219/219 [==============================] - 5s 21ms/step - loss: 0.0224 - last_time_step_mse: 0.0112 - val_loss: 0.0231 - val_last_time_step_mse: 0.0121\n",
            "Epoch 9/20\n",
            "219/219 [==============================] - 4s 20ms/step - loss: 0.0220 - last_time_step_mse: 0.0109 - val_loss: 0.0222 - val_last_time_step_mse: 0.0110\n",
            "Epoch 10/20\n",
            "219/219 [==============================] - 4s 20ms/step - loss: 0.0217 - last_time_step_mse: 0.0107 - val_loss: 0.0216 - val_last_time_step_mse: 0.0102\n",
            "Epoch 11/20\n",
            "219/219 [==============================] - 4s 20ms/step - loss: 0.0213 - last_time_step_mse: 0.0103 - val_loss: 0.0215 - val_last_time_step_mse: 0.0101\n",
            "Epoch 12/20\n",
            "219/219 [==============================] - 5s 23ms/step - loss: 0.0211 - last_time_step_mse: 0.0103 - val_loss: 0.0213 - val_last_time_step_mse: 0.0102\n",
            "Epoch 13/20\n",
            "219/219 [==============================] - 5s 21ms/step - loss: 0.0208 - last_time_step_mse: 0.0101 - val_loss: 0.0209 - val_last_time_step_mse: 0.0098\n",
            "Epoch 14/20\n",
            "219/219 [==============================] - 5s 22ms/step - loss: 0.0206 - last_time_step_mse: 0.0099 - val_loss: 0.0209 - val_last_time_step_mse: 0.0101\n",
            "Epoch 15/20\n",
            "219/219 [==============================] - 5s 22ms/step - loss: 0.0204 - last_time_step_mse: 0.0098 - val_loss: 0.0205 - val_last_time_step_mse: 0.0098\n",
            "Epoch 16/20\n",
            "219/219 [==============================] - 5s 23ms/step - loss: 0.0202 - last_time_step_mse: 0.0098 - val_loss: 0.0208 - val_last_time_step_mse: 0.0101\n",
            "Epoch 17/20\n",
            "219/219 [==============================] - 5s 22ms/step - loss: 0.0201 - last_time_step_mse: 0.0098 - val_loss: 0.0202 - val_last_time_step_mse: 0.0097\n",
            "Epoch 18/20\n",
            "219/219 [==============================] - 5s 23ms/step - loss: 0.0198 - last_time_step_mse: 0.0095 - val_loss: 0.0204 - val_last_time_step_mse: 0.0097\n",
            "Epoch 19/20\n",
            "219/219 [==============================] - 5s 22ms/step - loss: 0.0197 - last_time_step_mse: 0.0095 - val_loss: 0.0199 - val_last_time_step_mse: 0.0094\n",
            "Epoch 20/20\n",
            "219/219 [==============================] - 5s 22ms/step - loss: 0.0195 - last_time_step_mse: 0.0094 - val_loss: 0.0196 - val_last_time_step_mse: 0.0091\n"
          ],
          "name": "stdout"
        }
      ]
    }
  ]
}