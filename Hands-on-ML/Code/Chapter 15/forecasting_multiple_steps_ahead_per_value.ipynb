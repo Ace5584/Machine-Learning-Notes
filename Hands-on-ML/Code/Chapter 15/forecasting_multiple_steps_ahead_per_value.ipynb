{
  "nbformat": 4,
  "nbformat_minor": 0,
  "metadata": {
    "colab": {
      "name": "forecasting-multiple-steps-ahead-per-value.ipynb",
      "provenance": []
    },
    "kernelspec": {
      "name": "python3",
      "display_name": "Python 3"
    }
  },
  "cells": [
    {
      "cell_type": "code",
      "metadata": {
        "id": "DRiq1gBulNq3"
      },
      "source": [
        "import tensorflow as tf\n",
        "from tensorflow import keras\n",
        "import numpy as np\n",
        "import matplotlib.pyplot as plt\n",
        "\n",
        "def generate_time_series(batch_size, n_steps):\n",
        "  freq1, freq2, offsets1, offsets2 = np.random.rand(4, batch_size, 1)\n",
        "  time = np.linspace(0, 1, n_steps)\n",
        "  series = 0.5 * np.sin((time - offsets1) * (freq1 * 10 + 10))\n",
        "  series += 0.2 * np.sin((time - offsets2) * (freq2 * 20 + 20))\n",
        "  series += 0.1 * (np.random.rand(batch_size, n_steps) - 0.5)\n",
        "  return series[..., np.newaxis].astype(np.float32)\n",
        "\n",
        "n_steps = 50\n",
        "series = generate_time_series(10000, n_steps + 1)\n",
        "X_train, y_train = series[:7000, :n_steps], series[:7000, -1]\n",
        "X_valid, y_valid = series[7000:9000, :n_steps], series[7000:9000, -1]\n",
        "X_test, y_test = series[9000:, :n_steps], series[9000:, -1]"
      ],
      "execution_count": 2,
      "outputs": []
    },
    {
      "cell_type": "code",
      "metadata": {
        "id": "5RYvO5arsny5"
      },
      "source": [
        "n_steps = 50\n",
        "series = generate_time_series(10000, n_steps + 10)\n",
        "X_train = series[:7000, :n_steps]\n",
        "X_valid = series[7000:9000, :n_steps]\n",
        "X_test = series[9000:, :n_steps]\n",
        "Y = np.empty((10000, n_steps, 10))\n",
        "for step_ahead in range(1, 10 + 1):\n",
        "    Y[..., step_ahead - 1] = series[..., step_ahead:step_ahead + n_steps, 0]\n",
        "Y_train = Y[:7000]\n",
        "Y_valid = Y[7000:9000]\n",
        "Y_test = Y[9000:]"
      ],
      "execution_count": 6,
      "outputs": []
    },
    {
      "cell_type": "code",
      "metadata": {
        "colab": {
          "base_uri": "https://localhost:8080/"
        },
        "id": "cESHtpcFs1Yn",
        "outputId": "9c897a48-c89b-4322-bcfb-d97b48ae9a7b"
      },
      "source": [
        "model = keras.models.Sequential([\n",
        "    keras.layers.SimpleRNN(20, return_sequences=True, input_shape=[None, 1]),\n",
        "    keras.layers.SimpleRNN(20, return_sequences=True),\n",
        "    keras.layers.TimeDistributed(keras.layers.Dense(10))\n",
        "])\n",
        "\n",
        "def last_time_step_mse(Y_true, Y_pred):\n",
        "    return keras.metrics.mean_squared_error(Y_true[:, -1], Y_pred[:, -1])\n",
        "\n",
        "model.compile(loss=\"mse\", optimizer=keras.optimizers.Adam(lr=0.01), metrics=[last_time_step_mse])\n",
        "history = model.fit(X_train, Y_train, epochs=20,\n",
        "                    validation_data=(X_valid, Y_valid))"
      ],
      "execution_count": 7,
      "outputs": [
        {
          "output_type": "stream",
          "text": [
            "Epoch 1/20\n",
            "219/219 [==============================] - 4s 16ms/step - loss: 0.0476 - last_time_step_mse: 0.0359 - val_loss: 0.0401 - val_last_time_step_mse: 0.0292\n",
            "Epoch 2/20\n",
            "219/219 [==============================] - 3s 15ms/step - loss: 0.0349 - last_time_step_mse: 0.0227 - val_loss: 0.0311 - val_last_time_step_mse: 0.0181\n",
            "Epoch 3/20\n",
            "219/219 [==============================] - 3s 15ms/step - loss: 0.0293 - last_time_step_mse: 0.0167 - val_loss: 0.0295 - val_last_time_step_mse: 0.0182\n",
            "Epoch 4/20\n",
            "219/219 [==============================] - 3s 15ms/step - loss: 0.0276 - last_time_step_mse: 0.0158 - val_loss: 0.0267 - val_last_time_step_mse: 0.0147\n",
            "Epoch 5/20\n",
            "219/219 [==============================] - 3s 15ms/step - loss: 0.0247 - last_time_step_mse: 0.0123 - val_loss: 0.0228 - val_last_time_step_mse: 0.0096\n",
            "Epoch 6/20\n",
            "219/219 [==============================] - 3s 15ms/step - loss: 0.0221 - last_time_step_mse: 0.0090 - val_loss: 0.0226 - val_last_time_step_mse: 0.0091\n",
            "Epoch 7/20\n",
            "219/219 [==============================] - 3s 15ms/step - loss: 0.0212 - last_time_step_mse: 0.0085 - val_loss: 0.0216 - val_last_time_step_mse: 0.0101\n",
            "Epoch 8/20\n",
            "219/219 [==============================] - 3s 15ms/step - loss: 0.0203 - last_time_step_mse: 0.0079 - val_loss: 0.0215 - val_last_time_step_mse: 0.0086\n",
            "Epoch 9/20\n",
            "219/219 [==============================] - 3s 15ms/step - loss: 0.0200 - last_time_step_mse: 0.0076 - val_loss: 0.0195 - val_last_time_step_mse: 0.0066\n",
            "Epoch 10/20\n",
            "219/219 [==============================] - 3s 15ms/step - loss: 0.0195 - last_time_step_mse: 0.0071 - val_loss: 0.0207 - val_last_time_step_mse: 0.0094\n",
            "Epoch 11/20\n",
            "219/219 [==============================] - 3s 15ms/step - loss: 0.0194 - last_time_step_mse: 0.0072 - val_loss: 0.0201 - val_last_time_step_mse: 0.0081\n",
            "Epoch 12/20\n",
            "219/219 [==============================] - 3s 15ms/step - loss: 0.0194 - last_time_step_mse: 0.0073 - val_loss: 0.0189 - val_last_time_step_mse: 0.0068\n",
            "Epoch 13/20\n",
            "219/219 [==============================] - 3s 15ms/step - loss: 0.0189 - last_time_step_mse: 0.0066 - val_loss: 0.0199 - val_last_time_step_mse: 0.0078\n",
            "Epoch 14/20\n",
            "219/219 [==============================] - 3s 15ms/step - loss: 0.0186 - last_time_step_mse: 0.0064 - val_loss: 0.0188 - val_last_time_step_mse: 0.0067\n",
            "Epoch 15/20\n",
            "219/219 [==============================] - 3s 15ms/step - loss: 0.0191 - last_time_step_mse: 0.0071 - val_loss: 0.0188 - val_last_time_step_mse: 0.0067\n",
            "Epoch 16/20\n",
            "219/219 [==============================] - 3s 15ms/step - loss: 0.0187 - last_time_step_mse: 0.0067 - val_loss: 0.0185 - val_last_time_step_mse: 0.0065\n",
            "Epoch 17/20\n",
            "219/219 [==============================] - 3s 15ms/step - loss: 0.0188 - last_time_step_mse: 0.0068 - val_loss: 0.0189 - val_last_time_step_mse: 0.0060\n",
            "Epoch 18/20\n",
            "219/219 [==============================] - 3s 15ms/step - loss: 0.0184 - last_time_step_mse: 0.0066 - val_loss: 0.0191 - val_last_time_step_mse: 0.0070\n",
            "Epoch 19/20\n",
            "219/219 [==============================] - 3s 15ms/step - loss: 0.0184 - last_time_step_mse: 0.0067 - val_loss: 0.0197 - val_last_time_step_mse: 0.0080\n",
            "Epoch 20/20\n",
            "219/219 [==============================] - 3s 15ms/step - loss: 0.0181 - last_time_step_mse: 0.0063 - val_loss: 0.0186 - val_last_time_step_mse: 0.0067\n"
          ],
          "name": "stdout"
        }
      ]
    }
  ]
}