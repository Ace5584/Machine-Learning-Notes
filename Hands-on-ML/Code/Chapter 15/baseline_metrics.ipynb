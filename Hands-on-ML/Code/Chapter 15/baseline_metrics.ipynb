{
  "nbformat": 4,
  "nbformat_minor": 0,
  "metadata": {
    "colab": {
      "name": "baseline-metrics.ipynb",
      "provenance": []
    },
    "kernelspec": {
      "name": "python3",
      "display_name": "Python 3"
    }
  },
  "cells": [
    {
      "cell_type": "code",
      "metadata": {
        "id": "cBhuX6WbUAMi"
      },
      "source": [
        "import tensorflow as tf\n",
        "from tensorflow import keras\n",
        "import numpy as np\n",
        "\n",
        "def generate_time_series(batch_size, n_steps):\n",
        "  freq1, freq2, offsets1, offsets2 = np.random.rand(4, batch_size, 1)\n",
        "  time = np.linspace(0, 1, n_steps)\n",
        "  series = 0.5 * np.sin((time - offsets1) * (freq1 * 10 + 10))\n",
        "  series += 0.2 * np.sin((time - offsets2) * (freq2 * 20 + 20))\n",
        "  series += 0.1 * (np.random.rand(batch_size, n_steps) - 0.5)\n",
        "  return series[..., np.newaxis].astype(np.float32)\n",
        "\n",
        "n_steps = 50\n",
        "series = generate_time_series(10000, n_steps + 1)\n",
        "X_train, y_train = series[:7000, :n_steps], series[:7000, -1]\n",
        "X_valid, y_valid = series[7000:9000, :n_steps], series[7000:9000, -1]\n",
        "X_test, y_test = series[9000:, :n_steps], series[9000:, -1]"
      ],
      "execution_count": 1,
      "outputs": []
    },
    {
      "cell_type": "markdown",
      "metadata": {
        "id": "Qlknn-gMUhzT"
      },
      "source": [
        "Naive forecasting predicts the last value in each series and sometimes it surprisingly difficult to outperform. The MSE is about 0.020"
      ]
    },
    {
      "cell_type": "code",
      "metadata": {
        "colab": {
          "base_uri": "https://localhost:8080/"
        },
        "id": "jg57Hr9qUPSm",
        "outputId": "de09dd88-d829-4273-b92c-bd05eafd8bed"
      },
      "source": [
        "y_pred = X_valid[:, -1]\n",
        "np.mean(keras.losses.mean_squared_error(y_valid, y_pred))"
      ],
      "execution_count": 2,
      "outputs": [
        {
          "output_type": "execute_result",
          "data": {
            "text/plain": [
              "0.020760702"
            ]
          },
          "metadata": {
            "tags": []
          },
          "execution_count": 2
        }
      ]
    },
    {
      "cell_type": "markdown",
      "metadata": {
        "id": "bYdL61yFU0wE"
      },
      "source": [
        "Second approach using fully connected network"
      ]
    },
    {
      "cell_type": "code",
      "metadata": {
        "colab": {
          "base_uri": "https://localhost:8080/"
        },
        "id": "mo0q0U2Pbt7I",
        "outputId": "9937eefe-81eb-434b-d61d-f9a6778dac6a"
      },
      "source": [
        "model = keras.models.Sequential([\n",
        "  keras.layers.Flatten(input_shape=[50, 1]),\n",
        "  keras.layers.Dense(1)\n",
        "])\n",
        "\n",
        "model.compile(optimizer=\"adam\", loss=keras.losses.mse)\n",
        "\n",
        "model.fit(X_train, y_train, epochs=20)"
      ],
      "execution_count": 7,
      "outputs": [
        {
          "output_type": "stream",
          "text": [
            "Epoch 1/20\n",
            "219/219 [==============================] - 0s 911us/step - loss: 0.1531\n",
            "Epoch 2/20\n",
            "219/219 [==============================] - 0s 798us/step - loss: 0.0494\n",
            "Epoch 3/20\n",
            "219/219 [==============================] - 0s 802us/step - loss: 0.0299\n",
            "Epoch 4/20\n",
            "219/219 [==============================] - 0s 902us/step - loss: 0.0210\n",
            "Epoch 5/20\n",
            "219/219 [==============================] - 0s 796us/step - loss: 0.0161\n",
            "Epoch 6/20\n",
            "219/219 [==============================] - 0s 814us/step - loss: 0.0134\n",
            "Epoch 7/20\n",
            "219/219 [==============================] - 0s 901us/step - loss: 0.0115\n",
            "Epoch 8/20\n",
            "219/219 [==============================] - 0s 848us/step - loss: 0.0101\n",
            "Epoch 9/20\n",
            "219/219 [==============================] - 0s 815us/step - loss: 0.0090\n",
            "Epoch 10/20\n",
            "219/219 [==============================] - 0s 813us/step - loss: 0.0081\n",
            "Epoch 11/20\n",
            "219/219 [==============================] - 0s 924us/step - loss: 0.0073\n",
            "Epoch 12/20\n",
            "219/219 [==============================] - 0s 960us/step - loss: 0.0066\n",
            "Epoch 13/20\n",
            "219/219 [==============================] - 0s 1ms/step - loss: 0.0060\n",
            "Epoch 14/20\n",
            "219/219 [==============================] - 0s 1ms/step - loss: 0.0056\n",
            "Epoch 15/20\n",
            "219/219 [==============================] - 0s 1ms/step - loss: 0.0052\n",
            "Epoch 16/20\n",
            "219/219 [==============================] - 0s 1ms/step - loss: 0.0049\n",
            "Epoch 17/20\n",
            "219/219 [==============================] - 0s 1ms/step - loss: 0.0047\n",
            "Epoch 18/20\n",
            "219/219 [==============================] - 0s 1ms/step - loss: 0.0045\n",
            "Epoch 19/20\n",
            "219/219 [==============================] - 0s 984us/step - loss: 0.0044\n",
            "Epoch 20/20\n",
            "219/219 [==============================] - 0s 1ms/step - loss: 0.0042\n"
          ],
          "name": "stdout"
        },
        {
          "output_type": "execute_result",
          "data": {
            "text/plain": [
              "<tensorflow.python.keras.callbacks.History at 0x7fb71d2def60>"
            ]
          },
          "metadata": {
            "tags": []
          },
          "execution_count": 7
        }
      ]
    }
  ]
}