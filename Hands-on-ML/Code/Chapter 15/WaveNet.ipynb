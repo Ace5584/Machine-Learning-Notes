{
  "nbformat": 4,
  "nbformat_minor": 0,
  "metadata": {
    "colab": {
      "name": "WaveNet.ipynb",
      "provenance": []
    },
    "kernelspec": {
      "name": "python3",
      "display_name": "Python 3"
    }
  },
  "cells": [
    {
      "cell_type": "code",
      "metadata": {
        "id": "fCco57DUX14N"
      },
      "source": [
        "import tensorflow as tf\n",
        "from tensorflow import keras\n",
        "import numpy as np\n",
        "import matplotlib.pyplot as plt\n",
        "\n",
        "def generate_time_series(batch_size, n_steps):\n",
        "  freq1, freq2, offsets1, offsets2 = np.random.rand(4, batch_size, 1)\n",
        "  time = np.linspace(0, 1, n_steps)\n",
        "  series = 0.5 * np.sin((time - offsets1) * (freq1 * 10 + 10))\n",
        "  series += 0.2 * np.sin((time - offsets2) * (freq2 * 20 + 20))\n",
        "  series += 0.1 * (np.random.rand(batch_size, n_steps) - 0.5)\n",
        "  return series[..., np.newaxis].astype(np.float32)\n",
        "\n",
        "n_steps = 50\n",
        "series = generate_time_series(10000, n_steps + 10)\n",
        "X_train = series[:7000, :n_steps]\n",
        "X_valid = series[7000:9000, :n_steps]\n",
        "X_test = series[9000:, :n_steps]\n",
        "Y = np.empty((10000, n_steps, 10))\n",
        "for step_ahead in range(1, 10 + 1):\n",
        "    Y[..., step_ahead - 1] = series[..., step_ahead:step_ahead + n_steps, 0]\n",
        "Y_train = Y[:7000]\n",
        "Y_valid = Y[7000:9000]\n",
        "Y_test = Y[9000:]"
      ],
      "execution_count": 3,
      "outputs": []
    },
    {
      "cell_type": "code",
      "metadata": {
        "colab": {
          "base_uri": "https://localhost:8080/"
        },
        "id": "ewrFjEEmX56W",
        "outputId": "c1167419-5833-4b4a-ecd7-086d403f6e0c"
      },
      "source": [
        "def last_time_step_mse(Y_true, Y_pred):\n",
        "    return keras.metrics.mean_squared_error(Y_true[:, -1], Y_pred[:, -1])\n",
        "\n",
        "model = keras.models.Sequential()\n",
        "model.add(keras.layers.InputLayer(input_shape=[None, 1]))\n",
        "for rate in (1, 2, 4, 8) * 2:\n",
        "  model.add(keras.layers.Conv1D(filters=20, kernel_size=2, padding=\"causal\",\n",
        "                                activation=\"relu\", dilation_rate=rate))\n",
        "model.add(keras.layers.Conv1D(filters=10, kernel_size=1))\n",
        "model.compile(loss=\"mse\", optimizer=\"adam\", metrics=[last_time_step_mse])\n",
        "history = model.fit(X_train, Y_train, epochs=20, \n",
        "                    validation_data=(X_valid, Y_valid))"
      ],
      "execution_count": 4,
      "outputs": [
        {
          "output_type": "stream",
          "text": [
            "Epoch 1/20\n",
            "219/219 [==============================] - 3s 15ms/step - loss: 0.0657 - last_time_step_mse: 0.0533 - val_loss: 0.0355 - val_last_time_step_mse: 0.0221\n",
            "Epoch 2/20\n",
            "219/219 [==============================] - 3s 14ms/step - loss: 0.0314 - last_time_step_mse: 0.0184 - val_loss: 0.0292 - val_last_time_step_mse: 0.0166\n",
            "Epoch 3/20\n",
            "219/219 [==============================] - 3s 14ms/step - loss: 0.0274 - last_time_step_mse: 0.0150 - val_loss: 0.0263 - val_last_time_step_mse: 0.0135\n",
            "Epoch 4/20\n",
            "219/219 [==============================] - 3s 14ms/step - loss: 0.0254 - last_time_step_mse: 0.0133 - val_loss: 0.0253 - val_last_time_step_mse: 0.0132\n",
            "Epoch 5/20\n",
            "219/219 [==============================] - 3s 14ms/step - loss: 0.0241 - last_time_step_mse: 0.0120 - val_loss: 0.0237 - val_last_time_step_mse: 0.0113\n",
            "Epoch 6/20\n",
            "219/219 [==============================] - 3s 14ms/step - loss: 0.0232 - last_time_step_mse: 0.0113 - val_loss: 0.0231 - val_last_time_step_mse: 0.0114\n",
            "Epoch 7/20\n",
            "219/219 [==============================] - 5s 24ms/step - loss: 0.0226 - last_time_step_mse: 0.0107 - val_loss: 0.0230 - val_last_time_step_mse: 0.0114\n",
            "Epoch 8/20\n",
            "219/219 [==============================] - 6s 26ms/step - loss: 0.0221 - last_time_step_mse: 0.0104 - val_loss: 0.0230 - val_last_time_step_mse: 0.0113\n",
            "Epoch 9/20\n",
            "219/219 [==============================] - 4s 19ms/step - loss: 0.0218 - last_time_step_mse: 0.0102 - val_loss: 0.0218 - val_last_time_step_mse: 0.0098\n",
            "Epoch 10/20\n",
            "219/219 [==============================] - 3s 15ms/step - loss: 0.0214 - last_time_step_mse: 0.0099 - val_loss: 0.0210 - val_last_time_step_mse: 0.0094\n",
            "Epoch 11/20\n",
            "219/219 [==============================] - 3s 15ms/step - loss: 0.0210 - last_time_step_mse: 0.0096 - val_loss: 0.0207 - val_last_time_step_mse: 0.0091\n",
            "Epoch 12/20\n",
            "219/219 [==============================] - 3s 15ms/step - loss: 0.0207 - last_time_step_mse: 0.0093 - val_loss: 0.0206 - val_last_time_step_mse: 0.0089\n",
            "Epoch 13/20\n",
            "219/219 [==============================] - 3s 15ms/step - loss: 0.0205 - last_time_step_mse: 0.0091 - val_loss: 0.0203 - val_last_time_step_mse: 0.0088\n",
            "Epoch 14/20\n",
            "219/219 [==============================] - 3s 15ms/step - loss: 0.0203 - last_time_step_mse: 0.0089 - val_loss: 0.0202 - val_last_time_step_mse: 0.0088\n",
            "Epoch 15/20\n",
            "219/219 [==============================] - 3s 15ms/step - loss: 0.0200 - last_time_step_mse: 0.0088 - val_loss: 0.0202 - val_last_time_step_mse: 0.0089\n",
            "Epoch 16/20\n",
            "219/219 [==============================] - 3s 15ms/step - loss: 0.0197 - last_time_step_mse: 0.0085 - val_loss: 0.0196 - val_last_time_step_mse: 0.0082\n",
            "Epoch 17/20\n",
            "219/219 [==============================] - 3s 16ms/step - loss: 0.0195 - last_time_step_mse: 0.0083 - val_loss: 0.0195 - val_last_time_step_mse: 0.0083\n",
            "Epoch 18/20\n",
            "219/219 [==============================] - 3s 15ms/step - loss: 0.0194 - last_time_step_mse: 0.0082 - val_loss: 0.0195 - val_last_time_step_mse: 0.0085\n",
            "Epoch 19/20\n",
            "219/219 [==============================] - 3s 15ms/step - loss: 0.0191 - last_time_step_mse: 0.0080 - val_loss: 0.0191 - val_last_time_step_mse: 0.0078\n",
            "Epoch 20/20\n",
            "219/219 [==============================] - 3s 15ms/step - loss: 0.0190 - last_time_step_mse: 0.0080 - val_loss: 0.0187 - val_last_time_step_mse: 0.0074\n"
          ],
          "name": "stdout"
        }
      ]
    }
  ]
}