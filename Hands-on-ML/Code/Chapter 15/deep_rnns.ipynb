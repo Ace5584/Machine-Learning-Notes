{
  "nbformat": 4,
  "nbformat_minor": 0,
  "metadata": {
    "colab": {
      "name": "deep-rnns.ipynb",
      "provenance": []
    },
    "kernelspec": {
      "name": "python3",
      "display_name": "Python 3"
    }
  },
  "cells": [
    {
      "cell_type": "code",
      "metadata": {
        "id": "5eXbRz1YgNzV"
      },
      "source": [
        "import tensorflow as tf\n",
        "from tensorflow import keras\n",
        "import numpy as np\n",
        "import matplotlib.pyplot as plt\n",
        "\n",
        "def generate_time_series(batch_size, n_steps):\n",
        "  freq1, freq2, offsets1, offsets2 = np.random.rand(4, batch_size, 1)\n",
        "  time = np.linspace(0, 1, n_steps)\n",
        "  series = 0.5 * np.sin((time - offsets1) * (freq1 * 10 + 10))\n",
        "  series += 0.2 * np.sin((time - offsets2) * (freq2 * 20 + 20))\n",
        "  series += 0.1 * (np.random.rand(batch_size, n_steps) - 0.5)\n",
        "  return series[..., np.newaxis].astype(np.float32)\n",
        "\n",
        "n_steps = 50\n",
        "series = generate_time_series(10000, n_steps + 1)\n",
        "X_train, y_train = series[:7000, :n_steps], series[:7000, -1]\n",
        "X_valid, y_valid = series[7000:9000, :n_steps], series[7000:9000, -1]\n",
        "X_test, y_test = series[9000:, :n_steps], series[9000:, -1]"
      ],
      "execution_count": 4,
      "outputs": []
    },
    {
      "cell_type": "code",
      "metadata": {
        "colab": {
          "base_uri": "https://localhost:8080/"
        },
        "id": "eBlu40S2gQ6v",
        "outputId": "4f2cc112-0cab-4b80-dbf6-c9315b745306"
      },
      "source": [
        "model = keras.models.Sequential([\n",
        "  keras.layers.SimpleRNN(20, return_sequences=True, input_shape=[None, 1]),\n",
        "  keras.layers.SimpleRNN(20, return_sequences=True),\n",
        "  keras.layers.SimpleRNN(1)\n",
        "])\n",
        "\n",
        "model.compile(optimizer=\"adam\", loss=\"mse\")\n",
        "\n",
        "history = model.fit(X_train, y_train, epochs=20, validation_data=\n",
        "                    (X_valid, y_valid))"
      ],
      "execution_count": 3,
      "outputs": [
        {
          "output_type": "stream",
          "text": [
            "Epoch 1/20\n",
            "219/219 [==============================] - 5s 24ms/step - loss: 0.0128 - val_loss: 0.0042\n",
            "Epoch 2/20\n",
            "219/219 [==============================] - 5s 22ms/step - loss: 0.0037 - val_loss: 0.0032\n",
            "Epoch 3/20\n",
            "219/219 [==============================] - 5s 22ms/step - loss: 0.0033 - val_loss: 0.0030\n",
            "Epoch 4/20\n",
            "219/219 [==============================] - 5s 22ms/step - loss: 0.0032 - val_loss: 0.0033\n",
            "Epoch 5/20\n",
            "219/219 [==============================] - 5s 22ms/step - loss: 0.0031 - val_loss: 0.0029\n",
            "Epoch 6/20\n",
            "219/219 [==============================] - 5s 22ms/step - loss: 0.0030 - val_loss: 0.0028\n",
            "Epoch 7/20\n",
            "219/219 [==============================] - 5s 21ms/step - loss: 0.0030 - val_loss: 0.0028\n",
            "Epoch 8/20\n",
            "219/219 [==============================] - 5s 21ms/step - loss: 0.0029 - val_loss: 0.0027\n",
            "Epoch 9/20\n",
            "219/219 [==============================] - 5s 22ms/step - loss: 0.0029 - val_loss: 0.0029\n",
            "Epoch 10/20\n",
            "219/219 [==============================] - 5s 22ms/step - loss: 0.0029 - val_loss: 0.0027\n",
            "Epoch 11/20\n",
            "219/219 [==============================] - 5s 21ms/step - loss: 0.0029 - val_loss: 0.0028\n",
            "Epoch 12/20\n",
            "219/219 [==============================] - 5s 21ms/step - loss: 0.0029 - val_loss: 0.0027\n",
            "Epoch 13/20\n",
            "219/219 [==============================] - 5s 21ms/step - loss: 0.0028 - val_loss: 0.0026\n",
            "Epoch 14/20\n",
            "219/219 [==============================] - 5s 22ms/step - loss: 0.0028 - val_loss: 0.0026\n",
            "Epoch 15/20\n",
            "219/219 [==============================] - 5s 25ms/step - loss: 0.0027 - val_loss: 0.0025\n",
            "Epoch 16/20\n",
            "219/219 [==============================] - 5s 22ms/step - loss: 0.0028 - val_loss: 0.0025\n",
            "Epoch 17/20\n",
            "219/219 [==============================] - 5s 22ms/step - loss: 0.0028 - val_loss: 0.0026\n",
            "Epoch 18/20\n",
            "219/219 [==============================] - 5s 22ms/step - loss: 0.0028 - val_loss: 0.0025\n",
            "Epoch 19/20\n",
            "219/219 [==============================] - 5s 22ms/step - loss: 0.0028 - val_loss: 0.0031\n",
            "Epoch 20/20\n",
            "219/219 [==============================] - 5s 23ms/step - loss: 0.0028 - val_loss: 0.0026\n"
          ],
          "name": "stdout"
        }
      ]
    },
    {
      "cell_type": "code",
      "metadata": {
        "colab": {
          "base_uri": "https://localhost:8080/",
          "height": 295
        },
        "id": "PxHQLh07g8jH",
        "outputId": "322a9a3c-0490-4708-ce6b-8897b239b244"
      },
      "source": [
        "plt.plot(history.history['loss'])\n",
        "plt.plot(history.history['val_loss'])\n",
        "plt.title('model loss')\n",
        "plt.ylabel('loss')\n",
        "plt.xlabel('epoch')\n",
        "plt.legend(['train', 'test'], loc='upper left')\n",
        "plt.show()"
      ],
      "execution_count": 5,
      "outputs": [
        {
          "output_type": "display_data",
          "data": {
            "image/png": "[encoded data removed]",
            "text/plain": [
              "<Figure size 432x288 with 1 Axes>"
            ]
          },
          "metadata": {
            "tags": [],
            "needs_background": "light"
          }
        }
      ]
    }
  ]
}