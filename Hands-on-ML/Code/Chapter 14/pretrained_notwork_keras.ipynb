{
  "nbformat": 4,
  "nbformat_minor": 0,
  "metadata": {
    "colab": {
      "name": "pretrained-notwork-keras.ipynb",
      "provenance": []
    },
    "kernelspec": {
      "name": "python3",
      "display_name": "Python 3"
    }
  },
  "cells": [
    {
      "cell_type": "code",
      "metadata": {
        "id": "MslMs69-JEIA"
      },
      "source": [
        "import tensorflow as tf\n",
        "import numpy as np\n",
        "from tensorflow import keras\n",
        "from sklearn.datasets import load_sample_image"
      ],
      "execution_count": 6,
      "outputs": []
    },
    {
      "cell_type": "code",
      "metadata": {
        "id": "uPuRzEehJeKh"
      },
      "source": [
        "china = load_sample_image(\"china.jpg\") / 255\n",
        "flower = load_sample_image(\"flower.jpg\") / 255\n",
        "images = np.array([china, flower])\n",
        "\n",
        "model = keras.applications.resnet50.ResNet50(weights=\"imagenet\")\n",
        "image_resized = tf.image.resize(images, [224, 224])"
      ],
      "execution_count": 7,
      "outputs": []
    },
    {
      "cell_type": "code",
      "metadata": {
        "id": "S5Bp11OYKIzg"
      },
      "source": [
        "inputs = keras.applications.resnet50.preprocess_input(image_resized * 255)\n",
        "Y_proba = model.predict(inputs)"
      ],
      "execution_count": 13,
      "outputs": []
    },
    {
      "cell_type": "code",
      "metadata": {
        "id": "H4Ys8BUwL1nx",
        "outputId": "bc244cac-0fe2-41a0-ca9e-df4fc4bc3eaf",
        "colab": {
          "base_uri": "https://localhost:8080/"
        }
      },
      "source": [
        "top_K = keras.applications.resnet50.decode_predictions(Y_proba, top=5)\n",
        "for image_index in range(len(images)):\n",
        "  print(\"Image #{}\".format(image_index))\n",
        "  for class_id, name, y_proba in top_K[image_index]:\n",
        "    print(\" {} - {:12s} {:.2f}%\".format(class_id, name, y_proba * 100))\n",
        "  print()"
      ],
      "execution_count": 15,
      "outputs": [
        {
          "output_type": "stream",
          "text": [
            "Image #0\n",
            " n02825657 - bell_cote    82.35%\n",
            " n03877845 - palace       6.75%\n",
            " n03781244 - monastery    4.19%\n",
            " n02980441 - castle       3.16%\n",
            " n03028079 - church       1.00%\n",
            "\n",
            "Image #1\n",
            " n03530642 - honeycomb    49.83%\n",
            " n13040303 - stinkhorn    33.96%\n",
            " n02206856 - bee          4.35%\n",
            " n11939491 - daisy        3.23%\n",
            " n12985857 - coral_fungus 2.66%\n",
            "\n"
          ],
          "name": "stdout"
        }
      ]
    }
  ]
}