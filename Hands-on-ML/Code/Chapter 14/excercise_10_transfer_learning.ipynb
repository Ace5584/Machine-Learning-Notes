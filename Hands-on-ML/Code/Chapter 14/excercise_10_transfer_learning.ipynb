{
  "nbformat": 4,
  "nbformat_minor": 0,
  "metadata": {
    "colab": {
      "name": "excercise-10-transfer-learning.ipynb",
      "provenance": []
    },
    "kernelspec": {
      "name": "python3",
      "display_name": "Python 3"
    },
    "accelerator": "GPU"
  },
  "cells": [
    {
      "cell_type": "code",
      "metadata": {
        "id": "1EnIwOdpqGri"
      },
      "source": [
        "import tensorflow as tf\n",
        "import numpy as np\n",
        "from tensorflow import keras\n",
        "import matplotlib.pyplot as plt"
      ],
      "execution_count": null,
      "outputs": []
    },
    {
      "cell_type": "code",
      "metadata": {
        "colab": {
          "base_uri": "https://localhost:8080/"
        },
        "id": "RzOCQX77p4GJ",
        "outputId": "d0cd95f9-6434-4527-84a5-a1169f88bb61"
      },
      "source": [
        "(train_data, train_label), (test_data, test_label) = keras.datasets.cifar10.load_data()\n",
        "train_data = train_data/255\n",
        "test_data = test_data/255\n",
        "train_data.shape"
      ],
      "execution_count": null,
      "outputs": [
        {
          "output_type": "execute_result",
          "data": {
            "text/plain": [
              "(50000, 32, 32, 3)"
            ]
          },
          "metadata": {
            "tags": []
          },
          "execution_count": 2
        }
      ]
    },
    {
      "cell_type": "code",
      "metadata": {
        "colab": {
          "base_uri": "https://localhost:8080/"
        },
        "id": "gQdfpH7XqPi3",
        "outputId": "0b9e9493-f268-478b-dd81-5245608dff2a"
      },
      "source": [
        "base_model = keras.applications.VGG19(include_top=False, input_shape=(32, 32, 3),\n",
        "                                      classes=10, weights=\"imagenet\")\n",
        "model = keras.models.Sequential()\n",
        "model.add(base_model)\n",
        "model.add(keras.layers.Flatten())\n",
        "model.add(keras.layers.Dropout(0.5))\n",
        "model.add(keras.layers.Dense(1024,activation='relu',input_dim=512))\n",
        "model.add(keras.layers.Dense(512,activation='relu')) \n",
        "model.add(keras.layers.Dense(256,activation='relu')) \n",
        "model.add(keras.layers.Dense(128,activation='relu'))\n",
        "model.add(keras.layers.Dense(10, activation='softmax'))\n",
        "\n",
        "model.compile(optimizer=keras.optimizers.SGD(lr=0.001,momentum=.9,nesterov=False), \n",
        "                   loss=\"sparse_categorical_crossentropy\", metrics=\"acc\")\n",
        "\n",
        "model.summary()"
      ],
      "execution_count": null,
      "outputs": [
        {
          "output_type": "stream",
          "text": [
            "Model: \"sequential_1\"\n",
            "_________________________________________________________________\n",
            "Layer (type)                 Output Shape              Param #   \n",
            "=================================================================\n",
            "vgg19 (Functional)           (None, 1, 1, 512)         20024384  \n",
            "_________________________________________________________________\n",
            "flatten_1 (Flatten)          (None, 512)               0         \n",
            "_________________________________________________________________\n",
            "dropout_2 (Dropout)          (None, 512)               0         \n",
            "_________________________________________________________________\n",
            "dense_5 (Dense)              (None, 1024)              525312    \n",
            "_________________________________________________________________\n",
            "dense_6 (Dense)              (None, 512)               524800    \n",
            "_________________________________________________________________\n",
            "dense_7 (Dense)              (None, 256)               131328    \n",
            "_________________________________________________________________\n",
            "dense_8 (Dense)              (None, 128)               32896     \n",
            "_________________________________________________________________\n",
            "dense_9 (Dense)              (None, 10)                1290      \n",
            "=================================================================\n",
            "Total params: 21,240,010\n",
            "Trainable params: 21,240,010\n",
            "Non-trainable params: 0\n",
            "_________________________________________________________________\n"
          ],
          "name": "stdout"
        }
      ]
    },
    {
      "cell_type": "code",
      "metadata": {
        "colab": {
          "base_uri": "https://localhost:8080/"
        },
        "id": "IA6se6Igrpwj",
        "outputId": "1ab676d4-9791-4906-b9bf-26b655f501f3"
      },
      "source": [
        "history = model.fit(train_data, train_label, epochs=10, validation_data=(test_data, test_label))"
      ],
      "execution_count": null,
      "outputs": [
        {
          "output_type": "stream",
          "text": [
            "Epoch 1/10\n",
            "   2/1563 [..............................] - ETA: 1:06 - loss: 2.3269 - acc: 0.0938WARNING:tensorflow:Callbacks method `on_train_batch_end` is slow compared to the batch time (batch time: 0.0183s vs `on_train_batch_end` time: 0.0336s). Check your callbacks.\n",
            "1563/1563 [==============================] - 62s 40ms/step - loss: 1.1122 - acc: 0.6133 - val_loss: 0.6631 - val_acc: 0.7738\n",
            "Epoch 2/10\n",
            "1563/1563 [==============================] - 62s 39ms/step - loss: 0.6652 - acc: 0.7778 - val_loss: 0.6008 - val_acc: 0.7976\n",
            "Epoch 3/10\n",
            "1563/1563 [==============================] - 62s 40ms/step - loss: 0.5179 - acc: 0.8266 - val_loss: 0.5763 - val_acc: 0.8104\n",
            "Epoch 4/10\n",
            "1563/1563 [==============================] - 62s 40ms/step - loss: 0.4232 - acc: 0.8586 - val_loss: 0.5357 - val_acc: 0.8247\n",
            "Epoch 5/10\n",
            "1563/1563 [==============================] - 62s 40ms/step - loss: 0.3438 - acc: 0.8859 - val_loss: 0.4747 - val_acc: 0.8472\n",
            "Epoch 6/10\n",
            "1563/1563 [==============================] - 62s 40ms/step - loss: 0.2844 - acc: 0.9045 - val_loss: 0.5374 - val_acc: 0.8363\n",
            "Epoch 7/10\n",
            "1563/1563 [==============================] - 62s 40ms/step - loss: 0.2337 - acc: 0.9221 - val_loss: 0.4851 - val_acc: 0.8480\n",
            "Epoch 8/10\n",
            "1563/1563 [==============================] - 62s 40ms/step - loss: 0.1871 - acc: 0.9369 - val_loss: 0.5291 - val_acc: 0.8427\n",
            "Epoch 9/10\n",
            "1563/1563 [==============================] - 62s 40ms/step - loss: 0.1551 - acc: 0.9468 - val_loss: 0.5293 - val_acc: 0.8524\n",
            "Epoch 10/10\n",
            "1563/1563 [==============================] - 62s 40ms/step - loss: 0.1285 - acc: 0.9574 - val_loss: 0.5383 - val_acc: 0.8577\n"
          ],
          "name": "stdout"
        }
      ]
    },
    {
      "cell_type": "code",
      "metadata": {
        "colab": {
          "base_uri": "https://localhost:8080/",
          "height": 233
        },
        "id": "Kp-m4Bls1u_X",
        "outputId": "c9a4e1f8-3d20-480e-f3db-9d56bf3878a9"
      },
      "source": [
        "plt.plot(history.history['acc'])\n",
        "plt.plot(history.history['val_accuracy'])\n",
        "plt.title('model accuracy')\n",
        "plt.ylabel('accuracy')\n",
        "plt.xlabel('epoch')\n",
        "plt.legend(['train', 'test'], loc='upper left')\n",
        "plt.show()"
      ],
      "execution_count": null,
      "outputs": [
        {
          "output_type": "error",
          "ename": "KeyError",
          "evalue": "ignored",
          "traceback": [
            "\u001b[0;31m---------------------------------------------------------------------------\u001b[0m",
            "\u001b[0;31mKeyError\u001b[0m                                  Traceback (most recent call last)",
            "\u001b[0;32m<ipython-input-7-3064e8782ad5>\u001b[0m in \u001b[0;36m<module>\u001b[0;34m()\u001b[0m\n\u001b[0;32m----> 1\u001b[0;31m \u001b[0mplt\u001b[0m\u001b[0;34m.\u001b[0m\u001b[0mplot\u001b[0m\u001b[0;34m(\u001b[0m\u001b[0mhistory\u001b[0m\u001b[0;34m.\u001b[0m\u001b[0mhistory\u001b[0m\u001b[0;34m[\u001b[0m\u001b[0;34m'accuracy'\u001b[0m\u001b[0;34m]\u001b[0m\u001b[0;34m)\u001b[0m\u001b[0;34m\u001b[0m\u001b[0;34m\u001b[0m\u001b[0m\n\u001b[0m\u001b[1;32m      2\u001b[0m \u001b[0mplt\u001b[0m\u001b[0;34m.\u001b[0m\u001b[0mplot\u001b[0m\u001b[0;34m(\u001b[0m\u001b[0mhistory\u001b[0m\u001b[0;34m.\u001b[0m\u001b[0mhistory\u001b[0m\u001b[0;34m[\u001b[0m\u001b[0;34m'val_accuracy'\u001b[0m\u001b[0;34m]\u001b[0m\u001b[0;34m)\u001b[0m\u001b[0;34m\u001b[0m\u001b[0;34m\u001b[0m\u001b[0m\n\u001b[1;32m      3\u001b[0m \u001b[0mplt\u001b[0m\u001b[0;34m.\u001b[0m\u001b[0mtitle\u001b[0m\u001b[0;34m(\u001b[0m\u001b[0;34m'model accuracy'\u001b[0m\u001b[0;34m)\u001b[0m\u001b[0;34m\u001b[0m\u001b[0;34m\u001b[0m\u001b[0m\n\u001b[1;32m      4\u001b[0m \u001b[0mplt\u001b[0m\u001b[0;34m.\u001b[0m\u001b[0mylabel\u001b[0m\u001b[0;34m(\u001b[0m\u001b[0;34m'accuracy'\u001b[0m\u001b[0;34m)\u001b[0m\u001b[0;34m\u001b[0m\u001b[0;34m\u001b[0m\u001b[0m\n\u001b[1;32m      5\u001b[0m \u001b[0mplt\u001b[0m\u001b[0;34m.\u001b[0m\u001b[0mxlabel\u001b[0m\u001b[0;34m(\u001b[0m\u001b[0;34m'epoch'\u001b[0m\u001b[0;34m)\u001b[0m\u001b[0;34m\u001b[0m\u001b[0;34m\u001b[0m\u001b[0m\n",
            "\u001b[0;31mKeyError\u001b[0m: 'accuracy'"
          ]
        }
      ]
    }
  ]
}