{
  "nbformat": 4,
  "nbformat_minor": 0,
  "metadata": {
    "colab": {
      "name": "CNN_Fasion_MNIST.ipynb",
      "provenance": []
    },
    "kernelspec": {
      "name": "python3",
      "display_name": "Python 3"
    },
    "accelerator": "GPU"
  },
  "cells": [
    {
      "cell_type": "code",
      "metadata": {
        "id": "tePd_PINVwfi"
      },
      "source": [
        "import tensorflow as tf\n",
        "import matplotlib.pyplot as plt\n",
        "from tensorflow import keras\n",
        "import numpy as np"
      ],
      "execution_count": 43,
      "outputs": []
    },
    {
      "cell_type": "code",
      "metadata": {
        "id": "1xNYqN9KAV4j",
        "outputId": "f8b69031-2683-43b3-89ca-8f539ee9fa9f",
        "colab": {
          "base_uri": "https://localhost:8080/"
        }
      },
      "source": [
        "(X_train_full, y_train_full), (X_test, y_test) = keras.datasets.fashion_mnist.load_data()\n",
        "X_train, X_valid = X_train_full[:-5000], X_train_full[-5000:]\n",
        "y_train, y_valid = y_train_full[:-5000], y_train_full[-5000:]\n",
        "\n",
        "X_mean = X_train.mean(axis=0, keepdims=True)\n",
        "X_std = X_train.std(axis=0, keepdims=True) + 1e-7\n",
        "X_train = (X_train - X_mean) / X_std\n",
        "X_valid = (X_valid - X_mean) / X_std\n",
        "X_test = (X_test - X_mean) / X_std\n",
        "\n",
        "X_train = X_train[..., np.newaxis]\n",
        "X_valid = X_valid[..., np.newaxis]\n",
        "X_test = X_test[..., np.newaxis]\n",
        "\n",
        "from functools import partial\n",
        "\n",
        "DefaultConv2D = partial(keras.layers.Conv2D,\n",
        "                        kernel_size=3, activation='relu', padding=\"SAME\")\n",
        "\n",
        "model = keras.models.Sequential([\n",
        "    DefaultConv2D(filters=64, kernel_size=7, input_shape=[28, 28, 1]),\n",
        "    keras.layers.MaxPooling2D(pool_size=2),\n",
        "    DefaultConv2D(filters=128),\n",
        "    DefaultConv2D(filters=128),\n",
        "    keras.layers.MaxPooling2D(pool_size=2),\n",
        "    DefaultConv2D(filters=256),\n",
        "    DefaultConv2D(filters=256),\n",
        "    keras.layers.MaxPooling2D(pool_size=2),\n",
        "    keras.layers.Flatten(),\n",
        "    keras.layers.Dense(units=128, activation='relu'),\n",
        "    keras.layers.Dropout(0.5),\n",
        "    keras.layers.Dense(units=64, activation='relu'),\n",
        "    keras.layers.Dropout(0.5),\n",
        "    keras.layers.Dense(units=10, activation='softmax'),\n",
        "])\n",
        "\n",
        "model.compile(loss=\"sparse_categorical_crossentropy\", optimizer=\"nadam\", metrics=[\"accuracy\"])\n",
        "history = model.fit(X_train, y_train, epochs=10, validation_data=(X_valid, y_valid))\n",
        "score = model.evaluate(X_test, y_test)\n",
        "X_new = X_test[:10] # pretend we have new images\n",
        "y_pred = model.predict(X_new)"
      ],
      "execution_count": 44,
      "outputs": [
        {
          "output_type": "stream",
          "text": [
            "Epoch 1/10\n",
            "1719/1719 [==============================] - 14s 8ms/step - loss: 0.7251 - accuracy: 0.7449 - val_loss: 0.3605 - val_accuracy: 0.8652\n",
            "Epoch 2/10\n",
            "1719/1719 [==============================] - 13s 8ms/step - loss: 0.4181 - accuracy: 0.8604 - val_loss: 0.3260 - val_accuracy: 0.8808\n",
            "Epoch 3/10\n",
            "1719/1719 [==============================] - 13s 8ms/step - loss: 0.3623 - accuracy: 0.8776 - val_loss: 0.3295 - val_accuracy: 0.8870\n",
            "Epoch 4/10\n",
            "1719/1719 [==============================] - 14s 8ms/step - loss: 0.3361 - accuracy: 0.8882 - val_loss: 0.3010 - val_accuracy: 0.8908\n",
            "Epoch 5/10\n",
            "1719/1719 [==============================] - 13s 8ms/step - loss: 0.3082 - accuracy: 0.8964 - val_loss: 0.2870 - val_accuracy: 0.9052\n",
            "Epoch 6/10\n",
            "1719/1719 [==============================] - 13s 8ms/step - loss: 0.2903 - accuracy: 0.9008 - val_loss: 0.2915 - val_accuracy: 0.8970\n",
            "Epoch 7/10\n",
            "1719/1719 [==============================] - 13s 8ms/step - loss: 0.2776 - accuracy: 0.9050 - val_loss: 0.2852 - val_accuracy: 0.9066\n",
            "Epoch 8/10\n",
            "1719/1719 [==============================] - 13s 8ms/step - loss: 0.2692 - accuracy: 0.9080 - val_loss: 0.2777 - val_accuracy: 0.9058\n",
            "Epoch 9/10\n",
            "1719/1719 [==============================] - 14s 8ms/step - loss: 0.2531 - accuracy: 0.9127 - val_loss: 0.2578 - val_accuracy: 0.9102\n",
            "Epoch 10/10\n",
            "1719/1719 [==============================] - 14s 8ms/step - loss: 0.2540 - accuracy: 0.9138 - val_loss: 0.2992 - val_accuracy: 0.9058\n",
            "313/313 [==============================] - 1s 3ms/step - loss: 0.3251 - accuracy: 0.8974\n"
          ],
          "name": "stdout"
        }
      ]
    }
  ]
}