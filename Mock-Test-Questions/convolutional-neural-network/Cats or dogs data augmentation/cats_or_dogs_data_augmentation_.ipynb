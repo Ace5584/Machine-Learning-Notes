{
  "nbformat": 4,
  "nbformat_minor": 0,
  "metadata": {
    "colab": {
      "name": "cats-or-dogs-data-augmentation .ipynb",
      "provenance": [],
      "collapsed_sections": []
    },
    "kernelspec": {
      "name": "python3",
      "display_name": "Python 3"
    },
    "accelerator": "GPU"
  },
  "cells": [
    {
      "cell_type": "code",
      "metadata": {
        "id": "VX_R8xI7TkDc"
      },
      "source": [
        "# In this exercise you will train a CNN on the FULL Cats-v-dogs dataset\r\n",
        "# This will require you doing a lot of data preprocessing because\r\n",
        "# the dataset isn't split into training and validation for you\r\n",
        "# This code block has all the required inputs\r\n",
        "import os\r\n",
        "import zipfile\r\n",
        "import random\r\n",
        "import tensorflow as tf\r\n",
        "from tensorflow.keras.optimizers import RMSprop\r\n",
        "from tensorflow.keras.preprocessing.image import ImageDataGenerator\r\n",
        "from shutil import copyfile"
      ],
      "execution_count": 1,
      "outputs": []
    },
    {
      "cell_type": "code",
      "metadata": {
        "colab": {
          "base_uri": "https://localhost:8080/"
        },
        "id": "XUZApj7XTlSN",
        "outputId": "363570dc-83c5-4846-e6b6-982494dcefd9"
      },
      "source": [
        "# This code block downloads the full Cats-v-Dogs dataset and stores it as \r\n",
        "# cats-and-dogs.zip. It then unzips it to /tmp\r\n",
        "# which will create a tmp/PetImages directory containing subdirectories\r\n",
        "# called 'Cat' and 'Dog' (that's how the original researchers structured it)\r\n",
        "# If the URL doesn't work, \r\n",
        "# .   visit https://www.microsoft.com/en-us/download/confirmation.aspx?id=54765\r\n",
        "# And right click on the 'Download Manually' link to get a new URL\r\n",
        "\r\n",
        "!wget --no-check-certificate \\\r\n",
        "    \"https://download.microsoft.com/download/3/E/1/3E1C3F21-ECDB-4869-8368-6DEBA77B919F/kagglecatsanddogs_3367a.zip\" \\\r\n",
        "    -O \"/tmp/cats-and-dogs.zip\"\r\n",
        "\r\n",
        "local_zip = '/tmp/cats-and-dogs.zip'\r\n",
        "zip_ref = zipfile.ZipFile(local_zip, 'r')\r\n",
        "zip_ref.extractall('/tmp')\r\n",
        "zip_ref.close()\r\n"
      ],
      "execution_count": 2,
      "outputs": [
        {
          "output_type": "stream",
          "text": [
            "--2020-12-09 22:13:22--  https://download.microsoft.com/download/3/E/1/3E1C3F21-ECDB-4869-8368-6DEBA77B919F/kagglecatsanddogs_3367a.zip\n",
            "Resolving download.microsoft.com (download.microsoft.com)... 23.32.68.203, 2600:1408:9000:1a5::e59, 2600:1408:9000:190::e59\n",
            "Connecting to download.microsoft.com (download.microsoft.com)|23.32.68.203|:443... connected.\n",
            "HTTP request sent, awaiting response... 200 OK\n",
            "Length: 824894548 (787M) [application/octet-stream]\n",
            "Saving to: ‘/tmp/cats-and-dogs.zip’\n",
            "\n",
            "/tmp/cats-and-dogs. 100%[===================>] 786.68M   112MB/s    in 7.0s    \n",
            "\n",
            "2020-12-09 22:13:29 (113 MB/s) - ‘/tmp/cats-and-dogs.zip’ saved [824894548/824894548]\n",
            "\n"
          ],
          "name": "stdout"
        }
      ]
    },
    {
      "cell_type": "code",
      "metadata": {
        "colab": {
          "base_uri": "https://localhost:8080/"
        },
        "id": "_t-cEqZsV46G",
        "outputId": "e7990094-7436-4475-96a3-3caaffe04982"
      },
      "source": [
        "print(len(os.listdir('/tmp/PetImages/Cat/')))\r\n",
        "print(len(os.listdir('/tmp/PetImages/Dog/')))\r\n",
        "\r\n",
        "# Expected Output:\r\n",
        "# 12501\r\n",
        "# 12501"
      ],
      "execution_count": 3,
      "outputs": [
        {
          "output_type": "stream",
          "text": [
            "12501\n",
            "12501\n"
          ],
          "name": "stdout"
        }
      ]
    },
    {
      "cell_type": "code",
      "metadata": {
        "id": "a0CySu86V_KY"
      },
      "source": [
        "# Use os.mkdir to create your directories\r\n",
        "# You will need a directory for cats-v-dogs, and subdirectories for training\r\n",
        "# and testing. These in turn will need subdirectories for 'cats' and 'dogs'\r\n",
        "try:\r\n",
        "    os.mkdir(\"/tmp/cats-v-dogs/\")\r\n",
        "    os.mkdir(\"/tmp/cats-v-dogs/training/\")\r\n",
        "    os.mkdir(\"/tmp/cats-v-dogs/training/cats/\")\r\n",
        "    os.mkdir(\"/tmp/cats-v-dogs/training/dogs/\")\r\n",
        "    os.mkdir(\"/tmp/cats-v-dogs/testing/\")\r\n",
        "    os.mkdir(\"/tmp/cats-v-dogs/testing/cats/\")\r\n",
        "    os.mkdir(\"/tmp/cats-v-dogs/testing/dogs/\")\r\n",
        "except OSError:\r\n",
        "    pass"
      ],
      "execution_count": 4,
      "outputs": []
    },
    {
      "cell_type": "code",
      "metadata": {
        "colab": {
          "base_uri": "https://localhost:8080/"
        },
        "id": "c4v03X2kWF-P",
        "outputId": "4320aded-18a4-4b58-96cd-a7ba02440806"
      },
      "source": [
        "# Write a python function called split_data which takes\r\n",
        "# a SOURCE directory containing the files\r\n",
        "# a TRAINING directory that a portion of the files will be copied to\r\n",
        "# a TESTING directory that a portion of the files will be copie to\r\n",
        "# a SPLIT SIZE to determine the portion\r\n",
        "# The files should also be randomized, so that the training set is a random\r\n",
        "# X% of the files, and the test set is the remaining files\r\n",
        "# SO, for example, if SOURCE is PetImages/Cat, and SPLIT SIZE is .9\r\n",
        "# Then 90% of the images in PetImages/Cat will be copied to the TRAINING dir\r\n",
        "# and 10% of the images will be copied to the TESTING dir\r\n",
        "# Also -- All images should be checked, and if they have a zero file length,\r\n",
        "# they will not be copied over\r\n",
        "#\r\n",
        "# os.listdir(DIRECTORY) gives you a listing of the contents of that directory\r\n",
        "# os.path.getsize(PATH) gives you the size of the file\r\n",
        "# copyfile(source, destination) copies a file from source to destination\r\n",
        "# random.sample(list, len(list)) shuffles a list\r\n",
        "def split_data(SOURCE, TRAINING, TESTING, SPLIT_SIZE):\r\n",
        "  data_list = os.listdir(SOURCE)\r\n",
        "  data_len = len(os.listdir(SOURCE))\r\n",
        "  train_size = int(data_len * SPLIT_SIZE)\r\n",
        "  test_size = data_len - train_size\r\n",
        "  train_data = data_list[:train_size+1]\r\n",
        "  test_data = data_list[train_size + 1:data_len]\r\n",
        "  for path in train_data:\r\n",
        "    if os.path.getsize(SOURCE+path) == 0:\r\n",
        "      print(path, \"is zero length, so ignoring\")\r\n",
        "    else:\r\n",
        "      copyfile(SOURCE+path, TRAINING+path)\r\n",
        "  for path in test_data:\r\n",
        "    if os.path.getsize(SOURCE+path) == 0:\r\n",
        "      print(path, \"is zero length, so ignoring\")\r\n",
        "    else:\r\n",
        "      copyfile(SOURCE+path, TESTING+path)  \r\n",
        "\r\n",
        "CAT_SOURCE_DIR = \"/tmp/PetImages/Cat/\"\r\n",
        "TRAINING_CATS_DIR = \"/tmp/cats-v-dogs/training/cats/\"\r\n",
        "TESTING_CATS_DIR = \"/tmp/cats-v-dogs/testing/cats/\"\r\n",
        "DOG_SOURCE_DIR = \"/tmp/PetImages/Dog/\"\r\n",
        "TRAINING_DOGS_DIR = \"/tmp/cats-v-dogs/training/dogs/\"\r\n",
        "TESTING_DOGS_DIR = \"/tmp/cats-v-dogs/testing/dogs/\"\r\n",
        "\r\n",
        "split_size = .9\r\n",
        "split_data(CAT_SOURCE_DIR, TRAINING_CATS_DIR, TESTING_CATS_DIR, split_size)\r\n",
        "split_data(DOG_SOURCE_DIR, TRAINING_DOGS_DIR, TESTING_DOGS_DIR, split_size)\r\n",
        "\r\n",
        "# Expected output\r\n",
        "# 666.jpg is zero length, so ignoring\r\n",
        "# 11702.jpg is zero length, so ignoring"
      ],
      "execution_count": 5,
      "outputs": [
        {
          "output_type": "stream",
          "text": [
            "666.jpg is zero length, so ignoring\n",
            "11702.jpg is zero length, so ignoring\n"
          ],
          "name": "stdout"
        }
      ]
    },
    {
      "cell_type": "code",
      "metadata": {
        "colab": {
          "base_uri": "https://localhost:8080/"
        },
        "id": "mibzf6F3WD3A",
        "outputId": "329053c0-6e86-4442-dc2e-855582468449"
      },
      "source": [
        "print(len(os.listdir('/tmp/cats-v-dogs/training/cats/')))\r\n",
        "print(len(os.listdir('/tmp/cats-v-dogs/training/dogs/')))\r\n",
        "print(len(os.listdir('/tmp/cats-v-dogs/testing/cats/')))\r\n",
        "print(len(os.listdir('/tmp/cats-v-dogs/testing/dogs/')))\r\n",
        "\r\n",
        "# Expected output:\r\n",
        "# 11250\r\n",
        "# 11250\r\n",
        "# 1250\r\n",
        "# 1250"
      ],
      "execution_count": 6,
      "outputs": [
        {
          "output_type": "stream",
          "text": [
            "11250\n",
            "11250\n",
            "1250\n",
            "1250\n"
          ],
          "name": "stdout"
        }
      ]
    },
    {
      "cell_type": "code",
      "metadata": {
        "id": "8uVKE8OGWN1g"
      },
      "source": [
        "# DEFINE A KERAS MODEL TO CLASSIFY CATS V DOGS\r\n",
        "# USE AT LEAST 3 CONVOLUTION LAYERS\r\n",
        "model = tf.keras.models.Sequential([\r\n",
        "  tf.keras.layers.Conv2D(32, (3,3), activation='relu', input_shape=(300, 300,3)),\r\n",
        "  tf.keras.layers.Conv2D(64, (3,3), activation=\"relu\"),\r\n",
        "  tf.keras.layers.Conv2D(128, (3,3), activation=\"relu\"),\r\n",
        "  tf.keras.layers.Flatten(),\r\n",
        "  tf.keras.layers.Dropout(0.4),\r\n",
        "  tf.keras.layers.Dense(1, activation=\"sigmoid\")\r\n",
        "])\r\n",
        "\r\n",
        "model.compile(optimizer=RMSprop(lr=0.001), loss='binary_crossentropy', metrics=['accuracy'])"
      ],
      "execution_count": 12,
      "outputs": []
    },
    {
      "cell_type": "code",
      "metadata": {
        "colab": {
          "base_uri": "https://localhost:8080/"
        },
        "id": "cgGg0QzlWPl-",
        "outputId": "5ab72b8f-6e0a-48d9-afaf-d6a4e0ad5969"
      },
      "source": [
        "TRAINING_DIR = '/tmp/cats-v-dogs/training'\r\n",
        "train_datagen = ImageDataGenerator(\r\n",
        "      rescale=1./255, rotation_range=40,width_shift_range=0.2, height_shift_range=0.2,\r\n",
        "      shear_range=0.2, zoom_range=0.2, horizontal_flip=True, fill_mode='nearest')\r\n",
        "train_generator = train_datagen.flow_from_directory(TRAINING_DIR,\r\n",
        "  target_size=(300, 300), class_mode=\"binary\", batch_size=10)\r\n",
        "\r\n",
        "VALIDATION_DIR = '/tmp/cats-v-dogs/testing'\r\n",
        "validation_datagen = ImageDataGenerator(\r\n",
        "      rescale=1./255, rotation_range=40,width_shift_range=0.2, height_shift_range=0.2,\r\n",
        "      shear_range=0.2, zoom_range=0.2, horizontal_flip=True, fill_mode='nearest')\r\n",
        "validation_generator = validation_datagen.flow_from_directory(VALIDATION_DIR,\r\n",
        "  target_size=(300, 300), class_mode=\"binary\", batch_size=10)\r\n",
        "\r\n",
        "\r\n",
        "\r\n",
        "# Expected Output:\r\n",
        "# Found 22498 images belonging to 2 classes.\r\n",
        "# Found 2500 images belonging to 2 classes."
      ],
      "execution_count": 13,
      "outputs": [
        {
          "output_type": "stream",
          "text": [
            "Found 22498 images belonging to 2 classes.\n",
            "Found 2500 images belonging to 2 classes.\n"
          ],
          "name": "stdout"
        }
      ]
    },
    {
      "cell_type": "code",
      "metadata": {
        "colab": {
          "base_uri": "https://localhost:8080/"
        },
        "id": "0UqVENdxWRDl",
        "outputId": "160750c3-5a1f-43f6-f39e-04605c3fb46a"
      },
      "source": [
        "history = model.fit(train_generator,\r\n",
        "                              epochs=15,\r\n",
        "                              verbose=1,\r\n",
        "                              validation_data=validation_generator)\r\n",
        "\r\n",
        "# The expectation here is that the model will train, and that accuracy will be > 95% on both training and validation\r\n",
        "# i.e. acc:A1 and val_acc:A2 will be visible, and both A1 and A2 will be > .9"
      ],
      "execution_count": null,
      "outputs": [
        {
          "output_type": "stream",
          "text": [
            "Epoch 1/15\n",
            "   2/2250 [..............................] - ETA: 3:14 - loss: 18.9089 - accuracy: 0.3000WARNING:tensorflow:Callbacks method `on_train_batch_end` is slow compared to the batch time (batch time: 0.0674s vs `on_train_batch_end` time: 0.1086s). Check your callbacks.\n",
            " 976/2250 [============>.................] - ETA: 5:42 - loss: 1.1642 - accuracy: 0.5291"
          ],
          "name": "stdout"
        }
      ]
    },
    {
      "cell_type": "code",
      "metadata": {
        "id": "XbG1Rm_-WS_-"
      },
      "source": [
        "# PLOT LOSS AND ACCURACY\r\n",
        "%matplotlib inline\r\n",
        "\r\n",
        "import matplotlib.image  as mpimg\r\n",
        "import matplotlib.pyplot as plt\r\n",
        "\r\n",
        "#-----------------------------------------------------------\r\n",
        "# Retrieve a list of list results on training and test data\r\n",
        "# sets for each training epoch\r\n",
        "#-----------------------------------------------------------\r\n",
        "acc=history.history['accuracy']\r\n",
        "val_acc=history.history['val_accuracy']\r\n",
        "loss=history.history['loss']\r\n",
        "val_loss=history.history['val_loss']\r\n",
        "\r\n",
        "epochs=range(len(acc)) # Get number of epochs\r\n",
        "\r\n",
        "#------------------------------------------------\r\n",
        "# Plot training and validation accuracy per epoch\r\n",
        "#------------------------------------------------\r\n",
        "plt.plot(epochs, acc, 'r', \"Training Accuracy\")\r\n",
        "plt.plot(epochs, val_acc, 'b', \"Validation Accuracy\")\r\n",
        "plt.title('Training and validation accuracy')\r\n",
        "plt.figure()\r\n",
        "\r\n",
        "#------------------------------------------------\r\n",
        "# Plot training and validation loss per epoch\r\n",
        "#------------------------------------------------\r\n",
        "plt.plot(epochs, loss, 'r', \"Training Loss\")\r\n",
        "plt.plot(epochs, val_loss, 'b', \"Validation Loss\")\r\n",
        "\r\n",
        "\r\n",
        "plt.title('Training and validation loss')\r\n",
        "\r\n",
        "# Desired output. Charts with training and validation metrics. No crash :)"
      ],
      "execution_count": null,
      "outputs": []
    },
    {
      "cell_type": "code",
      "metadata": {
        "id": "Xy7FFtN7WUhS"
      },
      "source": [
        "# Here's a codeblock just for fun. You should be able to upload an image here \r\n",
        "# and have it classified without crashing\r\n",
        "\r\n",
        "import numpy as np\r\n",
        "from google.colab import files\r\n",
        "from keras.preprocessing import image\r\n",
        "\r\n",
        "uploaded = files.upload()\r\n",
        "\r\n",
        "for fn in uploaded.keys():\r\n",
        " \r\n",
        "  # predicting images\r\n",
        "  path = '/content/' + fn\r\n",
        "  img = image.load_img(path, target_size=(# YOUR CODE HERE))\r\n",
        "  x = image.img_to_array(img)\r\n",
        "  x = np.expand_dims(x, axis=0)\r\n",
        "\r\n",
        "  images = np.vstack([x])\r\n",
        "  classes = model.predict(images, batch_size=10)\r\n",
        "  print(classes[0])\r\n",
        "  if classes[0]>0.5:\r\n",
        "    print(fn + \" is a dog\")\r\n",
        "  else:\r\n",
        "    print(fn + \" is a cat\")"
      ],
      "execution_count": null,
      "outputs": []
    }
  ]
}