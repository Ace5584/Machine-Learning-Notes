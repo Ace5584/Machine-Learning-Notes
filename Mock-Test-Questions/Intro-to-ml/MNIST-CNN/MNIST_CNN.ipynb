{
  "nbformat": 4,
  "nbformat_minor": 0,
  "metadata": {
    "colab": {
      "name": "MNIST-CNN.ipynb",
      "provenance": []
    },
    "kernelspec": {
      "name": "python3",
      "display_name": "Python 3"
    },
    "accelerator": "GPU"
  },
  "cells": [
    {
      "cell_type": "markdown",
      "metadata": {
        "id": "T0J8i90SB43L"
      },
      "source": [
        "## Exercise 3\n",
        "In the videos you looked at how you would improve Fashion MNIST using Convolutions. For your exercise see if you can improve MNIST to 99.8% accuracy or more using only a single convolutional layer and a single MaxPooling 2D. You should stop training once the accuracy goes above this amount. It should happen in less than 20 epochs, so it's ok to hard code the number of epochs for training, but your training must end once it hits the above metric. If it doesn't, then you'll need to redesign your layers.\n",
        "\n",
        "I've started the code for you -- you need to finish it!\n",
        "\n",
        "When 99.8% accuracy has been hit, you should print out the string \"Reached 99.8% accuracy so cancelling training!\"\n"
      ]
    },
    {
      "cell_type": "code",
      "metadata": {
        "id": "5UIb2ZaOB_vC"
      },
      "source": [
        "import tensorflow as tf\n",
        "from tensorflow import keras"
      ],
      "execution_count": 2,
      "outputs": []
    },
    {
      "cell_type": "code",
      "metadata": {
        "colab": {
          "base_uri": "https://localhost:8080/"
        },
        "id": "ol0O1h5xBvXl",
        "outputId": "ecb945e7-4021-4382-8d99-62031d8fc7ea"
      },
      "source": [
        "class myCallback(tf.keras.callbacks.Callback):\n",
        "      def on_epoch_end(self, epoch, logs={}):\n",
        "        if(logs.get('acc')>0.998):\n",
        "          print(\"\\nReached 99.8% accuracy so cancelling training!\")\n",
        "          self.model.stop_training = True\n",
        "\n",
        "callback = myCallback()\n",
        "\n",
        "mnist = tf.keras.datasets.mnist\n",
        "(training_images, training_labels), (test_images, test_labels) = mnist.load_data()\n",
        "\n",
        "training_images = training_images.reshape(60000, 28, 28, 1)\n",
        "training_images = training_images / 255\n",
        "test_images = test_images.reshape(10000, 28, 28, 1)\n",
        "test_images = test_images / 255\n",
        "\n",
        "model = tf.keras.models.Sequential([\n",
        "  keras.layers.Conv2D(64, (3,3), activation=\"relu\", input_shape=[28, 28, 1]),\n",
        "  keras.layers.MaxPooling2D(2),\n",
        "  keras.layers.Conv2D(64, (3,3), activation=\"relu\"),\n",
        "  keras.layers.MaxPooling2D(2),\n",
        "  keras.layers.Flatten(),\n",
        "  keras.layers.Dense(256, activation=\"relu\"),\n",
        "  keras.layers.Dense(128, activation=\"relu\"),\n",
        "  keras.layers.Dense(10, activation=\"softmax\")\n",
        "])\n",
        "\n",
        "model.compile(optimizer=\"adam\", \n",
        "              loss=keras.losses.sparse_categorical_crossentropy, metrics=\"acc\")\n",
        "\n",
        "history = model.fit(training_images, training_labels, epochs=20, \n",
        "          validation_data=(test_images, test_labels), callbacks=[callback])\n"
      ],
      "execution_count": 4,
      "outputs": [
        {
          "output_type": "stream",
          "text": [
            "Epoch 1/20\n",
            "1875/1875 [==============================] - 5s 3ms/step - loss: 0.1213 - acc: 0.9626 - val_loss: 0.0419 - val_acc: 0.9860\n",
            "Epoch 2/20\n",
            "1875/1875 [==============================] - 5s 3ms/step - loss: 0.0394 - acc: 0.9875 - val_loss: 0.0337 - val_acc: 0.9895\n",
            "Epoch 3/20\n",
            "1875/1875 [==============================] - 6s 3ms/step - loss: 0.0283 - acc: 0.9911 - val_loss: 0.0563 - val_acc: 0.9835\n",
            "Epoch 4/20\n",
            "1875/1875 [==============================] - 5s 3ms/step - loss: 0.0217 - acc: 0.9930 - val_loss: 0.0394 - val_acc: 0.9886\n",
            "Epoch 5/20\n",
            "1875/1875 [==============================] - 5s 3ms/step - loss: 0.0161 - acc: 0.9950 - val_loss: 0.0287 - val_acc: 0.9903\n",
            "Epoch 6/20\n",
            "1875/1875 [==============================] - 5s 3ms/step - loss: 0.0134 - acc: 0.9958 - val_loss: 0.0409 - val_acc: 0.9893\n",
            "Epoch 7/20\n",
            "1875/1875 [==============================] - 5s 3ms/step - loss: 0.0114 - acc: 0.9966 - val_loss: 0.0302 - val_acc: 0.9907\n",
            "Epoch 8/20\n",
            "1875/1875 [==============================] - 5s 3ms/step - loss: 0.0097 - acc: 0.9969 - val_loss: 0.0315 - val_acc: 0.9920\n",
            "Epoch 9/20\n",
            "1875/1875 [==============================] - 5s 3ms/step - loss: 0.0078 - acc: 0.9977 - val_loss: 0.0523 - val_acc: 0.9877\n",
            "Epoch 10/20\n",
            "1875/1875 [==============================] - 5s 3ms/step - loss: 0.0094 - acc: 0.9971 - val_loss: 0.0437 - val_acc: 0.9900\n",
            "Epoch 11/20\n",
            "1873/1875 [============================>.] - ETA: 0s - loss: 0.0060 - acc: 0.9981\n",
            "Reached 99.8% accuracy so cancelling training!\n",
            "1875/1875 [==============================] - 5s 3ms/step - loss: 0.0060 - acc: 0.9981 - val_loss: 0.0373 - val_acc: 0.9920\n"
          ],
          "name": "stdout"
        }
      ]
    }
  ]
}