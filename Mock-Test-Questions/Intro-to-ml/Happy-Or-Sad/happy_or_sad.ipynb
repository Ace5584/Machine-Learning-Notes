{
  "nbformat": 4,
  "nbformat_minor": 0,
  "metadata": {
    "colab": {
      "name": "happy-or-sad.ipynb",
      "provenance": []
    },
    "kernelspec": {
      "name": "python3",
      "display_name": "Python 3"
    }
  },
  "cells": [
    {
      "cell_type": "markdown",
      "metadata": {
        "id": "pUAF6Tr0ou8n"
      },
      "source": [
        "Below is code with a link to a happy or sad dataset which contains 80 images, 40 happy and 40 sad. \n",
        "Create a convolutional neural network that trains to 100% accuracy on these images,  which cancels training upon hitting training accuracy of >.999\n",
        "\n",
        "Hint -- it will work best with 3 convolutional layers."
      ]
    },
    {
      "cell_type": "code",
      "metadata": {
        "colab": {
          "base_uri": "https://localhost:8080/"
        },
        "id": "yd76XyKJoa--",
        "outputId": "769b1b3a-ea0e-46bf-9492-589b13efbdcf"
      },
      "source": [
        "import tensorflow as tf\n",
        "from tensorflow import keras\n",
        "import os\n",
        "import zipfile\n",
        "from tensorflow.keras.preprocessing.image import ImageDataGenerator\n",
        "\n",
        "\n",
        "DESIRED_ACCURACY = 0.999\n",
        "\n",
        "!wget --no-check-certificate \\\n",
        "    \"https://storage.googleapis.com/laurencemoroney-blog.appspot.com/happy-or-sad.zip\" \\\n",
        "    -O \"/tmp/happy-or-sad.zip\"\n",
        "\n",
        "zip_ref = zipfile.ZipFile(\"/tmp/happy-or-sad.zip\", 'r')\n",
        "zip_ref.extractall(\"/tmp/h-or-s\")\n",
        "zip_ref.close()\n",
        "\n",
        "class myCallback(tf.keras.callbacks.Callback):\n",
        "      def on_epoch_end(self, epoch, logs={}):\n",
        "        if(logs.get('acc')>DESIRED_ACCURACY):\n",
        "          print(\"\\nReached 99.9% accuracy so cancelling training!\")\n",
        "          self.model.stop_training = True\n",
        "\n",
        "callbacks = myCallback()"
      ],
      "execution_count": 1,
      "outputs": [
        {
          "output_type": "stream",
          "text": [
            "--2020-12-06 23:55:38--  https://storage.googleapis.com/laurencemoroney-blog.appspot.com/happy-or-sad.zip\n",
            "Resolving storage.googleapis.com (storage.googleapis.com)... 74.125.195.128, 74.125.20.128, 74.125.142.128, ...\n",
            "Connecting to storage.googleapis.com (storage.googleapis.com)|74.125.195.128|:443... connected.\n",
            "HTTP request sent, awaiting response... 200 OK\n",
            "Length: 2670333 (2.5M) [application/zip]\n",
            "Saving to: ‘/tmp/happy-or-sad.zip’\n",
            "\n",
            "/tmp/happy-or-sad.z 100%[===================>]   2.55M  --.-KB/s    in 0.02s   \n",
            "\n",
            "2020-12-06 23:55:39 (103 MB/s) - ‘/tmp/happy-or-sad.zip’ saved [2670333/2670333]\n",
            "\n"
          ],
          "name": "stdout"
        }
      ]
    },
    {
      "cell_type": "code",
      "metadata": {
        "id": "OYBcwjucopyp"
      },
      "source": [
        "# This Code Block should Define and Compile the Model\n",
        "model = tf.keras.models.Sequential([\n",
        "  keras.layers.Conv2D(64, (3,3), input_shape=(150, 150, 3), activation=\"relu\"),\n",
        "  keras.layers.MaxPooling2D(2),\n",
        "  keras.layers.Conv2D(128, (3,3), activation=\"relu\"),\n",
        "  keras.layers.MaxPooling2D(2),\n",
        "  keras.layers.Conv2D(128, (3,3), activation=\"relu\"),\n",
        "  keras.layers.MaxPooling2D(2),\n",
        "  keras.layers.Flatten(),\n",
        "  keras.layers.Dense(40, activation=\"relu\"),\n",
        "  keras.layers.Dense(1, activation=\"sigmoid\")\n",
        "])\n",
        "\n",
        "from tensorflow.keras.optimizers import RMSprop\n",
        "\n",
        "model.compile(optimizer=RMSprop(learning_rate=0.001), \n",
        "              loss=\"binary_crossentropy\", metrics=\"acc\")"
      ],
      "execution_count": 11,
      "outputs": []
    },
    {
      "cell_type": "code",
      "metadata": {
        "id": "FO3gagEIoqKV",
        "colab": {
          "base_uri": "https://localhost:8080/"
        },
        "outputId": "220f9503-9704-4ba0-f1d6-d1491240dc4e"
      },
      "source": [
        "# This code block should create an instance of an ImageDataGenerator called train_datagen \n",
        "# And a train_generator by calling train_datagen.flow_from_directory\n",
        "\n",
        "train_datagen = ImageDataGenerator(rescale=1./255)\n",
        "\n",
        "train_generator = train_datagen.flow_from_directory('/tmp/h-or-s', \n",
        "  target_size=(150, 150), batch_size=10, class_mode=\"binary\")\n",
        "\n",
        "# Expected output: 'Found 80 images belonging to 2 classes'"
      ],
      "execution_count": 13,
      "outputs": [
        {
          "output_type": "stream",
          "text": [
            "Found 80 images belonging to 2 classes.\n"
          ],
          "name": "stdout"
        }
      ]
    },
    {
      "cell_type": "code",
      "metadata": {
        "id": "rtrgToZuorzm",
        "colab": {
          "base_uri": "https://localhost:8080/"
        },
        "outputId": "f85a0b03-b95b-4345-8346-2fc38dd3a349"
      },
      "source": [
        "# This code block should call model.fit and train for\n",
        "# a number of epochs. \n",
        "history = model.fit_generator(train_generator, steps_per_epoch=8, epochs=20, callbacks=[callbacks], verbose=1)\n",
        "    \n",
        "# Expected output: \"Reached 99.9% accuracy so cancelling training!\"\""
      ],
      "execution_count": 14,
      "outputs": [
        {
          "output_type": "stream",
          "text": [
            "Epoch 1/20\n",
            "8/8 [==============================] - 6s 768ms/step - loss: 1.0136 - acc: 0.5500\n",
            "Epoch 2/20\n",
            "8/8 [==============================] - 6s 770ms/step - loss: 0.6374 - acc: 0.7125\n",
            "Epoch 3/20\n",
            "8/8 [==============================] - 6s 765ms/step - loss: 0.6804 - acc: 0.8250\n",
            "Epoch 4/20\n",
            "8/8 [==============================] - 6s 761ms/step - loss: 0.1902 - acc: 0.9500\n",
            "Epoch 5/20\n",
            "8/8 [==============================] - 6s 764ms/step - loss: 0.0983 - acc: 0.9625\n",
            "Epoch 6/20\n",
            "8/8 [==============================] - 6s 762ms/step - loss: 0.1438 - acc: 0.9375\n",
            "Epoch 7/20\n",
            "8/8 [==============================] - 6s 762ms/step - loss: 0.0820 - acc: 0.9625\n",
            "Epoch 8/20\n",
            "8/8 [==============================] - ETA: 0s - loss: 0.0174 - acc: 1.0000\n",
            "Reached 99.9% accuracy so cancelling training!\n",
            "8/8 [==============================] - 6s 766ms/step - loss: 0.0174 - acc: 1.0000\n"
          ],
          "name": "stdout"
        }
      ]
    }
  ]
}